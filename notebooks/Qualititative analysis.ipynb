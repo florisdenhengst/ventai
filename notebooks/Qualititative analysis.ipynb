{
 "cells": [
  {
   "cell_type": "code",
   "execution_count": 1,
   "id": "dc59ec5b",
   "metadata": {},
   "outputs": [],
   "source": [
    "import copy\n",
    "from collections.abc import Iterable\n",
    "import functools\n",
    "import itertools\n",
    "import operator\n",
    "from matplotlib import pyplot as plt\n",
    "import matplotlib as mpl\n",
    "\n",
    "mpl.use('pgf')\n",
    "plt.rcParams.update({\n",
    "    \"font.family\": \"serif\",  # use serif/main font for text elements\n",
    "    \"text.usetex\": True,     # use inline math for ticks\n",
    "    \"pgf.rcfonts\": False,    # don't setup fonts from rc parameters\n",
    "    \"text.latex.preamble\":  [r\"\"\"\\usepackage{amssymb}\"\"\", r'\\usepackage{amsmath}'],\n",
    "    })\n",
    "# mpl.verbose.level = 'debug-annoying'\n",
    "\n",
    "\n",
    "import pandas as pd\n",
    "from pandas.api.types import is_numeric_dtype\n",
    "import numpy as np\n",
    "import numpy_ext as npe\n",
    "import math\n",
    "import random\n",
    "from pprint import pprint\n",
    "from scipy.optimize import curve_fit\n",
    "from scipy.stats import poisson\n",
    "from scipy.sparse import hstack, vstack, csr_matrix\n",
    "import scipy\n",
    "\n",
    "from sklearn.cluster import KMeans\n",
    "from sklearn.linear_model import LinearRegression\n",
    "from sklearn.decomposition import PCA\n",
    "from sklearn.impute import KNNImputer\n",
    "from sklearn.preprocessing import Normalizer, StandardScaler, OneHotEncoder\n",
    "from sklearn.model_selection import train_test_split\n",
    "from sklearn import metrics\n",
    "import joblib\n",
    "\n",
    "import seaborn as sns\n",
    "import utils\n",
    "import sys\n",
    "\n",
    "from config import demographics, vital_sign_vars, lab_vars, treatment_vars, vent_vars, guideline_vars, ffill_windows_clinical, SAMPLE_TIME_H\n",
    "from config import fio2_bins, peep_bins, tv_bins"
   ]
  },
  {
   "cell_type": "code",
   "execution_count": 2,
   "id": "7923aa0d",
   "metadata": {},
   "outputs": [],
   "source": [
    "# TEXTWIDTH=390.0 # AI in Medicine\n",
    "TEXTWIDTH=341.43289 # Dissertation\n",
    "inches_per_pt = 1 / 72.27\n",
    "MAX_FIGWIDTH = TEXTWIDTH * inches_per_pt\n",
    "\n",
    "greedy_policy_file = 'models2/mcp_greedy_policy_{}_{}_{}_{}.bin'\n",
    "sm_policy_file = 'models2/mcp_softmax_policy_{}_{}_{}_{}.bin'\n",
    "behavior_policy_train_file = 'models2/clinicians_policy_train_{}{}.bin'\n",
    "behavior_policy_test_file = 'models2/clinicians_policy_test_{}{}.bin'\n",
    "behavior_policy_file = 'models2/clinicians_policy_train_test_{}{}.bin'\n",
    "\n",
    "test_set_file = 'data/test_unshaped_traj_{}.csv'\n",
    "train_set_file = 'data/train_unshaped_traj_{}.csv'"
   ]
  },
  {
   "cell_type": "code",
   "execution_count": 3,
   "id": "95c8b1d2",
   "metadata": {},
   "outputs": [],
   "source": [
    "sm_safe_policy = joblib.load(sm_policy_file.format(0, 'none', 0.0, 0.0))\n",
    "sm_unsafe_policy = joblib.load(sm_policy_file.format(0, 'none', 0.0, 1.0))\n",
    "behavior_policy = joblib.load(behavior_policy_file.format(0, ''))\n",
    "greedy_safe = joblib.load(greedy_policy_file.format(0, 'none', 0.0, 0.0))\n",
    "greedy_unsafe = joblib.load(greedy_policy_file.format(0, 'none', 0.0, 1.0))\n",
    "\n",
    "test_set = pd.read_csv(test_set_file.format(0), low_memory=False)"
   ]
  },
  {
   "cell_type": "code",
   "execution_count": 4,
   "id": "b00d2195",
   "metadata": {},
   "outputs": [],
   "source": [
    "actions_greedy_safe = test_set.state.apply(lambda x: greedy_safe[x])\n",
    "actions_greedy_unsafe = test_set.state.apply(lambda x: greedy_unsafe[x])\n",
    "observed_action_counts = test_set.action_discrete.value_counts()\n",
    "actions_observed = [observed_action_counts[i] if i in observed_action_counts else 0 for i in range(343)]"
   ]
  },
  {
   "cell_type": "code",
   "execution_count": 5,
   "id": "6ec431ab",
   "metadata": {},
   "outputs": [],
   "source": [
    "actions_greedy_safe = pd.DataFrame({'sum': np.nansum(np.array(actions_greedy_safe.to_list()), axis=0),})\n",
    "actions_greedy_unsafe = pd.DataFrame({'sum': np.nansum(np.array(actions_greedy_unsafe.to_list()), axis=0),})\n",
    "actions_behavior = pd.DataFrame({'sum': actions_observed,})"
   ]
  },
  {
   "cell_type": "code",
   "execution_count": 6,
   "id": "99605c01",
   "metadata": {},
   "outputs": [
    {
     "name": "stderr",
     "output_type": "stream",
     "text": [
      "/tmp/ipykernel_1410481/4279566760.py:1: FutureWarning: In a future version, `df.iloc[:, i] = newvals` will attempt to set the values inplace instead of always setting a new array. To retain the old behavior, use either `df[df.columns[i]] = newvals` or, if columns are non-unique, `df.isetitem(i, newvals)`\n",
      "  actions_greedy_safe.loc[:, ['tv_bin', 'fio2_bin', 'peep_bin']] = list(map(utils.to_discrete_action_bins, actions_greedy_safe.index))\n",
      "/tmp/ipykernel_1410481/4279566760.py:2: FutureWarning: In a future version, `df.iloc[:, i] = newvals` will attempt to set the values inplace instead of always setting a new array. To retain the old behavior, use either `df[df.columns[i]] = newvals` or, if columns are non-unique, `df.isetitem(i, newvals)`\n",
      "  actions_greedy_unsafe.loc[:, ['tv_bin', 'fio2_bin', 'peep_bin']] = list(map(utils.to_discrete_action_bins, actions_greedy_unsafe.index))\n",
      "/tmp/ipykernel_1410481/4279566760.py:3: FutureWarning: In a future version, `df.iloc[:, i] = newvals` will attempt to set the values inplace instead of always setting a new array. To retain the old behavior, use either `df[df.columns[i]] = newvals` or, if columns are non-unique, `df.isetitem(i, newvals)`\n",
      "  actions_behavior.loc[:, ['tv_bin', 'fio2_bin', 'peep_bin']] = list(map(utils.to_discrete_action_bins, actions_behavior.index))\n"
     ]
    }
   ],
   "source": [
    "actions_greedy_safe.loc[:, ['tv_bin', 'fio2_bin', 'peep_bin']] = list(map(utils.to_discrete_action_bins, actions_greedy_safe.index))\n",
    "actions_greedy_unsafe.loc[:, ['tv_bin', 'fio2_bin', 'peep_bin']] = list(map(utils.to_discrete_action_bins, actions_greedy_unsafe.index))\n",
    "actions_behavior.loc[:, ['tv_bin', 'fio2_bin', 'peep_bin']] = list(map(utils.to_discrete_action_bins, actions_behavior.index))"
   ]
  },
  {
   "cell_type": "code",
   "execution_count": 7,
   "id": "cef669e4",
   "metadata": {},
   "outputs": [
    {
     "name": "stderr",
     "output_type": "stream",
     "text": [
      "/tmp/ipykernel_1410481/2243455820.py:35: UserWarning: Matplotlib is currently using pgf, which is a non-GUI backend, so cannot show the figure.\n",
      "  plt.show()\n",
      "/tmp/ipykernel_1410481/2243455820.py:35: UserWarning: Matplotlib is currently using pgf, which is a non-GUI backend, so cannot show the figure.\n",
      "  plt.show()\n",
      "/tmp/ipykernel_1410481/2243455820.py:35: UserWarning: Matplotlib is currently using pgf, which is a non-GUI backend, so cannot show the figure.\n",
      "  plt.show()\n"
     ]
    }
   ],
   "source": [
    "fmt=\".1f\"\n",
    "greedy_fmt = \"0.0f\"\n",
    "\n",
    "def paired_heatmap(to_plot, title=\"\", vs=(None, None)):\n",
    "    fig, axs = plt.subplots(figsize=(MAX_FIGWIDTH, 2.5), ncols=3, gridspec_kw=dict(width_ratios=[20,20,1],hspace=0,wspace=.05))\n",
    "    hm1 = to_plot.pivot_table(values='sum', aggfunc='sum', columns=['peep_bin',], index='fio2_bin')\n",
    "    hm2 = to_plot.pivot_table(values='sum', aggfunc='sum', columns=['tv_bin',], index='fio2_bin')\n",
    "    if vs == (None, None):\n",
    "        vmin = min(hm1.min().min(), hm2.min().min())\n",
    "        vmax = max(hm1.max().max(), hm2.max().max())\n",
    "    else:\n",
    "        vmin, vmax = vs\n",
    "    g1 = sns.heatmap(hm1,\n",
    "                annot=True,\n",
    "                fmt=greedy_fmt,\n",
    "                annot_kws={'fontsize': 7},\n",
    "                vmin=vmin,\n",
    "                vmax=vmax,\n",
    "                cbar=False,\n",
    "               ax=axs[0])\n",
    "    g1.set_xlabel('PEEP')\n",
    "    g1.set_ylabel('FiO$_2$')\n",
    "    g2 = sns.heatmap(hm2,\n",
    "                annot=True,\n",
    "                fmt=greedy_fmt,\n",
    "                vmin=vmin,\n",
    "                vmax=vmax,\n",
    "                annot_kws={'fontsize': 7},\n",
    "               ax=axs[1],\n",
    "               cbar=False)\n",
    "    g2.set_xlabel('Vt$_{set}$')\n",
    "    g2.set(yticklabels=[])\n",
    "    g2.set_ylabel('')\n",
    "    fig.colorbar(axs[1].collections[0], cax=axs[2])\n",
    "    plt.show()\n",
    "    plt.suptitle(title, y= 0.95)\n",
    "    plt.subplots_adjust(bottom=0.18)\n",
    "#     fig.tight_layout()\n",
    "    return fig, (vmin, vmax)\n",
    "\n",
    "fig, vs = paired_heatmap(actions_behavior, 'Observed')\n",
    "plt.savefig('/tmp/actions_observed.pdf')\n",
    "plt.savefig('/tmp/actions_observed.png', dpi=1200)\n",
    "\n",
    "\n",
    "fig, _ = paired_heatmap(actions_greedy_unsafe, 'QL$_D$ unconstrained', vs=vs)\n",
    "plt.savefig('/tmp/actions_unsafe.pdf')\n",
    "plt.savefig('/tmp/actions_unsafe.png', dpi=1200)\n",
    "\n",
    "fig, _ = paired_heatmap(actions_greedy_safe, 'QL$_D$ compliant/Q-function', vs=vs)\n",
    "plt.savefig('/tmp/actions_safe.pdf')\n",
    "plt.savefig('/tmp/actions_safe.png', dpi=1200)\n",
    "\n",
    "\n",
    "    \n",
    "\n",
    "# fig, axs = plt.subplots(figsize=(MAX_FIGWIDTH, 2.5), ncols=3, gridspec_kw=dict(width_ratios=[20,20,1],wspace=.05))\n",
    "# hm1 = actions_greedy_safe.pivot_table(values='sum', aggfunc='sum', columns=['peep_bin',], index='fio2_bin')\n",
    "# hm2 = actions_greedy_safe.pivot_table(values='sum', aggfunc='sum', columns=['tv_bin',], index='fio2_bin')\n",
    "# vmin = min(hm1.min().min(), hm2.min().min())\n",
    "# vmax = max(hm1.max().max(), hm2.max().max())\n",
    "# sns.heatmap(hm1,\n",
    "#             annot=True,\n",
    "#             fmt=greedy_fmt,\n",
    "#             annot_kws={'fontsize': 7},\n",
    "#             vmin=vmin,\n",
    "#             vmax=vmax,\n",
    "#             cbar=False,\n",
    "#            ax=axs[0])\n",
    "# sns.heatmap(hm2,\n",
    "#             annot=True,\n",
    "#             fmt=greedy_fmt,\n",
    "#             annot_kws={'fontsize': 7},\n",
    "#            ax=axs[1],\n",
    "#            cbar=False)\n",
    "# axs[1].set_ylabel('')\n",
    "# fig.colorbar(axs[1].collections[0], cax=axs[2])\n",
    "# fig.tight_layout()\n",
    "# plt.show()\n",
    "\n",
    "# sns.heatmap(actions_greedy_unsafe.pivot_table(values='sum', aggfunc='sum', columns=['fio2_bin',], index='peep_bin'), annot=True, fmt=greedy_fmt)\n",
    "# plt.show()\n",
    "# sns.heatmap(actions_behavior.pivot_table(values='sum', aggfunc='sum', columns=['fio2_bin',], index='peep_bin'), annot=True, fmt=greedy_fmt)\n",
    "# plt.show()"
   ]
  },
  {
   "cell_type": "code",
   "execution_count": 8,
   "id": "a49fa7c4",
   "metadata": {},
   "outputs": [
    {
     "ename": "SyntaxError",
     "evalue": "invalid syntax (3103198376.py, line 1)",
     "output_type": "error",
     "traceback": [
      "\u001b[0;36m  Cell \u001b[0;32mIn[8], line 1\u001b[0;36m\u001b[0m\n\u001b[0;31m    hm1.max(axis=)\u001b[0m\n\u001b[0m                 ^\u001b[0m\n\u001b[0;31mSyntaxError\u001b[0m\u001b[0;31m:\u001b[0m invalid syntax\n"
     ]
    }
   ],
   "source": [
    "hm1.max(axis=)"
   ]
  },
  {
   "cell_type": "code",
   "execution_count": null,
   "id": "6e8637ea",
   "metadata": {},
   "outputs": [],
   "source": [
    "actions_greedy_safe"
   ]
  },
  {
   "cell_type": "code",
   "execution_count": null,
   "id": "59f37693",
   "metadata": {},
   "outputs": [],
   "source": [
    "sm_unsafe_policy"
   ]
  },
  {
   "cell_type": "code",
   "execution_count": null,
   "id": "ccb5d84f",
   "metadata": {},
   "outputs": [],
   "source": []
  },
  {
   "cell_type": "code",
   "execution_count": null,
   "id": "c29a60eb",
   "metadata": {},
   "outputs": [],
   "source": []
  }
 ],
 "metadata": {
  "kernelspec": {
   "display_name": "Python 3 (ipykernel)",
   "language": "python",
   "name": "python3"
  },
  "language_info": {
   "codemirror_mode": {
    "name": "ipython",
    "version": 3
   },
   "file_extension": ".py",
   "mimetype": "text/x-python",
   "name": "python",
   "nbconvert_exporter": "python",
   "pygments_lexer": "ipython3",
   "version": "3.11.0"
  }
 },
 "nbformat": 4,
 "nbformat_minor": 5
}
