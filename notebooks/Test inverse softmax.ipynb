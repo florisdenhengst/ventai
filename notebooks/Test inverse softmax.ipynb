{
 "cells": [
  {
   "cell_type": "code",
   "execution_count": 6,
   "id": "567fdc3c",
   "metadata": {},
   "outputs": [],
   "source": [
    "import copy\n",
    "from collections.abc import Iterable\n",
    "import functools\n",
    "import itertools\n",
    "import operator\n",
    "from matplotlib import pyplot as plt\n",
    "\n",
    "import pandas as pd\n",
    "from pandas.api.types import is_numeric_dtype\n",
    "import numpy as np\n",
    "import numpy_ext as npe\n",
    "import math\n",
    "import random\n",
    "from pprint import pprint\n",
    "from scipy.optimize import curve_fit\n",
    "from scipy.stats import poisson\n",
    "from scipy.sparse import hstack, vstack, csr_matrix\n",
    "import scipy\n",
    "\n",
    "from sklearn.cluster import KMeans\n",
    "from sklearn.linear_model import LinearRegression\n",
    "from sklearn.decomposition import PCA\n",
    "from sklearn.impute import KNNImputer\n",
    "from sklearn.preprocessing import Normalizer, StandardScaler, OneHotEncoder\n",
    "from sklearn.model_selection import train_test_split\n",
    "from sklearn import metrics\n",
    "import joblib\n",
    "import seaborn as sns\n",
    "\n",
    "import utils\n",
    "import safety\n",
    "import ope\n",
    "\n",
    "import sys\n",
    "\n",
    "from config import demographics, vital_sign_vars, lab_vars, treatment_vars, vent_vars, guideline_vars, ffill_windows_clinical, SAMPLE_TIME_H\n",
    "from config import fio2_bins, peep_bins, tv_bins"
   ]
  },
  {
   "cell_type": "code",
   "execution_count": 113,
   "id": "298f9b75",
   "metadata": {},
   "outputs": [],
   "source": [
    "test_set_file = 'data/test_unshaped_traj_{}.csv'\n",
    "train_set_file = 'data/train_unshaped_traj_{}.csv'\n",
    "\n",
    "q_fname = 'models/peine_mc_{}_q_table_{}.bin'\n",
    "greedy_policy_file = 'models/mcp_greedy_policy_{}{}.bin'\n",
    "sm_policy_file = 'models/mcp_softmax_policy_{}{}.bin'\n",
    "linear_policy_file = 'models/mcp_linear_policy_{}{}.bin'\n",
    "behavior_policy_train_file = 'models/clinicians_policy_train_{}{}.bin'\n",
    "behavior_policy_test_file = 'models/clinicians_policy_test_{}{}.bin'\n",
    "behavior_policy_file = 'models/clinicians_policy_train_test_{}{}.bin'\n",
    "\n",
    "N_BOOT = 2000\n",
    "seed = 5\n",
    "shaping = 'unshaped'\n",
    "n_states = 650\n",
    "seeds = range(20)"
   ]
  },
  {
   "cell_type": "code",
   "execution_count": 332,
   "id": "2d6ead1a",
   "metadata": {},
   "outputs": [
    {
     "name": "stderr",
     "output_type": "stream",
     "text": [
      "/tmp/ipykernel_845427/3928049307.py:2: RuntimeWarning: divide by zero encountered in log\n",
      "  return np.log(x) + C\n"
     ]
    }
   ],
   "source": [
    "def inv_softmax(x, C):\n",
    "    return np.log(x) + C\n",
    "\n",
    "def inf_to_nan(x):\n",
    "    y = x.copy()\n",
    "    y[y == float('-inf')] = np.nan\n",
    "    return y\n",
    "\n",
    "def nan_inv_softmax(x, C):\n",
    "    scores = inv_softmax(x, C)\n",
    "    scores_nan = inf_to_nan(scores)\n",
    "    return scores_nan\n",
    "\n",
    "def nansoftmax(x, c=float('-inf')):\n",
    "    y = x.copy()\n",
    "    y[np.isnan(y)] = c\n",
    "    return scipy.special.softmax(y, axis=1)\n",
    "\n",
    "q_file = joblib.load(q_fname.format(shaping, seed))\n",
    "q_table_nan = q_file['model']\n",
    "q_table = np.nan_to_num(q_table_nan, 0.0)\n",
    "q_table_neg = q_table_nan.copy()\n",
    "q_table_neg[q_table_neg == 0.0] = float('-inf')\n",
    "t = 1.0\n",
    "q_table_nan[q_table_nan == 0.0] = np.nan\n",
    "\n",
    "sm_unsafe = scipy.special.softmax(q_table_neg / t, axis=1)\n",
    "q_retrieved = inv_softmax(sm_unsafe, 1)\n",
    "q_retrieved_nan = inf_to_nan(q_retrieved)"
   ]
  },
  {
   "cell_type": "code",
   "execution_count": 133,
   "id": "1628a68a",
   "metadata": {},
   "outputs": [
    {
     "name": "stderr",
     "output_type": "stream",
     "text": [
      "/tmp/ipykernel_845427/4244123466.py:2: RuntimeWarning: divide by zero encountered in log\n",
      "  return np.log(x) + C\n"
     ]
    }
   ],
   "source": [
    "xs = []\n",
    "y_l = []\n",
    "y_u = []\n",
    "for c in range(-200, 200, 10):\n",
    "    xs += [c,]\n",
    "    retrieved_q = nan_inv_softmax(sm_unsafe, c)\n",
    "    y_l += [np.nanmin(retrieved_q),]\n",
    "    y_u += [np.nanmax(retrieved_q),]\n",
    "\n",
    "xs = np.array(xs)\n",
    "y_l = np.array(y_l)\n",
    "y_u = np.array(y_u)"
   ]
  },
  {
   "cell_type": "code",
   "execution_count": 188,
   "id": "04c35876",
   "metadata": {},
   "outputs": [
    {
     "data": {
      "image/png": "[encoded data removed]",
      "text/plain": [
       "<Figure size 640x480 with 1 Axes>"
      ]
     },
     "metadata": {},
     "output_type": "display_data"
    }
   ],
   "source": [
    "sns.lineplot(x=xs, y=y_l)\n",
    "sns.lineplot(x=xs, y=y_u)\n",
    "plt.axhline(100, c='black', alpha=.4)\n",
    "plt.axhline(-100, c='black', alpha=.4)\n",
    "plt.axvline(100, c='black', alpha=.4)\n",
    "plt.show()"
   ]
  },
  {
   "cell_type": "code",
   "execution_count": 198,
   "id": "01e478f8",
   "metadata": {},
   "outputs": [
    {
     "data": {
      "text/plain": [
       "(array([-102.88109341]), array([100.]))"
      ]
     },
     "execution_count": 198,
     "metadata": {},
     "output_type": "execute_result"
    }
   ],
   "source": [
    "c = 100\n",
    "y_l[xs==100], y_u[xs==100]"
   ]
  },
  {
   "cell_type": "code",
   "execution_count": 298,
   "id": "b501a266",
   "metadata": {},
   "outputs": [
    {
     "name": "stderr",
     "output_type": "stream",
     "text": [
      "/tmp/ipykernel_845427/3800127286.py:2: RuntimeWarning: divide by zero encountered in log\n",
      "  return np.log(x) + C\n"
     ]
    }
   ],
   "source": [
    "c = 100\n",
    "q_retrieved_nan = nan_inv_softmax(sm_unsafe, c)"
   ]
  },
  {
   "cell_type": "code",
   "execution_count": 299,
   "id": "698f7163",
   "metadata": {},
   "outputs": [
    {
     "data": {
      "text/plain": [
       "(-102.88109341341467, 100.0)"
      ]
     },
     "execution_count": 299,
     "metadata": {},
     "output_type": "execute_result"
    }
   ],
   "source": [
    "np.nanmin(q_retrieved_nan), np.nanmax(q_retrieved_nan)"
   ]
  },
  {
   "cell_type": "code",
   "execution_count": 300,
   "id": "fd96e11d",
   "metadata": {},
   "outputs": [
    {
     "data": {
      "text/plain": [
       "(-2.8810934134153854, 199.9999999999993)"
      ]
     },
     "execution_count": 300,
     "metadata": {},
     "output_type": "execute_result"
    }
   ],
   "source": [
    "np.nanmin(q_retrieved_nan - q_table_nan), np.nanmax(q_retrieved_nan - q_table_nan)"
   ]
  },
  {
   "cell_type": "code",
   "execution_count": 301,
   "id": "5c830e49",
   "metadata": {},
   "outputs": [
    {
     "data": {
      "text/plain": [
       "(-2.8810934134153854, 199.9999999999993)"
      ]
     },
     "execution_count": 301,
     "metadata": {},
     "output_type": "execute_result"
    }
   ],
   "source": [
    "np.nanmin(q_retrieved_nan - q_table_nan), np.nanmax(q_retrieved_nan - q_table_nan)"
   ]
  },
  {
   "cell_type": "code",
   "execution_count": 302,
   "id": "930afb52",
   "metadata": {},
   "outputs": [
    {
     "data": {
      "text/plain": [
       "(-2.8810934134153854, 199.9999999999993)"
      ]
     },
     "execution_count": 302,
     "metadata": {},
     "output_type": "execute_result"
    }
   ],
   "source": [
    "assert not (np.isnan(q_retrieved_nan) & ~np.isnan(q_table_nan)).any()\n",
    "np.nanmin(q_retrieved_nan - q_table_nan), np.nanmax(q_retrieved_nan - q_table_nan)"
   ]
  },
  {
   "cell_type": "code",
   "execution_count": 303,
   "id": "e2e03e8c",
   "metadata": {},
   "outputs": [
    {
     "name": "stdout",
     "output_type": "stream",
     "text": [
      "nan nan\n",
      "nan nan\n",
      "nan nan\n",
      "nan nan\n",
      "nan nan\n",
      "nan nan\n",
      "nan nan\n",
      "nan nan\n",
      "nan nan\n",
      "nan nan\n",
      "nan nan\n",
      "nan nan\n",
      "nan nan\n",
      "nan nan\n",
      "nan nan\n",
      "nan nan\n",
      "nan nan\n",
      "nan nan\n",
      "nan nan\n",
      "nan nan\n",
      "nan nan\n",
      "nan nan\n",
      "nan nan\n",
      "nan nan\n",
      "nan nan\n",
      "nan nan\n",
      "nan nan\n",
      "nan nan\n",
      "nan nan\n",
      "nan nan\n",
      "nan nan\n",
      "nan nan\n",
      "nan nan\n",
      "nan nan\n",
      "nan nan\n",
      "nan nan\n",
      "nan nan\n",
      "nan nan\n",
      "nan nan\n",
      "nan nan\n",
      "nan nan\n",
      "nan nan\n",
      "nan nan\n",
      "nan nan\n",
      "nan nan\n",
      "nan nan\n",
      "nan nan\n",
      "nan nan\n",
      "nan nan\n",
      "nan nan\n",
      "nan nan\n",
      "nan nan\n",
      "nan nan\n",
      "nan nan\n",
      "nan nan\n",
      "nan nan\n",
      "nan nan\n",
      "nan nan\n",
      "nan nan\n",
      "nan nan\n",
      "nan nan\n",
      "nan nan\n",
      "nan nan\n",
      "nan nan\n",
      "nan nan\n",
      "nan nan\n",
      "nan nan\n",
      "nan nan\n",
      "nan nan\n",
      "nan nan\n",
      "nan nan\n",
      "nan nan\n",
      "nan nan\n",
      "nan nan\n",
      "nan nan\n",
      "nan nan\n",
      "nan nan\n",
      "nan nan\n",
      "nan nan\n",
      "nan nan\n",
      "nan nan\n",
      "nan nan\n",
      "nan nan\n",
      "nan nan\n",
      "nan nan\n",
      "nan nan\n",
      "nan nan\n",
      "nan nan\n",
      "nan nan\n",
      "nan nan\n",
      "nan nan\n",
      "nan nan\n",
      "nan nan\n",
      "nan nan\n",
      "nan nan\n",
      "nan nan\n",
      "nan nan\n",
      "nan nan\n",
      "nan nan\n",
      "nan nan\n",
      "nan nan\n",
      "nan nan\n",
      "nan nan\n",
      "nan nan\n",
      "nan nan\n",
      "nan nan\n",
      "nan nan\n",
      "nan nan\n",
      "nan nan\n",
      "nan nan\n",
      "nan nan\n",
      "nan nan\n",
      "nan nan\n",
      "nan nan\n",
      "nan nan\n",
      "nan nan\n",
      "nan nan\n",
      "nan nan\n",
      "nan nan\n",
      "nan nan\n",
      "nan nan\n",
      "nan nan\n",
      "nan nan\n",
      "nan nan\n",
      "nan nan\n",
      "nan nan\n",
      "nan nan\n",
      "nan nan\n",
      "nan nan\n",
      "nan nan\n",
      "nan nan\n",
      "nan nan\n",
      "nan nan\n",
      "nan nan\n",
      "nan nan\n",
      "nan nan\n",
      "nan nan\n",
      "nan nan\n",
      "nan nan\n",
      "nan nan\n",
      "nan nan\n",
      "nan nan\n",
      "nan nan\n",
      "nan nan\n",
      "nan nan\n",
      "nan nan\n",
      "nan nan\n",
      "nan nan\n",
      "nan nan\n",
      "nan nan\n",
      "nan nan\n",
      "nan nan\n",
      "nan nan\n",
      "nan nan\n",
      "nan nan\n",
      "nan nan\n",
      "nan nan\n",
      "nan nan\n",
      "nan nan\n",
      "nan nan\n",
      "nan nan\n",
      "nan nan\n",
      "nan nan\n",
      "nan nan\n",
      "nan nan\n",
      "nan nan\n",
      "nan nan\n",
      "nan nan\n",
      "nan nan\n",
      "nan nan\n",
      "nan nan\n",
      "nan nan\n",
      "nan nan\n",
      "nan nan\n",
      "nan nan\n",
      "nan nan\n",
      "100.0 -99.99999999999929<<<<<\n",
      "nan nan\n",
      "nan nan\n",
      "nan nan\n",
      "nan nan\n",
      "nan nan\n",
      "nan nan\n",
      "nan nan\n",
      "nan nan\n",
      "nan nan\n",
      "nan nan\n",
      "nan nan\n",
      "nan nan\n",
      "nan nan\n",
      "nan nan\n",
      "nan nan\n",
      "nan nan\n",
      "nan nan\n",
      "nan nan\n",
      "nan nan\n",
      "nan nan\n",
      "nan nan\n",
      "nan nan\n",
      "nan nan\n",
      "nan nan\n",
      "nan nan\n",
      "nan nan\n",
      "nan nan\n",
      "nan nan\n",
      "nan nan\n",
      "nan nan\n",
      "nan nan\n",
      "nan nan\n",
      "nan nan\n",
      "nan nan\n",
      "nan nan\n",
      "nan nan\n",
      "nan nan\n",
      "nan nan\n",
      "nan nan\n",
      "nan nan\n",
      "nan nan\n",
      "nan nan\n",
      "nan nan\n",
      "nan nan\n",
      "nan nan\n",
      "nan nan\n",
      "nan nan\n",
      "nan nan\n",
      "nan nan\n",
      "nan nan\n",
      "nan nan\n",
      "nan nan\n",
      "nan nan\n",
      "nan nan\n",
      "nan nan\n",
      "nan nan\n",
      "nan nan\n",
      "nan nan\n",
      "nan nan\n",
      "nan nan\n",
      "nan nan\n",
      "nan nan\n",
      "nan nan\n",
      "nan nan\n",
      "nan nan\n",
      "nan nan\n",
      "nan nan\n",
      "nan nan\n",
      "nan nan\n",
      "nan nan\n",
      "nan nan\n",
      "nan nan\n",
      "nan nan\n",
      "nan nan\n",
      "nan nan\n",
      "nan nan\n",
      "nan nan\n",
      "nan nan\n",
      "nan nan\n",
      "nan nan\n",
      "nan nan\n",
      "nan nan\n",
      "nan nan\n",
      "nan nan\n",
      "nan nan\n",
      "nan nan\n",
      "nan nan\n",
      "nan nan\n",
      "nan nan\n",
      "nan nan\n",
      "nan nan\n",
      "nan nan\n",
      "nan nan\n",
      "nan nan\n",
      "nan nan\n",
      "nan nan\n",
      "nan nan\n",
      "nan nan\n",
      "nan nan\n",
      "nan nan\n",
      "nan nan\n",
      "nan nan\n",
      "nan nan\n",
      "nan nan\n",
      "nan nan\n",
      "nan nan\n",
      "nan nan\n",
      "nan nan\n",
      "nan nan\n",
      "nan nan\n",
      "nan nan\n",
      "nan nan\n",
      "nan nan\n",
      "nan nan\n",
      "nan nan\n",
      "nan nan\n",
      "nan nan\n",
      "nan nan\n",
      "nan nan\n",
      "nan nan\n",
      "nan nan\n",
      "nan nan\n",
      "nan nan\n",
      "nan nan\n",
      "nan nan\n",
      "nan nan\n",
      "nan nan\n",
      "nan nan\n",
      "nan nan\n",
      "nan nan\n",
      "nan nan\n",
      "nan nan\n",
      "nan nan\n",
      "nan nan\n",
      "nan nan\n",
      "nan nan\n",
      "nan nan\n",
      "nan nan\n",
      "nan nan\n",
      "nan nan\n",
      "nan nan\n",
      "nan nan\n",
      "nan nan\n",
      "nan nan\n",
      "nan nan\n",
      "nan nan\n",
      "nan nan\n",
      "nan nan\n",
      "nan nan\n",
      "nan nan\n",
      "nan nan\n",
      "nan nan\n",
      "nan nan\n",
      "nan nan\n",
      "nan nan\n",
      "nan nan\n",
      "nan nan\n",
      "nan nan\n",
      "nan nan\n",
      "nan nan\n",
      "nan nan\n",
      "nan nan\n",
      "nan nan\n",
      "nan nan\n",
      "nan nan\n",
      "nan nan\n"
     ]
    }
   ],
   "source": [
    "min_or_max = np.nanargmax\n",
    "\n",
    "state, action = np.unravel_index(min_or_max(q_retrieved_nan - q_table_nan), q_retrieved_nan.shape)\n",
    "for i, (ar, at) in enumerate(zip(q_retrieved_nan[state, :], q_table_nan[state, :])):\n",
    "    print(ar, at, end = '')\n",
    "    if i == action:\n",
    "        print('<<<<<')\n",
    "    else:\n",
    "        print('')\n"
   ]
  },
  {
   "cell_type": "code",
   "execution_count": 304,
   "id": "13b966ec",
   "metadata": {},
   "outputs": [
    {
     "data": {
      "text/plain": [
       "(99.99999999999929, -99.99999999999929)"
      ]
     },
     "execution_count": 304,
     "metadata": {},
     "output_type": "execute_result"
    }
   ],
   "source": [
    "np.nanmax(q_table), np.nanmin(q_table)"
   ]
  },
  {
   "cell_type": "code",
   "execution_count": 305,
   "id": "5241658e",
   "metadata": {},
   "outputs": [],
   "source": [
    "diffs = (q_retrieved_nan - q_table_nan)"
   ]
  },
  {
   "cell_type": "code",
   "execution_count": 306,
   "id": "f03238d5",
   "metadata": {},
   "outputs": [
    {
     "data": {
      "text/plain": [
       "<AxesSubplot: ylabel='Count'>"
      ]
     },
     "execution_count": 306,
     "metadata": {},
     "output_type": "execute_result"
    },
    {
     "data": {
      "image/png": "[encoded data removed]",
      "text/plain": [
       "<Figure size 640x480 with 1 Axes>"
      ]
     },
     "metadata": {},
     "output_type": "display_data"
    }
   ],
   "source": [
    "sns.histplot((diffs.ravel()[~np.isnan(diffs.ravel())]))"
   ]
  },
  {
   "cell_type": "code",
   "execution_count": 310,
   "id": "d12567fe",
   "metadata": {},
   "outputs": [
    {
     "name": "stdout",
     "output_type": "stream",
     "text": [
      "96.60691985049974 98.00999999999789\n",
      "96.62642772256746 98.02950787206561\n",
      "96.61662477178004 98.01970492127819\n",
      "96.6699543678403 98.07303451733846\n",
      "96.60691985049974 98.00999999999789\n",
      "97.27023085013016 98.67331099962831\n",
      "96.60691985049974 98.00999999999789\n",
      "96.60691985049974 98.00999999999789\n",
      "96.60691985049974 98.00999999999789\n",
      "96.60691985049974 98.00999999999789\n",
      "96.60691985049974 98.00999999999789\n",
      "96.60691985049974 98.00999999999789\n",
      "30.9391308871665 32.342211036664644\n",
      "96.60691985049974 98.00999999999789\n",
      "96.60691985049974 98.00999999999789\n",
      "96.60691985049974 98.00999999999789\n",
      "96.90747189110894 98.31055204060709\n",
      "96.93690873976342 98.33998888926158\n",
      "96.60691985049974 98.00999999999789\n",
      "97.59691985050043 98.99999999999858\n",
      "96.60691985049974 98.00999999999789\n",
      "96.61017072951675 98.0132508790149\n",
      "87.09247308043442 88.49555322993257\n",
      "96.8581634428372 98.26124359233535\n",
      "96.60691985049974 98.00999999999789\n",
      "96.60691985049974 98.00999999999789\n",
      "96.60691985049974 98.00999999999789\n",
      "96.60691985049974 98.00999999999789\n"
     ]
    }
   ],
   "source": [
    "state=56\n",
    "for i, (ar, at) in enumerate(zip(q_retrieved_nan[state, :], q_table_nan[state, :])):\n",
    "    if not (np.isnan(ar) and np.isnan(at)):\n",
    "        print(ar, at)"
   ]
  },
  {
   "cell_type": "code",
   "execution_count": 358,
   "id": "c2b0b542",
   "metadata": {},
   "outputs": [],
   "source": [
    "# q_train = q_retrieved_nan.copy()\n",
    "q_train = np.zeros(q_table.shape)\n",
    "q_target = q_table_nan.copy()"
   ]
  },
  {
   "cell_type": "code",
   "execution_count": 359,
   "id": "e2af4055",
   "metadata": {},
   "outputs": [
    {
     "data": {
      "text/plain": [
       "array([0., 0., 0., 0., 0., 0., 0., 0., 0., 0., 0., 0., 0., 0., 0., 0., 0.,\n",
       "       0., 0., 0., 0., 0., 0., 0., 0., 0., 0., 0., 0., 0., 0., 0., 0., 0.,\n",
       "       0., 0., 0., 0., 0., 0., 0., 0., 0., 0., 0., 0., 0., 0., 0., 0., 0.,\n",
       "       0., 0., 0., 0., 0., 0., 0., 0., 0., 0., 0., 0., 0., 0., 0., 0., 0.,\n",
       "       0., 0., 0., 0., 0., 0., 0., 0., 0., 0., 0., 0., 0., 0., 0., 0., 0.,\n",
       "       0., 0., 0., 0., 0., 0., 0., 0., 0., 0., 0., 0., 0., 0., 0., 0., 0.,\n",
       "       0., 0., 0., 0., 0., 0., 0., 0., 0., 0., 0., 0., 0., 0., 0., 0., 0.,\n",
       "       0., 0., 0., 0., 0., 0., 0.])"
      ]
     },
     "execution_count": 359,
     "metadata": {},
     "output_type": "execute_result"
    }
   ],
   "source": [
    "q_train[state, safety.action_id_compliance]"
   ]
  },
  {
   "cell_type": "code",
   "execution_count": 362,
   "id": "6d0e3886",
   "metadata": {},
   "outputs": [],
   "source": [
    "def learning_step(q_train, q_target, learning_rate=0.1):\n",
    "    return q_train + (learning_rate * (q_target - q_train))\n",
    "\n",
    "def constrained_learning_step(q_train, q_target, learning_rate=0.5, safety_map=safety.action_id_compliance):\n",
    "    \n",
    "\n",
    "step_1 = learning_step(q_train, q_target, learning_rate=.1)"
   ]
  },
  {
   "cell_type": "code",
   "execution_count": 370,
   "id": "5b896405",
   "metadata": {},
   "outputs": [
    {
     "name": "stdout",
     "output_type": "stream",
     "text": [
      "0.0 nan nan\n",
      "0.0 nan nan\n",
      "0.0 nan nan\n",
      "0.0 nan nan\n",
      "0.0 nan nan\n",
      "0.0 nan nan\n",
      "0.0 nan nan\n",
      "0.0 nan nan\n",
      "0.0 nan nan\n",
      "0.0 nan nan\n",
      "0.0 nan nan\n",
      "0.0 nan nan\n",
      "0.0 nan nan\n",
      "0.0 nan nan\n",
      "0.0 nan nan\n",
      "0.0 nan nan\n",
      "0.0 nan nan\n",
      "0.0 nan nan\n",
      "0.0 nan nan\n",
      "0.0 nan nan\n",
      "0.0 nan nan\n",
      "0.0 nan nan\n",
      "0.0 nan nan\n",
      "0.0 nan nan\n",
      "0.0 nan nan\n",
      "0.0 nan nan\n",
      "0.0 nan nan\n",
      "0.0 nan nan\n",
      "0.0 nan nan\n",
      "0.0 nan nan\n",
      "0.0 nan nan\n",
      "0.0 nan nan\n",
      "0.0 nan nan\n",
      "0.0 nan nan\n",
      "0.0 nan nan\n",
      "0.0 nan nan\n",
      "0.0 nan nan\n",
      "0.0 nan nan\n",
      "0.0 nan nan\n",
      "0.0 nan nan\n",
      "0.0 nan nan\n",
      "0.0 nan nan\n",
      "0.0 nan nan\n",
      "0.0 nan nan\n",
      "0.0 nan nan\n",
      "0.0 nan nan\n",
      "0.0 nan nan\n",
      "0.0 nan nan\n",
      "0.0 nan nan\n",
      "0.0 nan nan\n",
      "0.0 nan nan\n",
      "0.0 nan nan\n",
      "0.0 nan nan\n",
      "0.0 nan nan\n",
      "0.0 nan nan\n",
      "0.0 nan nan\n",
      "0.0 nan nan\n",
      "0.0 nan nan\n",
      "0.0 nan nan\n",
      "0.0 nan nan\n",
      "0.0 nan nan\n",
      "0.0 nan nan\n",
      "0.0 nan nan\n",
      "0.0 nan nan\n",
      "0.0 nan nan\n",
      "0.0 nan nan\n",
      "0.0 nan nan\n",
      "0.0 nan nan\n",
      "0.0 nan nan\n",
      "0.0 nan nan\n",
      "0.0 nan nan\n",
      "0.0 9.800999999999789 98.00999999999789\n",
      "0.0 nan nan\n",
      "0.0 nan nan\n",
      "0.0 nan nan\n",
      "0.0 nan nan\n",
      "0.0 nan nan\n",
      "0.0 nan nan\n",
      "0.0 nan nan\n",
      "0.0 nan nan\n",
      "0.0 nan nan\n",
      "0.0 nan nan\n",
      "0.0 nan nan\n",
      "0.0 nan nan\n",
      "0.0 nan nan\n",
      "0.0 nan nan\n",
      "0.0 nan nan\n",
      "0.0 nan nan\n",
      "0.0 nan nan\n",
      "0.0 nan nan\n",
      "0.0 nan nan\n",
      "0.0 nan nan\n",
      "0.0 nan nan\n",
      "0.0 nan nan\n",
      "0.0 nan nan\n",
      "0.0 nan nan\n",
      "0.0 nan nan\n",
      "0.0 nan nan\n",
      "0.0 nan nan\n",
      "0.0 nan nan\n",
      "0.0 nan nan\n",
      "0.0 nan nan\n",
      "0.0 nan nan\n",
      "0.0 nan nan\n",
      "0.0 nan nan\n",
      "0.0 nan nan\n",
      "0.0 9.802950787206562 98.02950787206561\n",
      "0.0 nan nan\n",
      "0.0 nan nan\n",
      "0.0 nan nan\n",
      "0.0 nan nan\n",
      "0.0 nan nan\n",
      "0.0 nan nan\n",
      "0.0 9.80197049212782 98.01970492127819\n",
      "0.0 nan nan\n",
      "0.0 nan nan\n",
      "0.0 nan nan\n",
      "0.0 nan nan\n",
      "0.0 nan nan\n",
      "0.0 nan nan\n",
      "0.0 9.807303451733846 98.07303451733846\n",
      "0.0 9.800999999999789 98.00999999999789\n",
      "0.0 9.867331099962833 98.67331099962831\n",
      "0.0 nan nan\n",
      "0.0 nan nan\n",
      "0.0 nan nan\n",
      "0.0 nan nan\n",
      "0.0 9.800999999999789 98.00999999999789\n",
      "0.0 9.800999999999789 98.00999999999789\n",
      "0.0 9.800999999999789 98.00999999999789\n",
      "0.0 nan nan\n",
      "0.0 nan nan\n",
      "0.0 nan nan\n",
      "0.0 nan nan\n",
      "0.0 9.800999999999789 98.00999999999789\n",
      "0.0 9.800999999999789 98.00999999999789\n",
      "0.0 9.800999999999789 98.00999999999789\n",
      "0.0 nan nan\n",
      "0.0 nan nan\n",
      "0.0 nan nan\n",
      "0.0 nan nan\n",
      "0.0 nan nan\n",
      "0.0 3.2342211036664645 32.342211036664644\n",
      "0.0 9.800999999999789 98.00999999999789\n",
      "0.0 nan nan\n",
      "0.0 9.800999999999789 98.00999999999789\n",
      "0.0 nan nan\n",
      "0.0 nan nan\n",
      "0.0 nan nan\n",
      "0.0 nan nan\n",
      "0.0 nan nan\n",
      "0.0 nan nan\n",
      "0.0 nan nan\n",
      "0.0 nan nan\n",
      "0.0 nan nan\n",
      "0.0 9.800999999999789 98.00999999999789\n",
      "0.0 nan nan\n",
      "0.0 nan nan\n",
      "0.0 nan nan\n",
      "0.0 nan nan\n",
      "0.0 nan nan\n",
      "0.0 nan nan\n",
      "0.0 nan nan\n",
      "0.0 nan nan\n",
      "0.0 nan nan\n",
      "0.0 nan nan\n",
      "0.0 nan nan\n",
      "0.0 nan nan\n",
      "0.0 nan nan\n",
      "0.0 9.83105520406071 98.31055204060709\n",
      "0.0 9.833998888926159 98.33998888926158\n",
      "0.0 9.800999999999789 98.00999999999789\n",
      "0.0 nan nan\n",
      "0.0 nan nan\n",
      "0.0 nan nan\n",
      "0.0 nan nan\n",
      "0.0 9.899999999999858 98.99999999999858\n",
      "0.0 9.800999999999789 98.00999999999789\n",
      "0.0 9.80132508790149 98.0132508790149\n",
      "0.0 nan nan\n",
      "0.0 nan nan\n",
      "0.0 nan nan\n",
      "0.0 nan nan\n",
      "0.0 8.849555322993258 88.49555322993257\n",
      "0.0 9.826124359233535 98.26124359233535\n",
      "0.0 nan nan\n",
      "0.0 9.800999999999789 98.00999999999789\n",
      "0.0 nan nan\n",
      "0.0 nan nan\n",
      "0.0 nan nan\n",
      "0.0 9.800999999999789 98.00999999999789\n",
      "0.0 nan nan\n",
      "0.0 nan nan\n",
      "0.0 9.800999999999789 98.00999999999789\n",
      "0.0 nan nan\n",
      "0.0 nan nan\n",
      "0.0 nan nan\n",
      "0.0 nan nan\n",
      "0.0 nan nan\n",
      "0.0 nan nan\n",
      "0.0 nan nan\n",
      "0.0 nan nan\n",
      "0.0 nan nan\n",
      "0.0 nan nan\n",
      "0.0 nan nan\n",
      "0.0 nan nan\n",
      "0.0 nan nan\n",
      "0.0 nan nan\n",
      "0.0 nan nan\n",
      "0.0 nan nan\n",
      "0.0 nan nan\n",
      "0.0 nan nan\n",
      "0.0 nan nan\n",
      "0.0 nan nan\n",
      "0.0 nan nan\n",
      "0.0 nan nan\n",
      "0.0 nan nan\n",
      "0.0 nan nan\n",
      "0.0 9.800999999999789 98.00999999999789\n",
      "0.0 nan nan\n",
      "0.0 nan nan\n",
      "0.0 nan nan\n",
      "0.0 nan nan\n",
      "0.0 nan nan\n",
      "0.0 nan nan\n",
      "0.0 nan nan\n",
      "0.0 nan nan\n",
      "0.0 nan nan\n",
      "0.0 nan nan\n",
      "0.0 nan nan\n",
      "0.0 nan nan\n",
      "0.0 nan nan\n",
      "0.0 nan nan\n",
      "0.0 nan nan\n",
      "0.0 nan nan\n",
      "0.0 nan nan\n",
      "0.0 nan nan\n",
      "0.0 nan nan\n",
      "0.0 nan nan\n",
      "0.0 nan nan\n",
      "0.0 nan nan\n",
      "0.0 nan nan\n",
      "0.0 nan nan\n",
      "0.0 nan nan\n",
      "0.0 nan nan\n",
      "0.0 nan nan\n",
      "0.0 nan nan\n",
      "0.0 nan nan\n",
      "0.0 nan nan\n",
      "0.0 nan nan\n",
      "0.0 nan nan\n",
      "0.0 nan nan\n",
      "0.0 nan nan\n",
      "0.0 nan nan\n",
      "0.0 nan nan\n",
      "0.0 nan nan\n",
      "0.0 nan nan\n",
      "0.0 nan nan\n",
      "0.0 nan nan\n",
      "0.0 nan nan\n",
      "0.0 nan nan\n",
      "0.0 nan nan\n",
      "0.0 nan nan\n",
      "0.0 nan nan\n",
      "0.0 nan nan\n",
      "0.0 nan nan\n",
      "0.0 nan nan\n",
      "0.0 nan nan\n",
      "0.0 nan nan\n",
      "0.0 nan nan\n",
      "0.0 nan nan\n",
      "0.0 nan nan\n",
      "0.0 nan nan\n",
      "0.0 nan nan\n",
      "0.0 nan nan\n",
      "0.0 nan nan\n",
      "0.0 nan nan\n",
      "0.0 nan nan\n",
      "0.0 nan nan\n",
      "0.0 nan nan\n",
      "0.0 nan nan\n",
      "0.0 nan nan\n",
      "0.0 nan nan\n",
      "0.0 nan nan\n",
      "0.0 nan nan\n",
      "0.0 nan nan\n",
      "0.0 nan nan\n",
      "0.0 nan nan\n",
      "0.0 nan nan\n",
      "0.0 nan nan\n",
      "0.0 nan nan\n",
      "0.0 nan nan\n",
      "0.0 nan nan\n",
      "0.0 nan nan\n",
      "0.0 nan nan\n",
      "0.0 nan nan\n",
      "0.0 nan nan\n",
      "0.0 nan nan\n",
      "0.0 nan nan\n",
      "0.0 nan nan\n",
      "0.0 nan nan\n",
      "0.0 nan nan\n",
      "0.0 nan nan\n",
      "0.0 nan nan\n",
      "0.0 nan nan\n",
      "0.0 nan nan\n",
      "0.0 nan nan\n",
      "0.0 nan nan\n",
      "0.0 nan nan\n",
      "0.0 nan nan\n",
      "0.0 nan nan\n",
      "0.0 nan nan\n",
      "0.0 nan nan\n",
      "0.0 nan nan\n",
      "0.0 nan nan\n",
      "0.0 nan nan\n",
      "0.0 nan nan\n",
      "0.0 nan nan\n",
      "0.0 nan nan\n",
      "0.0 nan nan\n",
      "0.0 nan nan\n",
      "0.0 nan nan\n",
      "0.0 nan nan\n",
      "0.0 nan nan\n",
      "0.0 nan nan\n",
      "0.0 nan nan\n",
      "0.0 nan nan\n",
      "0.0 nan nan\n",
      "0.0 nan nan\n",
      "0.0 nan nan\n",
      "0.0 nan nan\n",
      "0.0 nan nan\n",
      "0.0 nan nan\n",
      "0.0 nan nan\n",
      "0.0 nan nan\n",
      "0.0 nan nan\n",
      "0.0 nan nan\n",
      "0.0 nan nan\n",
      "0.0 nan nan\n",
      "0.0 nan nan\n",
      "0.0 nan nan\n",
      "0.0 nan nan\n",
      "0.0 nan nan\n"
     ]
    }
   ],
   "source": [
    "state=56\n",
    "for i, (ar, at, att) in enumerate(zip(q_train[state, :], step_1[state, :], q_target[state,:])):\n",
    "    if not (np.isnan(ar) and np.isnan(at)):\n",
    "        print(ar, at, att)"
   ]
  },
  {
   "cell_type": "code",
   "execution_count": 371,
   "id": "f8010422",
   "metadata": {},
   "outputs": [],
   "source": [
    "step1_p = nansoftmax(step_1)\n",
    "train_p = nansoftmax(q_train)\n",
    "target_p = nansoftmax(q_target)"
   ]
  },
  {
   "cell_type": "code",
   "execution_count": 381,
   "id": "2717a8b2",
   "metadata": {},
   "outputs": [
    {
     "data": {
      "text/plain": [
       "0.5486810671613165"
      ]
     },
     "execution_count": 381,
     "metadata": {},
     "output_type": "execute_result"
    }
   ],
   "source": [
    "target_p[65, safety.action_id_compliance].sum()"
   ]
  },
  {
   "cell_type": "code",
   "execution_count": 384,
   "id": "1aab8f23",
   "metadata": {},
   "outputs": [
    {
     "data": {
      "text/plain": [
       "array([ 0.00000000e+00,  0.00000000e+00,  0.00000000e+00,  0.00000000e+00,\n",
       "        0.00000000e+00,  0.00000000e+00,  0.00000000e+00,  0.00000000e+00,\n",
       "        0.00000000e+00,  0.00000000e+00,  0.00000000e+00,  0.00000000e+00,\n",
       "        0.00000000e+00,  0.00000000e+00,  0.00000000e+00,  0.00000000e+00,\n",
       "        0.00000000e+00,  0.00000000e+00,  0.00000000e+00,  0.00000000e+00,\n",
       "        0.00000000e+00,  0.00000000e+00,  0.00000000e+00,  0.00000000e+00,\n",
       "        0.00000000e+00,  0.00000000e+00,  0.00000000e+00,  0.00000000e+00,\n",
       "        0.00000000e+00,  0.00000000e+00,  0.00000000e+00,  0.00000000e+00,\n",
       "        0.00000000e+00,  0.00000000e+00,  0.00000000e+00,  0.00000000e+00,\n",
       "        0.00000000e+00,  0.00000000e+00,  0.00000000e+00,  0.00000000e+00,\n",
       "        0.00000000e+00,  0.00000000e+00,  0.00000000e+00,  0.00000000e+00,\n",
       "        0.00000000e+00,  0.00000000e+00,  0.00000000e+00,  0.00000000e+00,\n",
       "        0.00000000e+00,  0.00000000e+00,  0.00000000e+00,  0.00000000e+00,\n",
       "        0.00000000e+00,  0.00000000e+00,  0.00000000e+00,  0.00000000e+00,\n",
       "        0.00000000e+00,  0.00000000e+00,  0.00000000e+00,  0.00000000e+00,\n",
       "        0.00000000e+00,  0.00000000e+00,  0.00000000e+00,  0.00000000e+00,\n",
       "        0.00000000e+00,  0.00000000e+00,  0.00000000e+00,  0.00000000e+00,\n",
       "        0.00000000e+00,  0.00000000e+00,  0.00000000e+00,  3.90533732e-03,\n",
       "        0.00000000e+00,  0.00000000e+00,  0.00000000e+00,  0.00000000e+00,\n",
       "        0.00000000e+00,  0.00000000e+00,  0.00000000e+00,  0.00000000e+00,\n",
       "        0.00000000e+00,  0.00000000e+00,  0.00000000e+00,  0.00000000e+00,\n",
       "        0.00000000e+00,  0.00000000e+00,  0.00000000e+00,  0.00000000e+00,\n",
       "        0.00000000e+00,  0.00000000e+00,  0.00000000e+00,  0.00000000e+00,\n",
       "        0.00000000e+00,  0.00000000e+00,  0.00000000e+00,  0.00000000e+00,\n",
       "        0.00000000e+00,  0.00000000e+00,  0.00000000e+00,  0.00000000e+00,\n",
       "        0.00000000e+00,  0.00000000e+00,  0.00000000e+00,  0.00000000e+00,\n",
       "        0.00000000e+00,  0.00000000e+00,  3.31658514e-03,  0.00000000e+00,\n",
       "        0.00000000e+00,  0.00000000e+00,  0.00000000e+00,  0.00000000e+00,\n",
       "        0.00000000e+00,  3.61403684e-03,  0.00000000e+00,  0.00000000e+00,\n",
       "        0.00000000e+00,  0.00000000e+00,  0.00000000e+00,  0.00000000e+00,\n",
       "        1.95606584e-03,  3.90533732e-03, -2.51515241e-02,  0.00000000e+00,\n",
       "        0.00000000e+00,  0.00000000e+00,  0.00000000e+00,  3.90533732e-03,\n",
       "        3.90533732e-03,  3.90533732e-03,  0.00000000e+00,  0.00000000e+00,\n",
       "        0.00000000e+00,  0.00000000e+00,  3.90533732e-03,  3.90533732e-03,\n",
       "        3.90533732e-03,  0.00000000e+00,  0.00000000e+00,  0.00000000e+00,\n",
       "        0.00000000e+00,  0.00000000e+00,  5.27515511e-05,  3.90533732e-03,\n",
       "        0.00000000e+00,  3.90533732e-03,  0.00000000e+00,  0.00000000e+00,\n",
       "        0.00000000e+00,  0.00000000e+00,  0.00000000e+00,  0.00000000e+00,\n",
       "        0.00000000e+00,  0.00000000e+00,  0.00000000e+00,  3.90533732e-03,\n",
       "        0.00000000e+00,  0.00000000e+00,  0.00000000e+00,  0.00000000e+00,\n",
       "        0.00000000e+00,  0.00000000e+00,  0.00000000e+00,  0.00000000e+00,\n",
       "        0.00000000e+00,  0.00000000e+00,  0.00000000e+00,  0.00000000e+00,\n",
       "        0.00000000e+00, -6.73222564e-03, -7.97418148e-03,  3.90533732e-03,\n",
       "        0.00000000e+00,  0.00000000e+00,  0.00000000e+00,  0.00000000e+00,\n",
       "       -4.90250492e-02,  3.90533732e-03,  3.80810988e-03,  0.00000000e+00,\n",
       "        0.00000000e+00,  0.00000000e+00,  0.00000000e+00,  1.44833679e-02,\n",
       "       -4.73867124e-03,  0.00000000e+00,  3.90533732e-03,  0.00000000e+00,\n",
       "        0.00000000e+00,  0.00000000e+00,  3.90533732e-03,  0.00000000e+00,\n",
       "        0.00000000e+00,  3.90533732e-03,  0.00000000e+00,  0.00000000e+00,\n",
       "        0.00000000e+00,  0.00000000e+00,  0.00000000e+00,  0.00000000e+00,\n",
       "        0.00000000e+00,  0.00000000e+00,  0.00000000e+00,  0.00000000e+00,\n",
       "        0.00000000e+00,  0.00000000e+00,  0.00000000e+00,  0.00000000e+00,\n",
       "        0.00000000e+00,  0.00000000e+00,  0.00000000e+00,  0.00000000e+00,\n",
       "        0.00000000e+00,  0.00000000e+00,  0.00000000e+00,  0.00000000e+00,\n",
       "        0.00000000e+00,  0.00000000e+00,  3.90533732e-03,  0.00000000e+00,\n",
       "        0.00000000e+00,  0.00000000e+00,  0.00000000e+00,  0.00000000e+00,\n",
       "        0.00000000e+00,  0.00000000e+00,  0.00000000e+00,  0.00000000e+00,\n",
       "        0.00000000e+00,  0.00000000e+00,  0.00000000e+00,  0.00000000e+00,\n",
       "        0.00000000e+00,  0.00000000e+00,  0.00000000e+00,  0.00000000e+00,\n",
       "        0.00000000e+00,  0.00000000e+00,  0.00000000e+00,  0.00000000e+00,\n",
       "        0.00000000e+00,  0.00000000e+00,  0.00000000e+00,  0.00000000e+00,\n",
       "        0.00000000e+00,  0.00000000e+00,  0.00000000e+00,  0.00000000e+00,\n",
       "        0.00000000e+00,  0.00000000e+00,  0.00000000e+00,  0.00000000e+00,\n",
       "        0.00000000e+00,  0.00000000e+00,  0.00000000e+00,  0.00000000e+00,\n",
       "        0.00000000e+00,  0.00000000e+00,  0.00000000e+00,  0.00000000e+00,\n",
       "        0.00000000e+00,  0.00000000e+00,  0.00000000e+00,  0.00000000e+00,\n",
       "        0.00000000e+00,  0.00000000e+00,  0.00000000e+00,  0.00000000e+00,\n",
       "        0.00000000e+00,  0.00000000e+00,  0.00000000e+00,  0.00000000e+00,\n",
       "        0.00000000e+00,  0.00000000e+00,  0.00000000e+00,  0.00000000e+00,\n",
       "        0.00000000e+00,  0.00000000e+00,  0.00000000e+00,  0.00000000e+00,\n",
       "        0.00000000e+00,  0.00000000e+00,  0.00000000e+00,  0.00000000e+00,\n",
       "        0.00000000e+00,  0.00000000e+00,  0.00000000e+00,  0.00000000e+00,\n",
       "        0.00000000e+00,  0.00000000e+00,  0.00000000e+00,  0.00000000e+00,\n",
       "        0.00000000e+00,  0.00000000e+00,  0.00000000e+00,  0.00000000e+00,\n",
       "        0.00000000e+00,  0.00000000e+00,  0.00000000e+00,  0.00000000e+00,\n",
       "        0.00000000e+00,  0.00000000e+00,  0.00000000e+00,  0.00000000e+00,\n",
       "        0.00000000e+00,  0.00000000e+00,  0.00000000e+00,  0.00000000e+00,\n",
       "        0.00000000e+00,  0.00000000e+00,  0.00000000e+00,  0.00000000e+00,\n",
       "        0.00000000e+00,  0.00000000e+00,  0.00000000e+00,  0.00000000e+00,\n",
       "        0.00000000e+00,  0.00000000e+00,  0.00000000e+00,  0.00000000e+00,\n",
       "        0.00000000e+00,  0.00000000e+00,  0.00000000e+00,  0.00000000e+00,\n",
       "        0.00000000e+00,  0.00000000e+00,  0.00000000e+00,  0.00000000e+00,\n",
       "        0.00000000e+00,  0.00000000e+00,  0.00000000e+00,  0.00000000e+00,\n",
       "        0.00000000e+00,  0.00000000e+00,  0.00000000e+00,  0.00000000e+00,\n",
       "        0.00000000e+00,  0.00000000e+00,  0.00000000e+00,  0.00000000e+00,\n",
       "        0.00000000e+00,  0.00000000e+00,  0.00000000e+00])"
      ]
     },
     "execution_count": 384,
     "metadata": {},
     "output_type": "execute_result"
    }
   ],
   "source": [
    "(step1_p - target_p)[state,:]"
   ]
  },
  {
   "cell_type": "code",
   "execution_count": 401,
   "id": "7a7cf029",
   "metadata": {},
   "outputs": [
    {
     "name": "stderr",
     "output_type": "stream",
     "text": [
      "/tmp/ipykernel_845427/3870119016.py:1: RuntimeWarning: divide by zero encountered in log\n",
      "  target_log_sm = np.log(target_p)\n"
     ]
    },
    {
     "data": {
      "text/plain": [
       "array([[-inf, -inf, -inf, ..., -inf, -inf, -inf],\n",
       "       [-inf, -inf, -inf, ..., -inf, -inf, -inf],\n",
       "       [-inf, -inf, -inf, ..., -inf, -inf, -inf],\n",
       "       ...,\n",
       "       [-inf, -inf, -inf, ..., -inf, -inf, -inf],\n",
       "       [-inf, -inf, -inf, ..., -inf, -inf, -inf],\n",
       "       [-inf, -inf, -inf, ..., -inf, -inf, -inf]])"
      ]
     },
     "execution_count": 401,
     "metadata": {},
     "output_type": "execute_result"
    }
   ],
   "source": [
    "target_log_sm = np.log(target_p)\n",
    "target_cs = np.abs(np.nanmin(q_target, axis=1))\n",
    "target_log_sm + np.tile(target_cs, target_p.shape[1]).reshape(target_p.shape)"
   ]
  },
  {
   "cell_type": "code",
   "execution_count": 411,
   "id": "3fb62b68",
   "metadata": {},
   "outputs": [
    {
     "data": {
      "text/plain": [
       "97.69741490700595"
      ]
     },
     "execution_count": 411,
     "metadata": {},
     "output_type": "execute_result"
    }
   ],
   "source": [
    "np.log(0.1) + 100"
   ]
  },
  {
   "cell_type": "code",
   "execution_count": 416,
   "id": "9c5764d9",
   "metadata": {},
   "outputs": [
    {
     "data": {
      "text/plain": [
       "-2.3025850929940455"
      ]
     },
     "execution_count": 416,
     "metadata": {},
     "output_type": "execute_result"
    }
   ],
   "source": [
    "np.log(0.1) + 0.0"
   ]
  },
  {
   "cell_type": "code",
   "execution_count": 418,
   "id": "017a7002",
   "metadata": {},
   "outputs": [],
   "source": [
    "q_train[0,0] = -2.3025850929940455"
   ]
  },
  {
   "cell_type": "code",
   "execution_count": 437,
   "id": "00122bb9",
   "metadata": {},
   "outputs": [
    {
     "data": {
      "text/plain": [
       "-2.326711431016401"
      ]
     },
     "execution_count": 437,
     "metadata": {},
     "output_type": "execute_result"
    }
   ],
   "source": [
    "for s in range(q_train.shape[0]):\n",
    "    q_train[s,:] = np.random.normal(0.0, scale=.01, size=q_train.shape[1])\n",
    "np.log(0.1) + q_train[0,:].min()"
   ]
  },
  {
   "cell_type": "code",
   "execution_count": 438,
   "id": "515ed112",
   "metadata": {},
   "outputs": [],
   "source": [
    "q_train[0,0] = -2.275911343017511"
   ]
  },
  {
   "cell_type": "code",
   "execution_count": 439,
   "id": "16b37b54",
   "metadata": {},
   "outputs": [
    {
     "data": {
      "text/plain": [
       "array([4.60635559e-07, 4.52030015e-06, 4.47176470e-06, 4.46938492e-06,\n",
       "       4.51979011e-06, 4.50684160e-06, 4.55887875e-06, 4.48112170e-06,\n",
       "       4.49460144e-06, 4.57881863e-06, 4.46462026e-06, 4.52418428e-06,\n",
       "       4.44879859e-06, 4.50388406e-06, 4.57200701e-06, 4.39849531e-06,\n",
       "       4.48241444e-06, 4.51894361e-06, 4.48258047e-06, 4.48062626e-06,\n",
       "       4.55706501e-06, 4.48712285e-06, 4.47177852e-06, 4.47832366e-06,\n",
       "       4.46381682e-06, 4.49738526e-06, 4.43697662e-06, 4.49713397e-06,\n",
       "       4.45591390e-06, 4.38719547e-06, 4.50504805e-06, 4.45477544e-06,\n",
       "       4.44576656e-06, 4.54956783e-06, 4.51576768e-06, 4.45153466e-06,\n",
       "       4.46893437e-06, 4.47806037e-06, 4.55541231e-06, 4.49753966e-06,\n",
       "       4.56655794e-06, 4.44977959e-06, 4.50433431e-06, 4.51041247e-06,\n",
       "       4.53609102e-06, 4.44113862e-06, 4.57369059e-06, 4.48573775e-06,\n",
       "       4.51288229e-06, 4.50504230e-06, 4.52919141e-06, 4.54219848e-06,\n",
       "       4.54961172e-06, 4.43839881e-06, 4.47719250e-06, 4.42865067e-06,\n",
       "       4.46855111e-06, 4.44081634e-06, 4.43948509e-06, 4.41852721e-06,\n",
       "       4.49907221e-06, 4.51690776e-06, 4.46830019e-06, 4.53575618e-06,\n",
       "       4.48995508e-06, 4.50097131e-06, 4.46089441e-06, 4.54311788e-06,\n",
       "       4.50016066e-06, 4.48411928e-06, 4.55537831e-06, 4.47424706e-06,\n",
       "       4.47580698e-06, 4.50990033e-06, 4.49519156e-06, 4.48062284e-06,\n",
       "       4.51379867e-06, 4.46586261e-06, 4.43477445e-06, 4.48973755e-06,\n",
       "       4.44031909e-06, 4.41775023e-06, 4.49493575e-06, 4.52866125e-06,\n",
       "       4.51172312e-06, 4.54846389e-06, 4.42975565e-06, 4.50680231e-06,\n",
       "       4.51143616e-06, 4.41017214e-06, 4.48120527e-06, 4.43513841e-06,\n",
       "       4.40362178e-06, 4.49013021e-06, 4.51745769e-06, 4.46546649e-06,\n",
       "       4.50664646e-06, 4.51395853e-06, 4.46338218e-06, 4.45148045e-06,\n",
       "       4.51354803e-06, 4.45437451e-06, 4.51801790e-06, 4.52309908e-06,\n",
       "       4.48148912e-06, 4.47979432e-06, 4.49784370e-06, 4.48230376e-06,\n",
       "       4.47541980e-06, 4.50778567e-06, 4.46932399e-06, 4.49916759e-06,\n",
       "       4.48590457e-06, 4.45137041e-06, 4.49158168e-06, 4.47869469e-06,\n",
       "       4.50383676e-06, 4.50276735e-06, 4.42966494e-06, 4.48687939e-06,\n",
       "       4.54380165e-06, 4.46731333e-06, 4.51996910e-06, 4.43130641e-06,\n",
       "       4.54075549e-06, 4.48672546e-06, 4.46610655e-06, 4.54072884e-06,\n",
       "       4.38494983e-06, 4.52003144e-06, 4.47642611e-06, 4.46169391e-06,\n",
       "       4.57247527e-06, 4.50453528e-06, 4.52995639e-06, 4.47532760e-06,\n",
       "       4.47108303e-06, 4.50097100e-06, 4.48686336e-06, 4.49490081e-06,\n",
       "       4.51380156e-06, 4.50088537e-06, 4.47101592e-06, 4.44892816e-06,\n",
       "       4.51205596e-06, 4.45521300e-06, 4.42134356e-06, 4.53908341e-06,\n",
       "       4.42285451e-06, 4.43920540e-06, 4.52019964e-06, 4.42150857e-06,\n",
       "       4.45989614e-06, 4.47815025e-06, 4.44104457e-06, 4.40199273e-06,\n",
       "       4.46148046e-06, 4.45707148e-06, 4.52547511e-06, 4.40717915e-06,\n",
       "       4.50963237e-06, 4.45220032e-06, 4.49004260e-06, 4.44555260e-06,\n",
       "       4.51508428e-06, 4.48201195e-06, 4.50113884e-06, 4.41526542e-06,\n",
       "       4.46564885e-06, 4.48129728e-06, 4.53460108e-06, 4.47385717e-06,\n",
       "       4.46184705e-06, 4.50221693e-06, 4.45233753e-06, 4.43325550e-06,\n",
       "       4.48716582e-06, 4.44891582e-06, 4.49943473e-06, 4.45170306e-06,\n",
       "       4.37935728e-06, 4.53021634e-06, 4.55153003e-06, 4.53103864e-06,\n",
       "       4.47515453e-06, 4.49419986e-06, 4.47155990e-06, 4.53333159e-06,\n",
       "       4.39786773e-06, 4.48874309e-06, 4.54213985e-06, 4.44463323e-06,\n",
       "       4.42673016e-06, 4.49921366e-06, 4.45342006e-06, 4.50258069e-06,\n",
       "       4.46928639e-06, 4.45186741e-06, 4.48770122e-06, 4.46214716e-06,\n",
       "       4.54223070e-06, 4.50371519e-06, 4.48591658e-06, 4.55061328e-06,\n",
       "       4.47159270e-06, 4.43139045e-06, 4.53987103e-06, 4.52429030e-06,\n",
       "       4.40481474e-06, 4.44709407e-06, 4.49297233e-06, 4.45444507e-06,\n",
       "       4.49288437e-06, 4.44946294e-06, 4.50582250e-06, 4.46132730e-06,\n",
       "       4.48559692e-06, 4.47191653e-06, 4.47166455e-06, 4.51628053e-06,\n",
       "       4.46332192e-06, 4.47461237e-06, 4.49947149e-06, 4.56167966e-06,\n",
       "       4.58468099e-06, 4.38075169e-06, 4.50090790e-06, 4.48668394e-06,\n",
       "       4.41185501e-06, 4.43111759e-06, 4.60612161e-06, 4.51534714e-06,\n",
       "       4.49060382e-06, 4.53841684e-06, 4.44002079e-06, 4.51781890e-06,\n",
       "       4.49704246e-06, 4.45412989e-06, 4.54011404e-06, 4.47436925e-06,\n",
       "       4.58800308e-06, 4.52582459e-06, 4.44863057e-06, 4.44243277e-06,\n",
       "       4.55644399e-06, 4.43695175e-06, 4.49513552e-06, 4.38296709e-06,\n",
       "       4.48143119e-06, 4.44791869e-06, 4.37819663e-06, 4.44704621e-06,\n",
       "       4.51532141e-06, 4.55462751e-06, 4.53940843e-06, 4.47539875e-06,\n",
       "       4.49411897e-06, 4.50967618e-06, 4.50794665e-06, 4.45227156e-06,\n",
       "       4.45437435e-06, 4.52360483e-06, 4.47936514e-06, 4.45182452e-06,\n",
       "       4.44539073e-06, 4.53620920e-06, 4.42543452e-06, 4.44956445e-06,\n",
       "       4.49737317e-06, 4.49240604e-06, 4.60622614e-06, 4.54301235e-06,\n",
       "       4.48578089e-06, 4.48720909e-06, 4.51415909e-06, 4.39710580e-06,\n",
       "       4.49271203e-06, 4.48167904e-06, 4.45285651e-06, 4.51950694e-06,\n",
       "       4.48266358e-06, 4.54545800e-06, 4.49249998e-06, 4.49103067e-06,\n",
       "       4.38428627e-06, 4.47498845e-06, 4.44231915e-06, 4.39526351e-06,\n",
       "       4.48748244e-06, 4.52913410e-06, 4.51940570e-06, 4.42723428e-06,\n",
       "       4.45592160e-06, 4.51586447e-06, 4.54450714e-06, 4.43421371e-06,\n",
       "       4.44617541e-06, 4.42237697e-06, 4.46638208e-06, 4.50181542e-06,\n",
       "       4.47993779e-06, 4.48726001e-06, 4.57918762e-06, 4.47030063e-06,\n",
       "       4.50348720e-06, 4.51889746e-06, 4.58754570e-06, 4.51017164e-06,\n",
       "       4.41757405e-06, 4.41729656e-06, 4.53728570e-06, 4.40007771e-06,\n",
       "       4.53713607e-06, 4.46387695e-06, 4.53150416e-06, 4.40271806e-06,\n",
       "       4.52400621e-06, 4.46396597e-06, 4.50516811e-06, 4.46650851e-06,\n",
       "       4.51448899e-06, 4.56444512e-06, 4.52401524e-06, 4.47595602e-06,\n",
       "       4.51079110e-06, 4.45876618e-06, 4.48056791e-06, 4.49465754e-06,\n",
       "       4.45202810e-06, 4.46909774e-06, 4.50796394e-06, 4.48319568e-06,\n",
       "       4.49476249e-06, 4.52254645e-06, 4.51569448e-06, 4.52999731e-06,\n",
       "       4.57832938e-06, 4.50027164e-06, 4.45772128e-06, 4.43904003e-06,\n",
       "       4.47222569e-06, 4.41669332e-06, 4.49223844e-06])"
      ]
     },
     "execution_count": 439,
     "metadata": {},
     "output_type": "execute_result"
    }
   ],
   "source": [
    "p_train = scipy.special.softmax(q_train)\n",
    "p_train[0,:]"
   ]
  },
  {
   "cell_type": "code",
   "execution_count": 436,
   "id": "b7e04592",
   "metadata": {},
   "outputs": [],
   "source": [
    "p_train = np.random.normal(0.0, scale=.01, size=q_train.shape[1])"
   ]
  },
  {
   "cell_type": "code",
   "execution_count": 448,
   "id": "4379bfb6",
   "metadata": {},
   "outputs": [],
   "source": [
    "q_train = np.random.normal(0.0, scale=1, size=4)\n",
    "p_train = scipy.special.softmax(q_train, axis=0)"
   ]
  },
  {
   "cell_type": "code",
   "execution_count": 465,
   "id": "8ce112e2",
   "metadata": {},
   "outputs": [
    {
     "data": {
      "text/plain": [
       "array([-0.38573517, -0.53020672,  0.38726019, -0.74852685])"
      ]
     },
     "execution_count": 465,
     "metadata": {},
     "output_type": "execute_result"
    }
   ],
   "source": [
    "q_train"
   ]
  },
  {
   "cell_type": "code",
   "execution_count": 455,
   "id": "93f44728",
   "metadata": {},
   "outputs": [
    {
     "data": {
      "text/plain": [
       "array([-1.16612705, -1.31059859, -0.39313169, -1.52891873])"
      ]
     },
     "execution_count": 455,
     "metadata": {},
     "output_type": "execute_result"
    }
   ],
   "source": [
    "p_train\n",
    "np.log(p_train) + q_train.max()"
   ]
  },
  {
   "cell_type": "code",
   "execution_count": 456,
   "id": "188b459f",
   "metadata": {},
   "outputs": [],
   "source": [
    "c = np.log((np.exp(q_train)).sum())"
   ]
  },
  {
   "cell_type": "code",
   "execution_count": 463,
   "id": "766ec01d",
   "metadata": {},
   "outputs": [
    {
     "data": {
      "text/plain": [
       "array([-0.38573517, -0.53020672,  0.38726019, -0.74852685])"
      ]
     },
     "execution_count": 463,
     "metadata": {},
     "output_type": "execute_result"
    }
   ],
   "source": [
    "np.log(p_train) + c"
   ]
  },
  {
   "cell_type": "code",
   "execution_count": 461,
   "id": "5607ed90",
   "metadata": {},
   "outputs": [],
   "source": [
    "max_unsafe_q = np.log(.3) + c"
   ]
  },
  {
   "cell_type": "code",
   "execution_count": 473,
   "id": "0373a7eb",
   "metadata": {},
   "outputs": [],
   "source": [
    "smap = np.array([False, False, True, True])"
   ]
  },
  {
   "cell_type": "code",
   "execution_count": 480,
   "id": "560e6efd",
   "metadata": {},
   "outputs": [],
   "source": [
    "max_q  = np.log(1) + c"
   ]
  },
  {
   "cell_type": "code",
   "execution_count": 484,
   "id": "16bd1b79",
   "metadata": {},
   "outputs": [],
   "source": [
    "max_safe_q = np.log(.7) + c"
   ]
  },
  {
   "cell_type": "code",
   "execution_count": 485,
   "id": "91f5b51a",
   "metadata": {},
   "outputs": [
    {
     "data": {
      "text/plain": [
       "0.8109771258733989"
      ]
     },
     "execution_count": 485,
     "metadata": {},
     "output_type": "execute_result"
    }
   ],
   "source": [
    "max_safe_q"
   ]
  },
  {
   "cell_type": "code",
   "execution_count": 474,
   "id": "24ab8a1b",
   "metadata": {},
   "outputs": [
    {
     "data": {
      "text/plain": [
       "array([-0.08624488, -0.06274474])"
      ]
     },
     "execution_count": 474,
     "metadata": {},
     "output_type": "execute_result"
    }
   ],
   "source": [
    "max_unsafe_q / (q_train[~smap] / q_train[~smap].sum())"
   ]
  },
  {
   "cell_type": "code",
   "execution_count": 486,
   "id": "5005f092",
   "metadata": {},
   "outputs": [],
   "source": [
    "q_train_safe_adjust = q_train.copy()\n",
    "q_train_safe_adjust[~smap] = max_unsafe_q / (q_train[~smap] / q_train[~smap].sum())\n",
    "q_train_adjust = q_train_safe_adjust.copy()\n",
    "q_train_adjust[smap] = max_safe_q / (q_train[smap] / q_train[smap].sum())"
   ]
  },
  {
   "cell_type": "code",
   "execution_count": 489,
   "id": "e01025e6",
   "metadata": {},
   "outputs": [
    {
     "data": {
      "text/plain": [
       "(-0.5141251734822341, -1.277208549740939)"
      ]
     },
     "execution_count": 489,
     "metadata": {},
     "output_type": "execute_result"
    }
   ],
   "source": [
    "q_train_adjust.sum(), q_train.sum()"
   ]
  },
  {
   "cell_type": "code",
   "execution_count": 492,
   "id": "696e43fd",
   "metadata": {},
   "outputs": [
    {
     "data": {
      "text/plain": [
       "array([-0.38573517, -0.53020672,  0.38726019, -0.74852685])"
      ]
     },
     "execution_count": 492,
     "metadata": {},
     "output_type": "execute_result"
    }
   ],
   "source": [
    "q_train"
   ]
  },
  {
   "cell_type": "code",
   "execution_count": 478,
   "id": "c413cd48",
   "metadata": {},
   "outputs": [
    {
     "data": {
      "text/plain": [
       "array([-0.08624488, -0.06274474,  0.38726019, -0.74852685])"
      ]
     },
     "execution_count": 478,
     "metadata": {},
     "output_type": "execute_result"
    }
   ],
   "source": [
    "q_train_safe_adjust"
   ]
  },
  {
   "cell_type": "code",
   "execution_count": 479,
   "id": "4c285756",
   "metadata": {},
   "outputs": [
    {
     "data": {
      "text/plain": [
       "-0.5102562736525782"
      ]
     },
     "execution_count": 479,
     "metadata": {},
     "output_type": "execute_result"
    }
   ],
   "source": [
    "q_train_safe_adjust.sum()"
   ]
  },
  {
   "cell_type": "code",
   "execution_count": 532,
   "id": "82bc80c4",
   "metadata": {},
   "outputs": [
    {
     "data": {
      "text/plain": [
       "array([0.21153025, 0.18307511, 0.45822641, 0.14716823])"
      ]
     },
     "execution_count": 532,
     "metadata": {},
     "output_type": "execute_result"
    }
   ],
   "source": [
    "p_train"
   ]
  },
  {
   "cell_type": "code",
   "execution_count": 632,
   "id": "c3a6e910",
   "metadata": {},
   "outputs": [
    {
     "data": {
      "text/plain": [
       "(array([0.07905064, 0.07905064, 0.6372376 , 0.20466112]), 0.15810127562039258)"
      ]
     },
     "execution_count": 632,
     "metadata": {},
     "output_type": "execute_result"
    }
   ],
   "source": [
    "# TODO: scale/calibrate probabilities multiple unsafe actions\n",
    "# TODO: include temperature parameter\n",
    "safety_matrix = np.array([False, False, True, True])\n",
    "max_unsafe = .5\n",
    "max_adjust = min(p_train[0], max_unsafe)\n",
    "q_train_adjust = q_train.copy()\n",
    "q_train_adjust[~safety_matrix] = np.log(max_adjust / (~safety_matrix).sum()) + c\n",
    "q_train_adjust[safety_matrix] += (q_train[~safety_matrix] - q_train_adjust[~safety_matrix]).sum() / len(q_train_adjust[safety_matrix])\n",
    "p_adjust = scipy.special.softmax(q_train_adjust)\n",
    "p_adjust, p_adjust[~safety_matrix].sum()"
   ]
  },
  {
   "cell_type": "code",
   "execution_count": 628,
   "id": "ed28698b",
   "metadata": {},
   "outputs": [
    {
     "data": {
      "text/plain": [
       "array([0.21153025, 0.18307511, 0.45822641, 0.14716823])"
      ]
     },
     "execution_count": 628,
     "metadata": {},
     "output_type": "execute_result"
    }
   ],
   "source": []
  },
  {
   "cell_type": "code",
   "execution_count": 580,
   "id": "6aa3d520",
   "metadata": {},
   "outputs": [
    {
     "name": "stderr",
     "output_type": "stream",
     "text": [
      "/tmp/ipykernel_845427/2441347456.py:1: RuntimeWarning: invalid value encountered in log\n",
      "  np.log(q_train[0]) - np.log(q_train_adjust[0])\n"
     ]
    },
    {
     "data": {
      "text/plain": [
       "nan"
      ]
     },
     "execution_count": 580,
     "metadata": {},
     "output_type": "execute_result"
    }
   ],
   "source": [
    "np.log(q_train[0]) - np.log(q_train_adjust[0])"
   ]
  },
  {
   "cell_type": "code",
   "execution_count": null,
   "id": "5e2ae4ea",
   "metadata": {},
   "outputs": [],
   "source": []
  },
  {
   "cell_type": "code",
   "execution_count": 557,
   "id": "a1d36df8",
   "metadata": {},
   "outputs": [],
   "source": [
    "log_adjusted = np.log(q_train[0] - q_train_adjust[0])"
   ]
  },
  {
   "cell_type": "code",
   "execution_count": 558,
   "id": "1837b651",
   "metadata": {},
   "outputs": [
    {
     "data": {
      "text/plain": [
       "-0.2887521799052821"
      ]
     },
     "execution_count": 558,
     "metadata": {},
     "output_type": "execute_result"
    }
   ],
   "source": [
    "log_adjusted"
   ]
  },
  {
   "cell_type": "code",
   "execution_count": 552,
   "id": "0254168d",
   "metadata": {},
   "outputs": [
    {
     "data": {
      "text/plain": [
       "-0.3857351745014398"
      ]
     },
     "execution_count": 552,
     "metadata": {},
     "output_type": "execute_result"
    }
   ],
   "source": [
    "min(q_train[0], max_unsafe)"
   ]
  },
  {
   "cell_type": "code",
   "execution_count": 524,
   "id": "48defc4c",
   "metadata": {},
   "outputs": [
    {
     "data": {
      "text/plain": [
       "0.7491978486804743"
      ]
     },
     "execution_count": 524,
     "metadata": {},
     "output_type": "execute_result"
    }
   ],
   "source": [
    "q_train[0] - q_train_adjust[0]"
   ]
  },
  {
   "cell_type": "code",
   "execution_count": 525,
   "id": "1486b610",
   "metadata": {},
   "outputs": [
    {
     "data": {
      "text/plain": [
       "-0.2887521799052821"
      ]
     },
     "execution_count": 525,
     "metadata": {},
     "output_type": "execute_result"
    }
   ],
   "source": [
    "np.log(q_train[0] - q_train_adjust[0])"
   ]
  },
  {
   "cell_type": "code",
   "execution_count": 513,
   "id": "a63f7dd3",
   "metadata": {},
   "outputs": [
    {
     "data": {
      "text/plain": [
       "-1.1349330231819141"
      ]
     },
     "execution_count": 513,
     "metadata": {},
     "output_type": "execute_result"
    }
   ],
   "source": [
    "q_train_adjust[0]"
   ]
  },
  {
   "cell_type": "code",
   "execution_count": 518,
   "id": "bed2bf5c",
   "metadata": {},
   "outputs": [
    {
     "data": {
      "text/plain": [
       "0.24973261622682477"
      ]
     },
     "execution_count": 518,
     "metadata": {},
     "output_type": "execute_result"
    }
   ],
   "source": [
    "(q_train[0] - q_train_adjust[0]) / len(q_train_adjust[1:])"
   ]
  },
  {
   "cell_type": "code",
   "execution_count": 522,
   "id": "ad4a1fa8",
   "metadata": {},
   "outputs": [
    {
     "data": {
      "text/plain": [
       "(array([-0.38573517, -0.53020672,  0.38726019, -0.74852685]),\n",
       " array([-1.13493302, -0.2804741 ,  0.63699281, -0.49879423]))"
      ]
     },
     "execution_count": 522,
     "metadata": {},
     "output_type": "execute_result"
    }
   ],
   "source": [
    "q_train, q_train_adjust"
   ]
  },
  {
   "cell_type": "code",
   "execution_count": null,
   "id": "1d1e3640",
   "metadata": {},
   "outputs": [],
   "source": []
  }
 ],
 "metadata": {
  "kernelspec": {
   "display_name": "Python 3 (ipykernel)",
   "language": "python",
   "name": "python3"
  },
  "language_info": {
   "codemirror_mode": {
    "name": "ipython",
    "version": 3
   },
   "file_extension": ".py",
   "mimetype": "text/x-python",
   "name": "python",
   "nbconvert_exporter": "python",
   "pygments_lexer": "ipython3",
   "version": "3.11.0"
  }
 },
 "nbformat": 4,
 "nbformat_minor": 5
}
