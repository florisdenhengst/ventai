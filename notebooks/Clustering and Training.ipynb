{
 "cells": [
  {
   "cell_type": "code",
   "execution_count": 1,
   "metadata": {},
   "outputs": [],
   "source": [
    "import copy\n",
    "from collections.abc import Iterable\n",
    "import functools\n",
    "import itertools\n",
    "import operator\n",
    "from matplotlib import pyplot as plt\n",
    "\n",
    "import pandas as pd\n",
    "from pandas.api.types import is_numeric_dtype\n",
    "import numpy as np\n",
    "import numpy_ext as npe\n",
    "import math\n",
    "import random\n",
    "from pprint import pprint\n",
    "from scipy.optimize import curve_fit\n",
    "from scipy.stats import poisson\n",
    "from scipy.sparse import hstack, csr_matrix\n",
    "\n",
    "from sklearn.cluster import KMeans\n",
    "from sklearn.linear_model import LinearRegression\n",
    "from sklearn.decomposition import PCA\n",
    "from sklearn.impute import KNNImputer\n",
    "from sklearn.preprocessing import Normalizer, StandardScaler, OneHotEncoder\n",
    "from sklearn.model_selection import train_test_split\n",
    "from sklearn import metrics\n",
    "import joblib\n",
    "\n",
    "import seaborn as sns\n",
    "\n",
    "import sys\n",
    "\n",
    "from config import demographics, vital_sign_vars, lab_vars, treatment_vars, vent_vars, guideline_vars, ffill_windows_clinical, SAMPLE_TIME_H\n",
    "from config import fio2_bins, peep_bins, tv_bins"
   ]
  },
  {
   "cell_type": "code",
   "execution_count": 2,
   "metadata": {},
   "outputs": [],
   "source": [
    "scalers_dir = 'scalers/'\n",
    "data_dir = 'data/'\n",
    "seed = 4\n",
    "np.random.seed(seed)\n",
    "random.seed(seed)\n",
    "all_var_types = [\n",
    "    vital_sign_vars,\n",
    "    lab_vars,\n",
    "    treatment_vars,\n",
    "    vent_vars,\n",
    "    guideline_vars,\n",
    "]\n",
    "all_vars = functools.reduce(operator.add, all_var_types)"
   ]
  },
  {
   "cell_type": "code",
   "execution_count": 3,
   "metadata": {},
   "outputs": [],
   "source": [
    "train_set = pd.read_csv(data_dir + 'train_imputed.csv')\n",
    "clinical_train_scaler = joblib.load(scalers_dir + 'train/clinical_std_scaler.bin')\n",
    "demographics_train_scaler = joblib.load(scalers_dir + 'train/demographics_std_scaler.bin')\n",
    "\n",
    "test_set = pd.read_csv(data_dir + 'test_ffilled.csv')\n",
    "val_set = pd.read_csv(data_dir + 'validation_ffilled.csv')\n",
    "\n",
    "knn_imputer = joblib.load(scalers_dir + 'train/knn_imputer.bin')\n",
    "scalers = {}\n",
    "for var in all_vars + demographics:\n",
    "    try:\n",
    "        scalers[var] = joblib.load(scalers_dir + 'train/{}_std_scaler.bin'.format(var))\n",
    "    except FileNotFoundError:\n",
    "        pass\n",
    "\n",
    "# TODO: FIX for test and validation sets: scaling (w/ train scaler?), knn imputation (w/ train clusterer), scaling (w/ train scaler?) and clustering (w/ train clusterer)\n",
    "# for df in (test_set, val_set):\n",
    "#     vars_to_impute = []\n",
    "#     for var in all_vars:\n",
    "#         if pd.api.types.is_numeric_dtype(df[var]):\n",
    "#             ffilled = var + '_imp'\n",
    "#             non_nas = df[~df[ffilled].isna()][ffilled].to_numpy().reshape(-1,1)\n",
    "#             scaled = scalers[var].transform(non_nas)\n",
    "#             scaledvarname = ffilled + '_scaled'\n",
    "#             df[scaledvarname] = pd.Series(scaled.reshape(1,-1)[0])\n",
    "#             vars_to_impute.append(scaledvarname)\n",
    "#     for var in demographics:\n",
    "#         if pd.api.types.is_numeric_dtype(df[var]):\n",
    "#             non_nas = df[~df[var].isna()][var].to_numpy().reshape(-1, 1)\n",
    "#             scaled = scalers[var].transform(df[var].to_numpy().reshape(-1,1))\n",
    "#             scaledvarname = var + '_scaled'\n",
    "#             df[scaledvarname] = pd.Series(scaled.reshape(1,-1)[0])\n",
    "#             vars_to_impute.append(scaledvarname)\n",
    "#     knn_imputed_vars = list(map(lambda x: x + '_impknn', vars_to_impute))\n",
    "#     imputed = knn_imputer.transform(df[vars_to_impute].to_numpy())\n",
    "#     df.loc[:, knn_imputed_vars] = imputed"
   ]
  },
  {
   "cell_type": "code",
   "execution_count": 4,
   "metadata": {},
   "outputs": [],
   "source": [
    "# NOTE: these have not been rescaled after imputation\n",
    "test_set.to_csv(data_dir + 'test_imputed.csv')\n",
    "val_set.to_csv(data_dir + 'validation_imputed.csv')"
   ]
  },
  {
   "cell_type": "code",
   "execution_count": 5,
   "metadata": {},
   "outputs": [],
   "source": [
    "var_to_state_var = {}\n",
    "for var in all_vars + demographics:\n",
    "    if var + '_imp_scaled_impknn' in train_set.columns:\n",
    "        var_to_state_var[var] = var + '_imp_scaled_impknn'\n",
    "    elif var + '_scaled_impknn' in train_set.columns:\n",
    "        var_to_state_var[var] = var + '_scaled_impknn'\n",
    "        \n",
    "# TODO: validate if this contains all vars\n",
    "state_variables = list(var_to_state_var.values())"
   ]
  },
  {
   "cell_type": "code",
   "execution_count": 6,
   "metadata": {
    "scrolled": true
   },
   "outputs": [
    {
     "name": "stdout",
     "output_type": "stream",
     "text": [
      "sofa_imp_scaled_impknn              : -0.0023 0.2137 1.0400\n",
      "sirs_imp_scaled_impknn              : 0.0078 -0.1052 0.9961\n",
      "gcs_imp_scaled_impknn               : 0.0553 0.1325 1.0461\n",
      "heartrate_imp_scaled_impknn         : 0.0029 -0.0568 1.0017\n",
      "sysbp_imp_scaled_impknn             : -0.0235 -0.1482 0.9870\n",
      "meanbp_imp_scaled_impknn            : -0.0121 -0.1202 0.9930\n",
      "diasbp_imp_scaled_impknn            : -0.0065 -0.0906 0.9989\n",
      "shockindex_imp_scaled_impknn        : 0.0187 -0.1056 1.0305\n",
      "resprate_imp_scaled_impknn          : 0.0314 -0.0862 1.0066\n",
      "spo2_imp_scaled_impknn              : -0.0648 0.1289 1.0770\n",
      "tempc_imp_scaled_impknn             : -0.0387 -0.0445 0.9840\n",
      "potassium_imp_scaled_impknn         : 0.0398 -0.0859 0.9847\n",
      "sodium_imp_scaled_impknn            : -0.0246 -0.0767 0.9787\n",
      "chloride_imp_scaled_impknn          : -0.0214 0.0176 0.9925\n",
      "glucose_imp_scaled_impknn           : 0.0095 -0.1841 1.0040\n",
      "bun_imp_scaled_impknn               : 0.0726 -0.2464 1.0587\n",
      "creatinine_imp_scaled_impknn        : 0.0742 -0.2799 1.1243\n",
      "magnesium_imp_scaled_impknn         : 0.0213 -0.0884 0.9981\n",
      "calcium_imp_scaled_impknn           : 0.0207 0.0179 0.9782\n",
      "ionizedcalcium_imp_scaled_impknn    : -0.0034 -0.0197 0.4160\n",
      "carbondioxide_imp_scaled_impknn     : 0.0042 -0.0695 0.9851\n",
      "bilirubin_imp_scaled_impknn         : -0.0487 -0.2515 0.7165\n",
      "albumin_imp_scaled_impknn           : 0.1167 0.1467 0.7580\n",
      "hemoglobin_imp_scaled_impknn        : -0.0312 -0.1303 0.9580\n",
      "wbc_imp_scaled_impknn               : 0.0076 -0.1458 1.1139\n",
      "platelet_imp_scaled_impknn          : -0.0152 -0.1876 1.0090\n",
      "ptt_imp_scaled_impknn               : 0.0591 -0.2368 1.0303\n",
      "pt_imp_scaled_impknn                : 0.0407 -0.2252 1.0498\n",
      "inr_imp_scaled_impknn               : 0.0360 -0.2177 1.0880\n",
      "ph_imp_scaled_impknn                : -0.0305 0.0862 0.9572\n",
      "pao2_imp_scaled_impknn              : 0.0250 0.0431 0.7072\n",
      "paco2_imp_scaled_impknn             : 0.0436 -0.0341 0.9784\n",
      "base_excess_imp_scaled_impknn       : -0.0077 0.1439 1.0021\n",
      "bicarbonate_imp_scaled_impknn       : 0.0023 -0.0517 1.0146\n",
      "lactate_imp_scaled_impknn           : 0.0062 -0.2255 0.8832\n",
      "pao2fio2ratio_imp_scaled_impknn     : 0.0409 0.0245 0.7045\n",
      "iv_total_imp_scaled_impknn          : 0.0736 -0.2671 0.9846\n",
      "vaso_total_imp_scaled_impknn        : -0.0020 -0.1340 0.5924\n",
      "urineoutput_imp_scaled_impknn       : 0.0563 -0.1492 0.9802\n",
      "cum_fluid_balance_imp_scaled_impknn : -0.0435 0.1829 1.0321\n",
      "peep_imp_scaled_impknn              : 0.0752 -0.5763 1.0110\n",
      "fio2_imp_scaled_impknn              : 0.1486 0.2784 1.0287\n",
      "tidal_volume_imp_scaled_impknn      : 0.0017 -0.0071 1.0533\n",
      "mechvent_imp_scaled_impknn          : -0.0324 0.4390 1.0486\n",
      "plateau_pressure_imp_scaled_impknn  : -0.0122 -0.0997 0.6555\n",
      "admission_age_scaled_impknn         : -0.1717 -0.1248 0.1030\n",
      "adult_ibw_scaled_impknn             : -0.0056 0.0448 1.0072\n",
      "height_scaled_impknn                : -0.0045 0.0492 1.0138\n",
      "weight_scaled_impknn                : -0.0105 -0.0106 0.0000\n",
      "elixhauser_vanwalraven_scaled_impknn: -0.1066 -0.1846 0.5071\n",
      "vent_duration_h_scaled_impknn       : 0.1452 -0.2197 1.1043\n"
     ]
    }
   ],
   "source": [
    "longest_sv = max(map(len, state_variables))\n",
    "for sv in state_variables:\n",
    "    print((\"{:<\" + str(longest_sv) +\"}: {:.4f} {:.4f} {:.4f}\").format(sv, train_set[sv].mean(), train_set[sv].median(), train_set[sv].var()))"
   ]
  },
  {
   "cell_type": "code",
   "execution_count": 7,
   "metadata": {},
   "outputs": [],
   "source": [
    "# NOTE: mirror the changes made here in the 'unscale' logic\n",
    "rescaler = StandardScaler()\n",
    "\n",
    "rescaled = rescaler.fit_transform(train_set[state_variables])\n",
    "rs_state_varnames = [var + '_rescaled' for var in state_variables]\n",
    "train_set[rs_state_varnames] = rescaled\n",
    "\n",
    "rescaled_test = rescaler.transform(test_set[state_variables])\n",
    "test_set[rs_state_varnames] = rescaled_test"
   ]
  },
  {
   "cell_type": "code",
   "execution_count": 8,
   "metadata": {},
   "outputs": [],
   "source": [
    "n_states = 650 # according to Peine's paper\n",
    "clusterer = KMeans(n_clusters=n_states)\n",
    "train_clusters = clusterer.fit_predict(train_set[rs_state_varnames])\n",
    "test_clusters = clusterer.predict(test_set[rs_state_varnames])"
   ]
  },
  {
   "cell_type": "code",
   "execution_count": 9,
   "metadata": {},
   "outputs": [
    {
     "data": {
      "text/plain": [
       "Text(0.5, 1.0, 'Train set state cluster distr')"
      ]
     },
     "execution_count": 9,
     "metadata": {},
     "output_type": "execute_result"
    },
    {
     "data": {
      "image/png": "[encoded data removed]",
      "text/plain": [
       "<Figure size 432x288 with 1 Axes>"
      ]
     },
     "metadata": {
      "needs_background": "light"
     },
     "output_type": "display_data"
    }
   ],
   "source": [
    "sns.histplot(train_clusters, bins=n_states)\n",
    "plt.title('Train set state cluster distr')"
   ]
  },
  {
   "cell_type": "code",
   "execution_count": 10,
   "metadata": {},
   "outputs": [
    {
     "data": {
      "text/plain": [
       "Text(0.5, 1.0, 'Test set state cluster distr')"
      ]
     },
     "execution_count": 10,
     "metadata": {},
     "output_type": "execute_result"
    },
    {
     "data": {
      "image/png": "[encoded data removed]",
      "text/plain": [
       "<Figure size 432x288 with 1 Axes>"
      ]
     },
     "metadata": {
      "needs_background": "light"
     },
     "output_type": "display_data"
    }
   ],
   "source": [
    "sns.histplot(test_clusters, bins=n_states)\n",
    "plt.title('Test set state cluster distr')"
   ]
  },
  {
   "cell_type": "code",
   "execution_count": 11,
   "metadata": {},
   "outputs": [
    {
     "data": {
      "text/plain": [
       "576    446\n",
       "201    375\n",
       "14     369\n",
       "117    367\n",
       "10     366\n",
       "      ... \n",
       "223      6\n",
       "30       1\n",
       "190      1\n",
       "123      1\n",
       "432      1\n",
       "Length: 650, dtype: int64"
      ]
     },
     "execution_count": 11,
     "metadata": {},
     "output_type": "execute_result"
    }
   ],
   "source": [
    "clusters = pd.Series(train_clusters)\n",
    "test_clusters_series = pd.Series(test_clusters)\n",
    "clusters.value_counts()"
   ]
  },
  {
   "cell_type": "code",
   "execution_count": 12,
   "metadata": {},
   "outputs": [
    {
     "name": "stdout",
     "output_type": "stream",
     "text": [
      "sofa_imp_scaled_impknn_rescaled              : 0.0000 0.2118 1.0000\n",
      "sirs_imp_scaled_impknn_rescaled              : -0.0000 -0.1132 1.0000\n",
      "gcs_imp_scaled_impknn_rescaled               : 0.0000 0.0755 1.0000\n",
      "heartrate_imp_scaled_impknn_rescaled         : -0.0000 -0.0597 1.0000\n",
      "sysbp_imp_scaled_impknn_rescaled             : 0.0000 -0.1254 1.0000\n",
      "meanbp_imp_scaled_impknn_rescaled            : -0.0000 -0.1085 1.0000\n",
      "diasbp_imp_scaled_impknn_rescaled            : -0.0000 -0.0842 1.0000\n",
      "shockindex_imp_scaled_impknn_rescaled        : -0.0000 -0.1224 1.0000\n",
      "resprate_imp_scaled_impknn_rescaled          : -0.0000 -0.1172 1.0000\n",
      "spo2_imp_scaled_impknn_rescaled              : -0.0000 0.1867 1.0000\n",
      "tempc_imp_scaled_impknn_rescaled             : -0.0000 -0.0059 1.0000\n",
      "potassium_imp_scaled_impknn_rescaled         : 0.0000 -0.1267 1.0000\n",
      "sodium_imp_scaled_impknn_rescaled            : -0.0000 -0.0526 1.0000\n",
      "chloride_imp_scaled_impknn_rescaled          : 0.0000 0.0392 1.0000\n",
      "glucose_imp_scaled_impknn_rescaled           : 0.0000 -0.1932 1.0000\n",
      "bun_imp_scaled_impknn_rescaled               : -0.0000 -0.3100 1.0000\n",
      "creatinine_imp_scaled_impknn_rescaled        : 0.0000 -0.3340 1.0000\n",
      "magnesium_imp_scaled_impknn_rescaled         : -0.0000 -0.1098 1.0000\n",
      "calcium_imp_scaled_impknn_rescaled           : 0.0000 -0.0029 1.0000\n",
      "ionizedcalcium_imp_scaled_impknn_rescaled    : 0.0000 -0.0253 1.0000\n",
      "carbondioxide_imp_scaled_impknn_rescaled     : 0.0000 -0.0743 1.0000\n",
      "bilirubin_imp_scaled_impknn_rescaled         : 0.0000 -0.2395 1.0000\n",
      "albumin_imp_scaled_impknn_rescaled           : -0.0000 0.0344 1.0000\n",
      "hemoglobin_imp_scaled_impknn_rescaled        : 0.0000 -0.1012 1.0000\n",
      "wbc_imp_scaled_impknn_rescaled               : -0.0000 -0.1453 1.0000\n",
      "platelet_imp_scaled_impknn_rescaled          : 0.0000 -0.1717 1.0000\n",
      "ptt_imp_scaled_impknn_rescaled               : -0.0000 -0.2916 1.0000\n",
      "pt_imp_scaled_impknn_rescaled                : 0.0000 -0.2596 1.0000\n",
      "inr_imp_scaled_impknn_rescaled               : 0.0000 -0.2433 1.0000\n",
      "ph_imp_scaled_impknn_rescaled                : 0.0000 0.1193 1.0000\n",
      "pao2_imp_scaled_impknn_rescaled              : 0.0000 0.0216 1.0000\n",
      "paco2_imp_scaled_impknn_rescaled             : 0.0000 -0.0785 1.0000\n",
      "base_excess_imp_scaled_impknn_rescaled       : 0.0000 0.1514 1.0000\n",
      "bicarbonate_imp_scaled_impknn_rescaled       : 0.0000 -0.0536 1.0000\n",
      "lactate_imp_scaled_impknn_rescaled           : 0.0000 -0.2465 1.0000\n",
      "pao2fio2ratio_imp_scaled_impknn_rescaled     : 0.0000 -0.0195 1.0000\n",
      "iv_total_imp_scaled_impknn_rescaled          : 0.0000 -0.3434 1.0000\n",
      "vaso_total_imp_scaled_impknn_rescaled        : 0.0000 -0.1715 1.0000\n",
      "urineoutput_imp_scaled_impknn_rescaled       : 0.0000 -0.2076 1.0000\n",
      "cum_fluid_balance_imp_scaled_impknn_rescaled : 0.0000 0.2229 1.0000\n",
      "peep_imp_scaled_impknn_rescaled              : 0.0000 -0.6479 1.0000\n",
      "fio2_imp_scaled_impknn_rescaled              : 0.0000 0.1281 1.0000\n",
      "tidal_volume_imp_scaled_impknn_rescaled      : -0.0000 -0.0085 1.0000\n",
      "mechvent_imp_scaled_impknn_rescaled          : 0.0000 0.4603 1.0000\n",
      "plateau_pressure_imp_scaled_impknn_rescaled  : -0.0000 -0.1080 1.0000\n",
      "admission_age_scaled_impknn_rescaled         : -0.0000 0.1460 1.0000\n",
      "adult_ibw_scaled_impknn_rescaled             : -0.0000 0.0502 1.0000\n",
      "height_scaled_impknn_rescaled                : 0.0000 0.0532 1.0000\n",
      "weight_scaled_impknn_rescaled                : 0.0000 -0.1363 1.0000\n",
      "elixhauser_vanwalraven_scaled_impknn_rescaled: -0.0000 -0.1095 1.0000\n",
      "vent_duration_h_scaled_impknn_rescaled       : 0.0000 -0.3473 1.0000\n"
     ]
    }
   ],
   "source": [
    "longest_sv = max(map(len, rs_state_varnames))\n",
    "for sv in rs_state_varnames:\n",
    "    print((\"{:<\" + str(longest_sv) +\"}: {:.4f} {:.4f} {:.4f}\").format(sv, train_set[sv].mean(), train_set[sv].median(), train_set[sv].var()))"
   ]
  },
  {
   "cell_type": "code",
   "execution_count": 13,
   "metadata": {},
   "outputs": [],
   "source": [
    "pca = PCA(n_components=2)\n",
    "pca_result = pca.fit_transform(train_set[rs_state_varnames])"
   ]
  },
  {
   "cell_type": "code",
   "execution_count": 14,
   "metadata": {},
   "outputs": [
    {
     "name": "stderr",
     "output_type": "stream",
     "text": [
      "/home/floris/anaconda3/envs/nb/lib/python3.9/site-packages/seaborn/_decorators.py:36: FutureWarning: Pass the following variables as keyword args: x, y. From version 0.12, the only valid positional argument will be `data`, and passing other arguments without an explicit keyword will result in an error or misinterpretation.\n",
      "  warnings.warn(\n"
     ]
    },
    {
     "data": {
      "text/plain": [
       "Text(0.5, 1.0, 'Clustering Result Train (k=650, rescaled, PCA)')"
      ]
     },
     "execution_count": 14,
     "metadata": {},
     "output_type": "execute_result"
    },
    {
     "data": {
      "image/png": "[encoded data removed]",
      "text/plain": [
       "<Figure size 432x288 with 1 Axes>"
      ]
     },
     "metadata": {
      "needs_background": "light"
     },
     "output_type": "display_data"
    }
   ],
   "source": [
    "sns.scatterplot(pca_result[:,0], pca_result[:,1], c=train_clusters)\n",
    "plt.title('Clustering Result Train (k={}, rescaled, PCA)'.format(n_states))"
   ]
  },
  {
   "cell_type": "code",
   "execution_count": 15,
   "metadata": {},
   "outputs": [
    {
     "name": "stderr",
     "output_type": "stream",
     "text": [
      "/home/floris/anaconda3/envs/nb/lib/python3.9/site-packages/seaborn/_decorators.py:36: FutureWarning: Pass the following variables as keyword args: x, y. From version 0.12, the only valid positional argument will be `data`, and passing other arguments without an explicit keyword will result in an error or misinterpretation.\n",
      "  warnings.warn(\n"
     ]
    },
    {
     "data": {
      "text/plain": [
       "Text(0.5, 1.0, 'Clustering Result Test (k=650, rescaled, PCA)')"
      ]
     },
     "execution_count": 15,
     "metadata": {},
     "output_type": "execute_result"
    },
    {
     "data": {
      "image/png": "[encoded data removed]",
      "text/plain": [
       "<Figure size 432x288 with 1 Axes>"
      ]
     },
     "metadata": {
      "needs_background": "light"
     },
     "output_type": "display_data"
    }
   ],
   "source": [
    "#pca = PCA(n_components=2)\n",
    "#pca_result = pca.fit_transform(test_set[rs_state_varnames])\n",
    "pca_result = pca.transform(test_set[rs_state_varnames])\n",
    "sns.scatterplot(pca_result[:,0], pca_result[:,1], c=test_clusters)\n",
    "plt.title('Clustering Result Test (k={}, rescaled, PCA)'.format(n_states))"
   ]
  },
  {
   "cell_type": "code",
   "execution_count": 16,
   "metadata": {},
   "outputs": [
    {
     "name": "stdout",
     "output_type": "stream",
     "text": [
      "silhouette: 0.05279710723242794, [-1, 1], higher is better\n",
      "calinksi-harabasz: 162.15929401207515, higher is better\n",
      "davies-bouldin: 2.3362740223921357, [0, ∞], lower is better\n"
     ]
    }
   ],
   "source": [
    "print(\"\"\"silhouette: {}, [-1, 1], higher is better\n",
    "calinksi-harabasz: {}, higher is better\n",
    "davies-bouldin: {}, [0, ∞], lower is better\"\"\".format(\n",
    "    metrics.silhouette_score(train_set[rs_state_varnames], train_clusters),\n",
    "    metrics.calinski_harabasz_score(train_set[rs_state_varnames], train_clusters),\n",
    "    metrics.davies_bouldin_score(train_set[rs_state_varnames], train_clusters)))"
   ]
  },
  {
   "cell_type": "code",
   "execution_count": 17,
   "metadata": {},
   "outputs": [],
   "source": [
    "train_set['state'] = clusters\n",
    "test_set['state'] = test_clusters_series"
   ]
  },
  {
   "cell_type": "markdown",
   "metadata": {},
   "source": [
    "# Unscale - back to original and interpretable space"
   ]
  },
  {
   "cell_type": "code",
   "execution_count": 18,
   "metadata": {},
   "outputs": [],
   "source": [
    "# This step is spurious for now, as there is no imputation after rescaling\n",
    "un_rescaled_state_vars = rescaler.inverse_transform(train_set[rs_state_varnames])\n",
    "un_rescaled_state_vars_test = rescaler.inverse_transform(test_set[rs_state_varnames])\n",
    "\n",
    "clinical_scaled_varnames = [var + '_impknn' for var in joblib.load('scalers/train/clinical_std_varnames.bin')]\n",
    "demographics_scaled_varnames = [var + '_impknn' for var in joblib.load('scalers/train/demographics_std_varnames.bin')]\n",
    "unscaled_clinical_vars = clinical_train_scaler.inverse_transform(train_set[clinical_scaled_varnames])\n",
    "unscaled_clinical_vars_test = clinical_train_scaler.inverse_transform(test_set[clinical_scaled_varnames])\n",
    "unscaled_demo_vars = demographics_train_scaler.inverse_transform(train_set[demographics_scaled_varnames])\n",
    "unscaled_demo_vars_test = demographics_train_scaler.inverse_transform(test_set[demographics_scaled_varnames])\n",
    "\n",
    "\n",
    "unscaled_clinical_varnames = [var + '_unscaled' for var in clinical_scaled_varnames]\n",
    "unscaled_demographics_varnames = [var + '_unscaled' for var in demographics_scaled_varnames]\n",
    "train_set[unscaled_clinical_varnames] = unscaled_clinical_vars\n",
    "test_set[unscaled_clinical_varnames] = unscaled_clinical_vars_test\n",
    "train_set[unscaled_demographics_varnames] = unscaled_demo_vars\n",
    "test_set[unscaled_demographics_varnames] = unscaled_demo_vars_test"
   ]
  },
  {
   "cell_type": "code",
   "execution_count": 19,
   "metadata": {},
   "outputs": [
    {
     "name": "stdout",
     "output_type": "stream",
     "text": [
      "sofa_imp_scaled_impknn_unscaled sofa\n",
      "sirs_imp_scaled_impknn_unscaled sirs\n",
      "gcs_imp_scaled_impknn_unscaled gcs\n",
      "heartrate_imp_scaled_impknn_unscaled heartrate\n",
      "sysbp_imp_scaled_impknn_unscaled sysbp\n",
      "meanbp_imp_scaled_impknn_unscaled meanbp\n",
      "diasbp_imp_scaled_impknn_unscaled diasbp\n",
      "shockindex_imp_scaled_impknn_unscaled shockindex\n",
      "resprate_imp_scaled_impknn_unscaled resprate\n",
      "spo2_imp_scaled_impknn_unscaled spo2\n",
      "tempc_imp_scaled_impknn_unscaled tempc\n",
      "potassium_imp_scaled_impknn_unscaled potassium\n",
      "sodium_imp_scaled_impknn_unscaled sodium\n",
      "chloride_imp_scaled_impknn_unscaled chloride\n",
      "glucose_imp_scaled_impknn_unscaled glucose\n",
      "bun_imp_scaled_impknn_unscaled bun\n",
      "creatinine_imp_scaled_impknn_unscaled creatinine\n",
      "magnesium_imp_scaled_impknn_unscaled magnesium\n",
      "calcium_imp_scaled_impknn_unscaled calcium\n",
      "ionizedcalcium_imp_scaled_impknn_unscaled ionizedcalcium\n",
      "carbondioxide_imp_scaled_impknn_unscaled carbondioxide\n",
      "bilirubin_imp_scaled_impknn_unscaled bilirubin\n",
      "albumin_imp_scaled_impknn_unscaled albumin\n",
      "hemoglobin_imp_scaled_impknn_unscaled hemoglobin\n",
      "wbc_imp_scaled_impknn_unscaled wbc\n",
      "platelet_imp_scaled_impknn_unscaled platelet\n",
      "ptt_imp_scaled_impknn_unscaled ptt\n",
      "pt_imp_scaled_impknn_unscaled pt\n",
      "inr_imp_scaled_impknn_unscaled inr\n",
      "ph_imp_scaled_impknn_unscaled ph\n",
      "pao2_imp_scaled_impknn_unscaled pao2\n",
      "paco2_imp_scaled_impknn_unscaled paco2\n",
      "base_excess_imp_scaled_impknn_unscaled base_excess\n",
      "bicarbonate_imp_scaled_impknn_unscaled bicarbonate\n",
      "lactate_imp_scaled_impknn_unscaled lactate\n",
      "pao2fio2ratio_imp_scaled_impknn_unscaled pao2fio2ratio\n",
      "iv_total_imp_scaled_impknn_unscaled iv_total\n",
      "vaso_total_imp_scaled_impknn_unscaled vaso_total\n",
      "urineoutput_imp_scaled_impknn_unscaled urineoutput\n",
      "cum_fluid_balance_imp_scaled_impknn_unscaled cum_fluid_balance\n",
      "peep_imp_scaled_impknn_unscaled peep\n",
      "fio2_imp_scaled_impknn_unscaled fio2\n",
      "tidal_volume_imp_scaled_impknn_unscaled tidal_volume\n",
      "mechvent_imp_scaled_impknn_unscaled mechvent\n",
      "plateau_pressure_imp_scaled_impknn_unscaled plateau_pressure\n",
      "admission_age_scaled_impknn_unscaled admission_age\n",
      "adult_ibw_scaled_impknn_unscaled adult_ibw\n",
      "height_scaled_impknn_unscaled height\n",
      "weight_scaled_impknn_unscaled weight\n",
      "elixhauser_vanwalraven_scaled_impknn_unscaled elixhauser_vanwalraven\n",
      "vent_duration_h_scaled_impknn_unscaled vent_duration_h\n"
     ]
    }
   ],
   "source": [
    "# validation unscaling\n",
    "#  * does not introduce NaNs\n",
    "#  * does not change known values (by some error margin)\n",
    "clinical_varname_pairs = list(zip(unscaled_clinical_varnames, map(lambda x: x.replace(\"_imp_scaled_impknn\", \"\"), clinical_scaled_varnames)))\n",
    "demo_varname_pairs = list(zip(unscaled_demographics_varnames, map(lambda x: x.replace(\"_scaled_impknn\", \"\"), demographics_scaled_varnames)))\n",
    "all_varname_pairs = clinical_varname_pairs + demo_varname_pairs\n",
    "for (unscaled, original) in all_varname_pairs:\n",
    "    print(unscaled, original)\n",
    "    # check that the number of NaNs for unscaled is less or equal than original\n",
    "    assert train_set[unscaled].isna().sum() <= train_set[original].isna().sum(), \"Unscaling has introduced NaNs in train set\"\n",
    "    assert test_set[unscaled].isna().sum() <= test_set[original].isna().sum(), \"Unscaling has introduced NaNs in test set\"\n",
    "    # calculate difference between unscaled and original value\n",
    "    difference = np.absolute(train_set[~train_set[unscaled].isna()][unscaled] - train_set[~train_set[unscaled].isna()][original])\n",
    "    difference_test = np.absolute(test_set[~test_set[unscaled].isna()][unscaled] - test_set[~test_set[unscaled].isna()][original])\n",
    "    # difference should be small OR the original should be NaN.\n",
    "    assert ((difference < 0.0001) | train_set[~train_set[unscaled].isna()][original].isna()).all(), \"Unscaling introduced errors for variable '{}' in train set\".format(original)\n",
    "    assert ((difference_test < 0.0001) | test_set[~test_set[unscaled].isna()][original].isna()).all(), \"Unscaling introduced errors for variable '{}' in test set\".format(original)"
   ]
  },
  {
   "cell_type": "markdown",
   "metadata": {},
   "source": [
    "## Compute derived values\n",
    "- normalized tidal volume: tv in ml/Kg of adult ideal body weight"
   ]
  },
  {
   "cell_type": "code",
   "execution_count": 20,
   "metadata": {},
   "outputs": [],
   "source": [
    "# derived variables based on imputed / normalized values\n",
    "# - tidal_volume\n",
    "train_set['tv_derived'] = train_set['tidal_volume_imp_scaled_impknn_unscaled'] / train_set['admission_age_scaled_impknn_unscaled']\n",
    "test_set['tv_derived'] = test_set['tidal_volume_imp_scaled_impknn_unscaled'] / test_set['admission_age_scaled_impknn_unscaled']"
   ]
  },
  {
   "cell_type": "markdown",
   "metadata": {},
   "source": [
    "# Action space discretization\n",
    "The action space consists of three dimensions:\n",
    "* Tidal volume (ml/Kg), where Kg refers to the ideal body weight\n",
    "* PEEP (cmH20) positive end-expiration pressure\n",
    "* FiO2 (%) fraction of inspired oxygen\n",
    "\n",
    "These three dimensions are each discretized into 7 bins, rendering a total of 7^3 = 343 actions.  \n",
    "The action bins are defined per dimension and according to Peine in ``config.py``.\n",
    "Here we map all possible actions to a discrete identifier action."
   ]
  },
  {
   "cell_type": "code",
   "execution_count": 21,
   "metadata": {},
   "outputs": [],
   "source": [
    "# a definition of all actions\n",
    "action_bin_definition = list(itertools.product(tv_bins, fio2_bins, peep_bins))\n",
    "# the lower bounds for the three variables in the action space\n",
    "lower_bounds = [[var[0] for var in ranges] for ranges in action_bin_definition] \n",
    "\n",
    "def to_discrete_action(tidal_volume, fio2, peep, action_bin_definition=action_bin_definition):\n",
    "    \"\"\"\n",
    "    Returns the action identifier for a particular combination of tv, fio2 and peep based on the bins defined in `action_bin_definition`.\n",
    "    \n",
    "    Assumes:\n",
    "    * that the order of these variables in the definition is: tv_bin, fio2_bin, peep_bin,\n",
    "    * that the ranges in the definition are defined as [lower bound, upper bound)\n",
    "    TODO: speed up computation using hash lookups for ranges and vectorization with pandas?\n",
    "    \"\"\"\n",
    "    for i, (tv_range, fio2_range, peep_range) in enumerate(action_bin_definition):\n",
    "        # extract lower and upper bounds of all ranges\n",
    "        tv_lb, fio2_lb, peep_lb = tv_range[0], fio2_range[0], peep_range[0]\n",
    "        tv_ub, fio2_ub, peep_ub = tv_range[1], fio2_range[1], peep_range[1]\n",
    "        if (tv_lb   <= tidal_volume < tv_ub and\n",
    "            fio2_lb <= fio2         < fio2_ub and\n",
    "            peep_lb <= peep         < peep_ub):\n",
    "            # in range\n",
    "            return i\n",
    "    raise ValueError(\"Action (tv: {}, fio2:{}, peep:{}) not in action space\".format(tidal_volume, fio2, peep))\n",
    "\n",
    "def to_discrete_action_bins(action_id):\n",
    "    tv_range, fio2_range, peep_range = action_bin_definition[action_id]\n",
    "    tv_bin = tv_bins.index(tv_range)\n",
    "    fio2_bin = fio2_bins.index(fio2_range)\n",
    "    peep_bin = peep_bins.index(peep_range)\n",
    "    return tv_bin, fio2_bin, peep_bin"
   ]
  },
  {
   "cell_type": "code",
   "execution_count": 22,
   "metadata": {},
   "outputs": [],
   "source": [
    "assert to_discrete_action(1, 25, 0) == 0, \"the first action does not have id 0\"             # the first action\n",
    "assert to_discrete_action(1, 25, 5) == 1, \"the second action does not have id 1\"             # the second action\n",
    "assert to_discrete_action(1, 25, sys.maxsize) == 6, \"the last action in the third dimension does not have id 6\"   # very high value for 3rd dimension (peep)\n",
    "assert to_discrete_action(2.5, 25, 0) == 7*7, \"the last action in the second dimension does not have id 7*7\"         # second bin for the first dimension (tv)\n",
    "assert to_discrete_action(sys.maxsize,\n",
    "                          sys.maxsize,\n",
    "                          sys.maxsize) == 7**3 - 1, \"an action with very high values does not have id 7**3 -1\"   # very high value for all bins"
   ]
  },
  {
   "cell_type": "code",
   "execution_count": 23,
   "metadata": {},
   "outputs": [],
   "source": [
    "tv_clinical = 'tv_derived'\n",
    "peep_clinical = 'peep_imp_scaled_impknn_unscaled'\n",
    "fio2_clinical = 'fio2_imp_scaled_impknn_unscaled'\n",
    "\n",
    "discretized_actions = train_set.apply(lambda x: to_discrete_action(x[tv_clinical], x[fio2_clinical], x[peep_clinical]), axis=1)\n",
    "discretized_actions_test = test_set.apply(lambda x: to_discrete_action(x[tv_clinical], x[fio2_clinical], x[peep_clinical]), axis=1)\n",
    "\n",
    "train_set['action_discrete'] = discretized_actions\n",
    "test_set['action_discrete'] = discretized_actions_test"
   ]
  },
  {
   "cell_type": "code",
   "execution_count": 24,
   "metadata": {},
   "outputs": [
    {
     "data": {
      "text/plain": [
       "(tv_derived                         10.482709\n",
       " peep_imp_scaled_impknn_unscaled     5.800000\n",
       " fio2_imp_scaled_impknn_unscaled    46.000000\n",
       " Name: 0, dtype: float64,\n",
       " 225,\n",
       " ((10, 12.5), (45, 50), (5, 7)))"
      ]
     },
     "execution_count": 24,
     "metadata": {},
     "output_type": "execute_result"
    }
   ],
   "source": [
    "# sanity spot check -- do the sample values fall in the ranges?\n",
    "train_set[[tv_clinical, peep_clinical, fio2_clinical]].iloc[0], discretized_actions[0], action_bin_definition[discretized_actions[0]]"
   ]
  },
  {
   "cell_type": "markdown",
   "metadata": {},
   "source": [
    "# Analysis of action and state-action distributions"
   ]
  },
  {
   "cell_type": "code",
   "execution_count": 25,
   "metadata": {},
   "outputs": [],
   "source": [
    "observed_action_counts = discretized_actions.value_counts()\n",
    "action_info = {}\n",
    "action_counts = []\n",
    "for action_id in range(len(action_bin_definition)):\n",
    "    count = observed_action_counts[action_id] if action_id in observed_action_counts else 0\n",
    "    action_info[action_id] = (action_bin_definition, count)\n",
    "    action_counts.append(count)\n",
    "action_counts = pd.Series(action_counts)"
   ]
  },
  {
   "cell_type": "code",
   "execution_count": 26,
   "metadata": {},
   "outputs": [
    {
     "name": "stdout",
     "output_type": "stream",
     "text": [
      "# possible actions: 343\n",
      "actions never chosen: 115\n",
      "most chosen action: (tv: (5, 7.5), peep:(40, 45), fio2: (5, 7)), chosen 9846 times\n"
     ]
    },
    {
     "data": {
      "image/png": "[encoded data removed]",
      "text/plain": [
       "<Figure size 432x288 with 1 Axes>"
      ]
     },
     "metadata": {
      "needs_background": "light"
     },
     "output_type": "display_data"
    }
   ],
   "source": [
    "action_counts.hist(bins=action_counts.nunique(), log=True)\n",
    "plt.title('action selection distribution train (log scale)')\n",
    "print(\"# possible actions: {}\".format(len(action_bin_definition)))\n",
    "print(\"actions never chosen: {}\".format((action_counts == 0).sum()))\n",
    "most_chosen_action = action_bin_definition[discretized_actions.mode()[0]]\n",
    "print(\"most chosen action: (tv: {}, peep:{}, fio2: {}), chosen {} times\".format(*most_chosen_action, discretized_actions.value_counts().max()))"
   ]
  },
  {
   "cell_type": "code",
   "execution_count": 27,
   "metadata": {},
   "outputs": [
    {
     "name": "stdout",
     "output_type": "stream",
     "text": [
      "# possible actions: 343\n",
      "actions never chosen: 146\n",
      "most chosen action: (tv: (5, 7.5), peep:(40, 45), fio2: (5, 7)), chosen 3306 times\n"
     ]
    },
    {
     "data": {
      "image/png": "[encoded data removed]",
      "text/plain": [
       "<Figure size 432x288 with 1 Axes>"
      ]
     },
     "metadata": {
      "needs_background": "light"
     },
     "output_type": "display_data"
    }
   ],
   "source": [
    "observed_action_counts_test = discretized_actions_test.value_counts()\n",
    "action_info_test = {}\n",
    "action_counts_test = []\n",
    "for action_id in range(len(action_bin_definition)):\n",
    "    count = observed_action_counts_test[action_id] if action_id in observed_action_counts_test else 0\n",
    "    action_info_test[action_id] = (action_bin_definition, count)\n",
    "    action_counts_test.append(count)\n",
    "action_counts_test = pd.Series(action_counts_test)\n",
    "action_counts.hist(bins=action_counts_test.nunique(), log=True)\n",
    "plt.title('action selection distribution test (log scale)')\n",
    "print(\"# possible actions: {}\".format(len(action_bin_definition)))\n",
    "print(\"actions never chosen: {}\".format((action_counts_test == 0).sum()))\n",
    "most_chosen_action = action_bin_definition[discretized_actions_test.mode()[0]]\n",
    "print(\"most chosen action: (tv: {}, peep:{}, fio2: {}), chosen {} times\".format(*most_chosen_action, discretized_actions_test.value_counts().max()))"
   ]
  },
  {
   "cell_type": "code",
   "execution_count": 28,
   "metadata": {},
   "outputs": [
    {
     "name": "stdout",
     "output_type": "stream",
     "text": [
      "650 states x 343 actions = 222950 state-action pairs\n"
     ]
    }
   ],
   "source": [
    "# state-action pair\n",
    "state_actions = list(itertools.product(range(n_states), range(len(action_bin_definition)),))\n",
    "print(\"{} states x {} actions = {} state-action pairs\".format(n_states, len(action_bin_definition), len(state_actions)))\n",
    "state_action_ids = list(map(lambda x: \"{}-{}\".format(x[0], x[1]), state_actions))"
   ]
  },
  {
   "cell_type": "code",
   "execution_count": 29,
   "metadata": {},
   "outputs": [],
   "source": [
    "train_set['state_action_id'] = train_set.agg('{0[state]}-{0[action_discrete]}'.format, axis=1)\n",
    "train_set['next_state'] = train_set.state.astype(str).shift(-1)\n",
    "# State-Action-NextState_ID\n",
    "train_set['sans_id'] = train_set.agg('{0[state_action_id]}-{0[next_state]}'.format, axis=1)\n",
    "observed_saction_counts = train_set['state_action_id'].value_counts()\n",
    "saction_info = {}\n",
    "saction_counts = []\n",
    "for i, saction_id in enumerate(state_action_ids):\n",
    "    count = observed_saction_counts[saction_id] if saction_id in observed_saction_counts else 0\n",
    "    state, action = saction_id.split('-')\n",
    "    saction_info[saction_id] = (saction_id, i, count, int(state), int(action), action_bin_definition[int(action)], )\n",
    "    saction_counts.append(count)\n",
    "saction_counts = pd.Series(saction_counts)\n",
    "# saction_info"
   ]
  },
  {
   "cell_type": "code",
   "execution_count": 30,
   "metadata": {},
   "outputs": [],
   "source": [
    "test_set['state_action_id'] = test_set.agg('{0[state]}-{0[action_discrete]}'.format, axis=1)\n",
    "test_set['next_state'] = test_set.state.astype(str).shift(-1)\n",
    "# State-Action-NextState_ID\n",
    "test_set['sans_id'] = test_set.agg('{0[state_action_id]}-{0[next_state]}'.format, axis=1)\n",
    "observed_saction_counts_test = test_set['state_action_id'].value_counts()\n",
    "saction_info_test = {}\n",
    "saction_counts_test = []\n",
    "for i, saction_id in enumerate(state_action_ids):\n",
    "    count = observed_saction_counts_test[saction_id] if saction_id in observed_saction_counts_test else 0\n",
    "    state, action = saction_id.split('-')\n",
    "    saction_info_test[saction_id] = (saction_id, i, count, int(state), int(action), action_bin_definition[int(action)], )\n",
    "    saction_counts_test.append(count)\n",
    "saction_counts_test = pd.Series(saction_counts_test)\n",
    "# saction_info_test"
   ]
  },
  {
   "cell_type": "code",
   "execution_count": 31,
   "metadata": {},
   "outputs": [],
   "source": [
    "saction_info_df = pd.DataFrame([[*v,] for k, v in  saction_info.items()], columns=['saction_id', 'index', 'count', 'state', 'action', 'action'])\n",
    "saction_info_df_test = pd.DataFrame([[*v,] for k, v in  saction_info_test.items()], columns=['saction_id', 'index', 'count', 'state', 'action', 'action'])"
   ]
  },
  {
   "cell_type": "code",
   "execution_count": 32,
   "metadata": {},
   "outputs": [
    {
     "data": {
      "text/html": [
       "<div>\n",
       "<style scoped>\n",
       "    .dataframe tbody tr th:only-of-type {\n",
       "        vertical-align: middle;\n",
       "    }\n",
       "\n",
       "    .dataframe tbody tr th {\n",
       "        vertical-align: top;\n",
       "    }\n",
       "\n",
       "    .dataframe thead th {\n",
       "        text-align: right;\n",
       "    }\n",
       "</style>\n",
       "<table border=\"1\" class=\"dataframe\">\n",
       "  <thead>\n",
       "    <tr style=\"text-align: right;\">\n",
       "      <th></th>\n",
       "      <th>saction_id</th>\n",
       "      <th>index</th>\n",
       "      <th>count</th>\n",
       "      <th>state</th>\n",
       "      <th>action</th>\n",
       "      <th>action</th>\n",
       "    </tr>\n",
       "  </thead>\n",
       "  <tbody>\n",
       "    <tr>\n",
       "      <th>0</th>\n",
       "      <td>0-0</td>\n",
       "      <td>0</td>\n",
       "      <td>0</td>\n",
       "      <td>0</td>\n",
       "      <td>0</td>\n",
       "      <td>((0, 2.5), (20, 30), (0, 5))</td>\n",
       "    </tr>\n",
       "    <tr>\n",
       "      <th>1</th>\n",
       "      <td>0-1</td>\n",
       "      <td>1</td>\n",
       "      <td>0</td>\n",
       "      <td>0</td>\n",
       "      <td>1</td>\n",
       "      <td>((0, 2.5), (20, 30), (5, 7))</td>\n",
       "    </tr>\n",
       "    <tr>\n",
       "      <th>2</th>\n",
       "      <td>0-2</td>\n",
       "      <td>2</td>\n",
       "      <td>0</td>\n",
       "      <td>0</td>\n",
       "      <td>2</td>\n",
       "      <td>((0, 2.5), (20, 30), (7, 9))</td>\n",
       "    </tr>\n",
       "    <tr>\n",
       "      <th>3</th>\n",
       "      <td>0-3</td>\n",
       "      <td>3</td>\n",
       "      <td>0</td>\n",
       "      <td>0</td>\n",
       "      <td>3</td>\n",
       "      <td>((0, 2.5), (20, 30), (9, 11))</td>\n",
       "    </tr>\n",
       "    <tr>\n",
       "      <th>4</th>\n",
       "      <td>0-4</td>\n",
       "      <td>4</td>\n",
       "      <td>0</td>\n",
       "      <td>0</td>\n",
       "      <td>4</td>\n",
       "      <td>((0, 2.5), (20, 30), (11, 13))</td>\n",
       "    </tr>\n",
       "    <tr>\n",
       "      <th>...</th>\n",
       "      <td>...</td>\n",
       "      <td>...</td>\n",
       "      <td>...</td>\n",
       "      <td>...</td>\n",
       "      <td>...</td>\n",
       "      <td>...</td>\n",
       "    </tr>\n",
       "    <tr>\n",
       "      <th>222945</th>\n",
       "      <td>649-338</td>\n",
       "      <td>222945</td>\n",
       "      <td>0</td>\n",
       "      <td>649</td>\n",
       "      <td>338</td>\n",
       "      <td>((15, inf), (55, inf), (7, 9))</td>\n",
       "    </tr>\n",
       "    <tr>\n",
       "      <th>222946</th>\n",
       "      <td>649-339</td>\n",
       "      <td>222946</td>\n",
       "      <td>0</td>\n",
       "      <td>649</td>\n",
       "      <td>339</td>\n",
       "      <td>((15, inf), (55, inf), (9, 11))</td>\n",
       "    </tr>\n",
       "    <tr>\n",
       "      <th>222947</th>\n",
       "      <td>649-340</td>\n",
       "      <td>222947</td>\n",
       "      <td>0</td>\n",
       "      <td>649</td>\n",
       "      <td>340</td>\n",
       "      <td>((15, inf), (55, inf), (11, 13))</td>\n",
       "    </tr>\n",
       "    <tr>\n",
       "      <th>222948</th>\n",
       "      <td>649-341</td>\n",
       "      <td>222948</td>\n",
       "      <td>0</td>\n",
       "      <td>649</td>\n",
       "      <td>341</td>\n",
       "      <td>((15, inf), (55, inf), (13, 15))</td>\n",
       "    </tr>\n",
       "    <tr>\n",
       "      <th>222949</th>\n",
       "      <td>649-342</td>\n",
       "      <td>222949</td>\n",
       "      <td>0</td>\n",
       "      <td>649</td>\n",
       "      <td>342</td>\n",
       "      <td>((15, inf), (55, inf), (15, inf))</td>\n",
       "    </tr>\n",
       "  </tbody>\n",
       "</table>\n",
       "<p>222950 rows × 6 columns</p>\n",
       "</div>"
      ],
      "text/plain": [
       "       saction_id   index  count  state action  \\\n",
       "0             0-0       0      0      0      0   \n",
       "1             0-1       1      0      0      1   \n",
       "2             0-2       2      0      0      2   \n",
       "3             0-3       3      0      0      3   \n",
       "4             0-4       4      0      0      4   \n",
       "...           ...     ...    ...    ...    ...   \n",
       "222945    649-338  222945      0    649    338   \n",
       "222946    649-339  222946      0    649    339   \n",
       "222947    649-340  222947      0    649    340   \n",
       "222948    649-341  222948      0    649    341   \n",
       "222949    649-342  222949      0    649    342   \n",
       "\n",
       "                                   action  \n",
       "0            ((0, 2.5), (20, 30), (0, 5))  \n",
       "1            ((0, 2.5), (20, 30), (5, 7))  \n",
       "2            ((0, 2.5), (20, 30), (7, 9))  \n",
       "3           ((0, 2.5), (20, 30), (9, 11))  \n",
       "4          ((0, 2.5), (20, 30), (11, 13))  \n",
       "...                                   ...  \n",
       "222945     ((15, inf), (55, inf), (7, 9))  \n",
       "222946    ((15, inf), (55, inf), (9, 11))  \n",
       "222947   ((15, inf), (55, inf), (11, 13))  \n",
       "222948   ((15, inf), (55, inf), (13, 15))  \n",
       "222949  ((15, inf), (55, inf), (15, inf))  \n",
       "\n",
       "[222950 rows x 6 columns]"
      ]
     },
     "execution_count": 32,
     "metadata": {},
     "output_type": "execute_result"
    }
   ],
   "source": [
    "saction_info_df"
   ]
  },
  {
   "cell_type": "code",
   "execution_count": 34,
   "metadata": {},
   "outputs": [
    {
     "name": "stdout",
     "output_type": "stream",
     "text": [
      "# state-action pairs: 222950\n",
      "# state-action pairs never visited: 205734\n",
      "most visited state-action pair in train: (tv: (5, 7.5), peep:(40, 45), fio2: (5, 7), state: 576), visited 187 times\n"
     ]
    },
    {
     "data": {
      "image/png": "[encoded data removed]",
      "text/plain": [
       "<Figure size 432x288 with 1 Axes>"
      ]
     },
     "metadata": {
      "needs_background": "light"
     },
     "output_type": "display_data"
    }
   ],
   "source": [
    "print(\"# state-action pairs: {}\".format(len(state_action_ids)))\n",
    "print(\"# state-action pairs never visited: {}\".format((saction_counts == 0).sum()))\n",
    "most_frequent_saction = saction_info_df[saction_info_df.index == saction_counts.argmax()].to_numpy()[0]\n",
    "most_chosen_action = action_bin_definition[discretized_actions.mode()[0]]\n",
    "saction_counts.hist(bins=saction_counts.nunique(), log=True)\n",
    "plt.title(\"Histogram of state-action pair occurences in train set\")\n",
    "print(\"most visited state-action pair in train: (tv: {}, peep:{}, fio2: {}, state: {}), visited {} times\".format(*most_chosen_action, most_frequent_saction[3], most_frequent_saction[2]))"
   ]
  },
  {
   "cell_type": "code",
   "execution_count": 36,
   "metadata": {},
   "outputs": [
    {
     "name": "stdout",
     "output_type": "stream",
     "text": [
      "most visited state-action pair in train: (tv: (5, 7.5), peep:(40, 45), fio2: (5, 7), state: 576), visited 187 times\n"
     ]
    },
    {
     "data": {
      "image/png": "[encoded data removed]",
      "text/plain": [
       "<Figure size 432x288 with 1 Axes>"
      ]
     },
     "metadata": {
      "needs_background": "light"
     },
     "output_type": "display_data"
    }
   ],
   "source": [
    "most_frequent_saction_test = saction_info_df[saction_info_df.index == saction_counts.argmax()].to_numpy()[0]\n",
    "most_chosen_action_test = action_bin_definition[discretized_actions.mode()[0]]\n",
    "saction_counts_test.hist(bins=saction_counts_test.nunique(), log=True)\n",
    "plt.title(\"Histogram of state-action pair occurences in test set\")\n",
    "print(\"most visited state-action pair in train: (tv: {}, peep:{}, fio2: {}, state: {}), visited {} times\".format(*most_chosen_action_test, most_frequent_saction_test[3], most_frequent_saction_test[2]))"
   ]
  },
  {
   "cell_type": "markdown",
   "metadata": {},
   "source": [
    "## Trajectory construction"
   ]
  },
  {
   "cell_type": "code",
   "execution_count": 37,
   "metadata": {},
   "outputs": [
    {
     "data": {
      "text/plain": [
       "count    5335.000000\n",
       "mean       15.849485\n",
       "std         3.352275\n",
       "min         7.000000\n",
       "25%        14.000000\n",
       "50%        18.000000\n",
       "75%        18.000000\n",
       "max        18.000000\n",
       "Name: traj_count, dtype: float64"
      ]
     },
     "execution_count": 37,
     "metadata": {},
     "output_type": "execute_result"
    },
    {
     "data": {
      "image/png": "[encoded data removed]",
      "text/plain": [
       "<Figure size 432x288 with 1 Axes>"
      ]
     },
     "metadata": {
      "needs_background": "light"
     },
     "output_type": "display_data"
    }
   ],
   "source": [
    "train_set['traj_count'] = train_set.sort_values(['icustay_id', 'start_time']).groupby('icustay_id').cumcount()\n",
    "train_set['traj_count_inv'] = train_set.sort_values(['icustay_id', 'start_time']).groupby('icustay_id').cumcount(ascending=False)\n",
    "\n",
    "trajectory_lengths = train_set.groupby('icustay_id').traj_count.max() + 1\n",
    "trajectory_lengths.hist()\n",
    "plt.title('Trajectory lengths train')\n",
    "plt.xlabel('# of 4h time steps')\n",
    "plt.ylabel('# trajectories')\n",
    "trajectory_lengths.describe()"
   ]
  },
  {
   "cell_type": "code",
   "execution_count": 38,
   "metadata": {},
   "outputs": [
    {
     "data": {
      "text/plain": [
       "count    1735.000000\n",
       "mean       15.731412\n",
       "std         3.461840\n",
       "min         7.000000\n",
       "25%        13.000000\n",
       "50%        18.000000\n",
       "75%        18.000000\n",
       "max        18.000000\n",
       "Name: traj_count, dtype: float64"
      ]
     },
     "execution_count": 38,
     "metadata": {},
     "output_type": "execute_result"
    },
    {
     "data": {
      "image/png": "[encoded data removed]",
      "text/plain": [
       "<Figure size 432x288 with 1 Axes>"
      ]
     },
     "metadata": {
      "needs_background": "light"
     },
     "output_type": "display_data"
    }
   ],
   "source": [
    "test_set['traj_count'] = test_set.sort_values(['icustay_id', 'start_time']).groupby('icustay_id').cumcount()\n",
    "test_set['traj_count_inv'] = test_set.sort_values(['icustay_id', 'start_time']).groupby('icustay_id').cumcount(ascending=False)\n",
    "\n",
    "trajectory_lengths_test = test_set.groupby('icustay_id').traj_count.max() + 1\n",
    "trajectory_lengths_test.hist()\n",
    "plt.title('Trajectory lengths test')\n",
    "plt.xlabel('# of 4h time steps')\n",
    "plt.ylabel('# trajectories')\n",
    "trajectory_lengths_test.describe()"
   ]
  },
  {
   "cell_type": "code",
   "execution_count": 39,
   "metadata": {},
   "outputs": [],
   "source": [
    "terminals = train_set.groupby('icustay_id').max('traj_count').reset_index().set_index('Unnamed: 0')['traj_count']\n",
    "terminals = (~terminals.isna()).rename('terminal')\n",
    "if 'terminal' in train_set.columns:\n",
    "    # need to remove this column if it already exists\n",
    "    del(train_set['terminal'])\n",
    "train_set = train_set.join(terminals, on='Unnamed: 0', how='left')\n",
    "train_set['terminal'] = train_set.terminal.fillna(False)\n",
    "train_set['nterminal'] = train_set.terminal.shift(-1).fillna(False)\n",
    "\n",
    "terminals = test_set.groupby('icustay_id').max('traj_count').reset_index().set_index('Unnamed: 0')['traj_count']\n",
    "terminals = (~terminals.isna()).rename('terminal')\n",
    "if 'terminal' in test_set.columns:\n",
    "    # need to remove this column if it already exists\n",
    "    del(test_set['terminal'])\n",
    "test_set = test_set.join(terminals, on='Unnamed: 0', how='left')\n",
    "test_set['terminal'] = test_set.terminal.fillna(False)\n",
    "test_set['nterminal'] = test_set.terminal.shift(-1).fillna(False)"
   ]
  },
  {
   "cell_type": "code",
   "execution_count": 40,
   "metadata": {},
   "outputs": [],
   "source": [
    "assert train_set.groupby('icustay_id').terminal.sum().max() == 1, \"Every icustay should have exactly 1 terminal state\"\n",
    "assert test_set.groupby('icustay_id').terminal.sum().max() == 1, \"Every icustay should have exactly 1 terminal state\"\n",
    "assert train_set.groupby('icustay_id').terminal.sum().min() == 1, \"Every icustay should have exactly 1 terminal state\"\n",
    "assert test_set.groupby('icustay_id').terminal.sum().min() == 1, \"Every icustay should have exactly 1 terminal state\""
   ]
  },
  {
   "cell_type": "code",
   "execution_count": 41,
   "metadata": {},
   "outputs": [
    {
     "data": {
      "text/plain": [
       "(18    3428\n",
       " 11     233\n",
       " 12     228\n",
       " 9      218\n",
       " 13     200\n",
       " 10     199\n",
       " 8      178\n",
       " 14     153\n",
       " 17     152\n",
       " 16     150\n",
       " 15     135\n",
       " 7       61\n",
       " Name: traj_count, dtype: int64,\n",
       " 18    1097\n",
       " 10      85\n",
       " 12      85\n",
       " 8       79\n",
       " 11      68\n",
       " 9       60\n",
       " 17      51\n",
       " 15      48\n",
       " 16      48\n",
       " 14      47\n",
       " 13      46\n",
       " 7       21\n",
       " Name: traj_count, dtype: int64)"
      ]
     },
     "execution_count": 41,
     "metadata": {},
     "output_type": "execute_result"
    }
   ],
   "source": [
    "# TODO: fix trajectory definition, this should be more varied\n",
    "# we include 72h samples. But what if the ventilation did not actually take that long?\n",
    "# And why are trajectories either 1 (=4h) or 20 (=72h) time steps?\n",
    "trajectory_lengths.value_counts(), trajectory_lengths_test.value_counts()"
   ]
  },
  {
   "cell_type": "code",
   "execution_count": 42,
   "metadata": {},
   "outputs": [],
   "source": [
    "# generate s,s',a tuples for transition matrix approximation\n",
    "\n",
    "# calculate joint state-action probabilities\n",
    "pr_state_action = pd.DataFrame((train_set[~train_set.terminal].state_action_id.value_counts() / train_set.shape[0])).reset_index().rename(columns={'index': 'sa_id', 'state_action_id': 'pr_sa'})\n",
    "\n",
    "# calculate joint s-s'-a probabilities\n",
    "sans_id = '' # state-action-nstate id\n",
    "pr_nstate_state_action = pd.DataFrame(train_set[~train_set.terminal].sans_id.value_counts() / train_set.shape[0]).reset_index().rename(columns={'index': 'sans_id', 'sans_id': 'pr_sans'})\n",
    "pr_nstate_state_action['sa_id'] = list(map(lambda x: '-'.join(x[:2]), pr_nstate_state_action.sans_id.str.split('-')))\n",
    "pr_sans = pr_nstate_state_action.merge(pr_state_action, on='sa_id', how='inner').set_index('sans_id')\n",
    "\n",
    "# calculate transition probabilities\n",
    "pr_trans = pr_sans.pr_sans / pr_sans.pr_sa\n",
    "pr_trans = pd.DataFrame(pr_trans).rename(columns={0: 'pr_t'})"
   ]
  },
  {
   "cell_type": "code",
   "execution_count": 43,
   "metadata": {},
   "outputs": [
    {
     "data": {
      "text/plain": [
       "Text(0.5, 1.0, 'Distribution of nonzero transition probabilities')"
      ]
     },
     "execution_count": 43,
     "metadata": {},
     "output_type": "execute_result"
    },
    {
     "data": {
      "image/png": "[encoded data removed]",
      "text/plain": [
       "<Figure size 432x288 with 1 Axes>"
      ]
     },
     "metadata": {
      "needs_background": "light"
     },
     "output_type": "display_data"
    }
   ],
   "source": [
    "pr_trans.pr_t.hist()\n",
    "pr_trans\n",
    "plt.title('Distribution of nonzero transition probabilities')"
   ]
  },
  {
   "cell_type": "code",
   "execution_count": 44,
   "metadata": {},
   "outputs": [],
   "source": [
    "split_sans = pd.DataFrame(pr_trans.index.str.split('-').tolist()).rename(columns={0:'state', 1: 'action', 2: 'nstate'})\n",
    "split_sans.state = split_sans.state.astype(int)\n",
    "split_sans.action = split_sans.action.astype(int)\n",
    "split_sans.nstate = split_sans.nstate.astype(int)\n",
    "assert split_sans.action.max() <= (7**3 - 1), \"the highest action id exceeds the number of actions\" # number of discrete actions\n",
    "pr_trans = pr_trans.reset_index().merge(split_sans, left_index=True, right_index=True)"
   ]
  },
  {
   "cell_type": "code",
   "execution_count": 45,
   "metadata": {},
   "outputs": [
    {
     "name": "stdout",
     "output_type": "stream",
     "text": [
      "0.05046% of state-action's probs does not sum to 1, max diff to 1 is 4.440892098500626e-16\n"
     ]
    }
   ],
   "source": [
    "# all transition probabilities for a state-action pair should sum to 1, there could be some rounding errors\n",
    "print(\"{:.5f}% of state-action's probs does not sum to 1, max diff to 1 is {}\".format(\n",
    "    (~(pr_trans.groupby(['state', 'action']).pr_t.sum() >= 1.0)).to_numpy().mean(),\n",
    "    np.diff(pr_trans.groupby(['state', 'action']).pr_t.sum(), 1).max(),\n",
    "))\n",
    "assert np.diff(pr_trans.groupby(['state', 'action']).pr_t.sum(), 1).max() < 1e-15, \"transition probabilities for a state-action pair should sum (approx.) to 1\""
   ]
  },
  {
   "cell_type": "code",
   "execution_count": 46,
   "metadata": {},
   "outputs": [
    {
     "data": {
      "text/plain": [
       "4.440892098500626e-16"
      ]
     },
     "execution_count": 46,
     "metadata": {},
     "output_type": "execute_result"
    }
   ],
   "source": [
    "np.diff(pr_trans.groupby(['state', 'action']).pr_t.sum(), 1).max()"
   ]
  },
  {
   "cell_type": "code",
   "execution_count": 47,
   "metadata": {},
   "outputs": [
    {
     "data": {
      "text/plain": [
       "Text(0.5, 1.0, 'Histogram of nonzero transition probabilities')"
      ]
     },
     "execution_count": 47,
     "metadata": {},
     "output_type": "execute_result"
    },
    {
     "data": {
      "image/png": "[encoded data removed]",
      "text/plain": [
       "<Figure size 432x288 with 1 Axes>"
      ]
     },
     "metadata": {
      "needs_background": "light"
     },
     "output_type": "display_data"
    }
   ],
   "source": [
    "pr_trans.pr_t.hist()\n",
    "plt.title('Histogram of nonzero transition probabilities')"
   ]
  },
  {
   "cell_type": "code",
   "execution_count": 48,
   "metadata": {},
   "outputs": [],
   "source": [
    "# TODO: how to incorporate state-action pairs with no coverage in the dataset?"
   ]
  },
  {
   "cell_type": "markdown",
   "metadata": {},
   "source": [
    "## Immediate reward definition"
   ]
  },
  {
   "cell_type": "code",
   "execution_count": 49,
   "metadata": {},
   "outputs": [],
   "source": [
    "train_set['reward'] = 0\n",
    "test_set['reward'] = 0\n",
    "train_set.loc[train_set.nterminal & (train_set.mort90day == 't'), 'reward'] = -100\n",
    "test_set.loc[test_set.nterminal & (test_set.mort90day == 't'), 'reward'] = -100\n",
    "train_set.loc[train_set.nterminal & (train_set.mort90day == 'f'), 'reward'] = 100\n",
    "test_set.loc[test_set.nterminal & (test_set.mort90day == 'f'), 'reward'] = 100\n",
    "\n",
    "assert train_set.reward.isna().sum() == 0, \"All immediate rewards should be set\"\n",
    "assert test_set.reward.isna().sum() == 0, \"All immediate rewards should be set\"\n",
    "assert train_set[train_set.nterminal].reward.isin({-100, 100}).all(), \"Transitions to terminal states should have value -100 or 100\"\n",
    "assert test_set[test_set.nterminal].reward.isin({-100, 100}).all(), \"Transitions to terminal states should have value -100 or 100\""
   ]
  },
  {
   "cell_type": "code",
   "execution_count": 50,
   "metadata": {},
   "outputs": [
    {
     "data": {
      "text/plain": [
       " 0.000000      35436\n",
       " 100.000000     1435\n",
       "-100.000000      600\n",
       " 50.000000       327\n",
       "-50.000000       179\n",
       "               ...  \n",
       " 7.317073          1\n",
       " 5.128205          1\n",
       " 6.451613          1\n",
       " 12.820513         1\n",
       "-1.851852          1\n",
       "Name: reward, Length: 150, dtype: int64"
      ]
     },
     "execution_count": 50,
     "metadata": {},
     "output_type": "execute_result"
    },
    {
     "data": {
      "image/png": "[encoded data removed]",
      "text/plain": [
       "<Figure size 432x288 with 1 Axes>"
      ]
     },
     "metadata": {
      "needs_background": "light"
     },
     "output_type": "display_data"
    }
   ],
   "source": [
    "# 1. compute average immediate reward for each s-s'-a with support from the data.\n",
    "# 2. where -100 if terminal and 90 day mortality, +100 if terminal and 90 day mortality, 0 otherwise\n",
    "# 3. element-wise multiply with transition matrix pr_trans\n",
    "# 4. sum over s' dimension to obtain R(s, a) < sum because transition matrix has probabilities\n",
    "\n",
    "# step 1: compute average immediate reward for each s-s'-a with support from the data.\n",
    "r_sans = train_set[~train_set['terminal']].groupby('sans_id')['reward'].mean()\n",
    "r_sans.hist()\n",
    "plt.title('Distribution of rewards in s-a-s-r matrix')\n",
    "split_r_sans = pd.DataFrame(r_sans.index.str.split('-').tolist()).rename(columns={0:'state', 1: 'action', 2: 'nstate'})\n",
    "split_r_sans.state = split_r_sans.state.astype(int)\n",
    "split_r_sans.action = split_r_sans.action.astype(int)\n",
    "split_r_sans.nstate = split_r_sans.nstate\n",
    "r_sans = r_sans.reset_index().merge(split_r_sans, left_index=True, right_index=True)\n",
    "r_sans.reward.value_counts()"
   ]
  },
  {
   "cell_type": "code",
   "execution_count": 51,
   "metadata": {},
   "outputs": [],
   "source": [
    "pr_r_sans = r_sans.merge(pr_trans, on='sans_id')\n",
    "assert pr_r_sans.pr_t.isna().sum() == 0, \"transition probabilities should never be na\"\n",
    "assert pr_r_sans.reward.isna().sum() == 0, \"rewards should never be na\"\n",
    "assert pr_r_sans.shape[0] == r_sans.shape[0], \"all reward rows should be in transition-reward dataframe\"\n",
    "assert pr_r_sans.shape[0] == pr_sans.shape[0], \"all transition rows should be in transition-reward dataframe\"\n",
    "assert pr_r_sans.sans_id.value_counts().max() == 1, \"a s-a-r-s tuple should occur exactly once\"\n",
    "assert pr_r_sans.sans_id.value_counts().min() == 1, \"a s-a-r-s tuple should occur exactly once\""
   ]
  },
  {
   "cell_type": "code",
   "execution_count": 52,
   "metadata": {},
   "outputs": [],
   "source": [
    "# step 3: element-wise multiply with transition matrix pr_trans\n",
    "pr_r_sans['weighted_reward'] = pr_r_sans.reward * pr_r_sans.pr_t\n",
    "immediate_reward = pr_r_sans.groupby(['state_x', 'action_x']).weighted_reward.sum()\n",
    "immediate_reward = immediate_reward.reset_index().rename(columns={'state_x': 'state', 'action_x': 'action', 'weighted_reward': 'immediate_reward'})"
   ]
  },
  {
   "cell_type": "code",
   "execution_count": 53,
   "metadata": {},
   "outputs": [
    {
     "data": {
      "text/plain": [
       " 0.000000      13116\n",
       " 100.000000      305\n",
       " 50.000000       239\n",
       " 33.333333       184\n",
       "-100.000000      171\n",
       "               ...  \n",
       " 6.299213          1\n",
       " 3.947368          1\n",
       " 9.756098          1\n",
       "-18.181818         1\n",
       "-10.256410         1\n",
       "Name: immediate_reward, Length: 334, dtype: int64"
      ]
     },
     "execution_count": 53,
     "metadata": {},
     "output_type": "execute_result"
    },
    {
     "data": {
      "image/png": "[encoded data removed]",
      "text/plain": [
       "<Figure size 432x288 with 1 Axes>"
      ]
     },
     "metadata": {
      "needs_background": "light"
     },
     "output_type": "display_data"
    }
   ],
   "source": [
    "immediate_reward.immediate_reward.hist()\n",
    "immediate_reward.immediate_reward.value_counts()"
   ]
  },
  {
   "cell_type": "code",
   "execution_count": 54,
   "metadata": {},
   "outputs": [],
   "source": [
    "immediate_reward['state_action_id'] = immediate_reward.agg('{0[state]:.0f}-{0[action]:.0f}'.format, axis=1)"
   ]
  },
  {
   "cell_type": "code",
   "execution_count": 55,
   "metadata": {},
   "outputs": [],
   "source": [
    "train_set = train_set.merge(immediate_reward[['state_action_id', 'immediate_reward']], on='state_action_id')\n",
    "test_set = test_set.merge(immediate_reward[['state_action_id', 'immediate_reward']], on='state_action_id')"
   ]
  },
  {
   "cell_type": "code",
   "execution_count": 56,
   "metadata": {},
   "outputs": [],
   "source": [
    "assert train_set.immediate_reward.isna().sum() == 0, \"Immediate reward may not be nan\"\n",
    "assert test_set.immediate_reward.isna().sum() == 0, \"Immediate reward may not be nan\""
   ]
  },
  {
   "cell_type": "code",
   "execution_count": 57,
   "metadata": {},
   "outputs": [
    {
     "data": {
      "text/html": [
       "<div>\n",
       "<style scoped>\n",
       "    .dataframe tbody tr th:only-of-type {\n",
       "        vertical-align: middle;\n",
       "    }\n",
       "\n",
       "    .dataframe tbody tr th {\n",
       "        vertical-align: top;\n",
       "    }\n",
       "\n",
       "    .dataframe thead th {\n",
       "        text-align: right;\n",
       "    }\n",
       "</style>\n",
       "<table border=\"1\" class=\"dataframe\">\n",
       "  <thead>\n",
       "    <tr style=\"text-align: right;\">\n",
       "      <th></th>\n",
       "      <th>sans_id</th>\n",
       "      <th>mort90day</th>\n",
       "      <th>terminal</th>\n",
       "    </tr>\n",
       "  </thead>\n",
       "  <tbody>\n",
       "    <tr>\n",
       "      <th>0</th>\n",
       "      <td>53-225-168</td>\n",
       "      <td>f</td>\n",
       "      <td>False</td>\n",
       "    </tr>\n",
       "    <tr>\n",
       "      <th>1</th>\n",
       "      <td>53-225-553</td>\n",
       "      <td>t</td>\n",
       "      <td>False</td>\n",
       "    </tr>\n",
       "    <tr>\n",
       "      <th>2</th>\n",
       "      <td>53-225-151</td>\n",
       "      <td>t</td>\n",
       "      <td>False</td>\n",
       "    </tr>\n",
       "    <tr>\n",
       "      <th>3</th>\n",
       "      <td>53-225-608</td>\n",
       "      <td>t</td>\n",
       "      <td>False</td>\n",
       "    </tr>\n",
       "    <tr>\n",
       "      <th>4</th>\n",
       "      <td>53-225-379</td>\n",
       "      <td>f</td>\n",
       "      <td>False</td>\n",
       "    </tr>\n",
       "    <tr>\n",
       "      <th>...</th>\n",
       "      <td>...</td>\n",
       "      <td>...</td>\n",
       "      <td>...</td>\n",
       "    </tr>\n",
       "    <tr>\n",
       "      <th>83902</th>\n",
       "      <td>243-185-243</td>\n",
       "      <td>f</td>\n",
       "      <td>False</td>\n",
       "    </tr>\n",
       "    <tr>\n",
       "      <th>83903</th>\n",
       "      <td>243-185-146</td>\n",
       "      <td>f</td>\n",
       "      <td>True</td>\n",
       "    </tr>\n",
       "    <tr>\n",
       "      <th>83904</th>\n",
       "      <td>641-290-44</td>\n",
       "      <td>f</td>\n",
       "      <td>False</td>\n",
       "    </tr>\n",
       "    <tr>\n",
       "      <th>83905</th>\n",
       "      <td>44-282-641</td>\n",
       "      <td>f</td>\n",
       "      <td>False</td>\n",
       "    </tr>\n",
       "    <tr>\n",
       "      <th>83906</th>\n",
       "      <td>44-338-44</td>\n",
       "      <td>f</td>\n",
       "      <td>False</td>\n",
       "    </tr>\n",
       "  </tbody>\n",
       "</table>\n",
       "<p>83907 rows × 3 columns</p>\n",
       "</div>"
      ],
      "text/plain": [
       "           sans_id mort90day  terminal\n",
       "0       53-225-168         f     False\n",
       "1       53-225-553         t     False\n",
       "2       53-225-151         t     False\n",
       "3       53-225-608         t     False\n",
       "4       53-225-379         f     False\n",
       "...            ...       ...       ...\n",
       "83902  243-185-243         f     False\n",
       "83903  243-185-146         f      True\n",
       "83904   641-290-44         f     False\n",
       "83905   44-282-641         f     False\n",
       "83906    44-338-44         f     False\n",
       "\n",
       "[83907 rows x 3 columns]"
      ]
     },
     "execution_count": 57,
     "metadata": {},
     "output_type": "execute_result"
    }
   ],
   "source": [
    "train_set[['sans_id', 'mort90day', 'terminal']]"
   ]
  },
  {
   "cell_type": "code",
   "execution_count": 58,
   "metadata": {},
   "outputs": [
    {
     "data": {
      "text/html": [
       "<div>\n",
       "<style scoped>\n",
       "    .dataframe tbody tr th:only-of-type {\n",
       "        vertical-align: middle;\n",
       "    }\n",
       "\n",
       "    .dataframe tbody tr th {\n",
       "        vertical-align: top;\n",
       "    }\n",
       "\n",
       "    .dataframe thead th {\n",
       "        text-align: right;\n",
       "    }\n",
       "</style>\n",
       "<table border=\"1\" class=\"dataframe\">\n",
       "  <thead>\n",
       "    <tr style=\"text-align: right;\">\n",
       "      <th></th>\n",
       "      <th>sans_id</th>\n",
       "      <th>pr_t</th>\n",
       "      <th>state</th>\n",
       "      <th>action</th>\n",
       "      <th>nstate</th>\n",
       "    </tr>\n",
       "  </thead>\n",
       "  <tbody>\n",
       "    <tr>\n",
       "      <th>32863</th>\n",
       "      <td>0-71-0</td>\n",
       "      <td>1.0</td>\n",
       "      <td>0</td>\n",
       "      <td>71</td>\n",
       "      <td>0</td>\n",
       "    </tr>\n",
       "  </tbody>\n",
       "</table>\n",
       "</div>"
      ],
      "text/plain": [
       "      sans_id  pr_t  state  action  nstate\n",
       "32863  0-71-0   1.0      0      71       0"
      ]
     },
     "execution_count": 58,
     "metadata": {},
     "output_type": "execute_result"
    }
   ],
   "source": [
    "pr_trans[(pr_trans.state==0) & (pr_trans.action == 71)]"
   ]
  },
  {
   "cell_type": "code",
   "execution_count": 59,
   "metadata": {},
   "outputs": [
    {
     "data": {
      "text/plain": [
       "sans_id\n",
       "0-71-0    0.000012\n",
       "Name: pr_sa, dtype: float64"
      ]
     },
     "execution_count": 59,
     "metadata": {},
     "output_type": "execute_result"
    }
   ],
   "source": [
    "pr_sans[pr_sans.sa_id=='0-71']['pr_sa']"
   ]
  },
  {
   "cell_type": "code",
   "execution_count": 60,
   "metadata": {},
   "outputs": [
    {
     "data": {
      "text/plain": [
       "27.857124"
      ]
     },
     "execution_count": 60,
     "metadata": {},
     "output_type": "execute_result"
    }
   ],
   "source": [
    "0.000332 * train_set.shape[0]"
   ]
  },
  {
   "cell_type": "code",
   "execution_count": 61,
   "metadata": {},
   "outputs": [
    {
     "data": {
      "text/plain": [
       "0          47-316-47\n",
       "1        576-120-576\n",
       "2        152-120-152\n",
       "3        521-120-521\n",
       "4        147-120-147\n",
       "            ...     \n",
       "39883    396-218-202\n",
       "39884     25-233-552\n",
       "39885    142-120-396\n",
       "39886    292-218-142\n",
       "39887     53-225-168\n",
       "Name: sans_id, Length: 39888, dtype: object"
      ]
     },
     "execution_count": 61,
     "metadata": {},
     "output_type": "execute_result"
    }
   ],
   "source": [
    "pr_nstate_state_action.sans_id"
   ]
  },
  {
   "cell_type": "code",
   "execution_count": 62,
   "metadata": {},
   "outputs": [
    {
     "data": {
      "text/html": [
       "<div>\n",
       "<style scoped>\n",
       "    .dataframe tbody tr th:only-of-type {\n",
       "        vertical-align: middle;\n",
       "    }\n",
       "\n",
       "    .dataframe tbody tr th {\n",
       "        vertical-align: top;\n",
       "    }\n",
       "\n",
       "    .dataframe thead th {\n",
       "        text-align: right;\n",
       "    }\n",
       "</style>\n",
       "<table border=\"1\" class=\"dataframe\">\n",
       "  <thead>\n",
       "    <tr style=\"text-align: right;\">\n",
       "      <th></th>\n",
       "      <th>sans_id</th>\n",
       "      <th>pr_sans</th>\n",
       "      <th>sa_id</th>\n",
       "    </tr>\n",
       "  </thead>\n",
       "  <tbody>\n",
       "    <tr>\n",
       "      <th>0</th>\n",
       "      <td>47-316-47</td>\n",
       "      <td>0.001336</td>\n",
       "      <td>47-316</td>\n",
       "    </tr>\n",
       "    <tr>\n",
       "      <th>1</th>\n",
       "      <td>576-120-576</td>\n",
       "      <td>0.001112</td>\n",
       "      <td>576-120</td>\n",
       "    </tr>\n",
       "    <tr>\n",
       "      <th>2</th>\n",
       "      <td>152-120-152</td>\n",
       "      <td>0.001053</td>\n",
       "      <td>152-120</td>\n",
       "    </tr>\n",
       "    <tr>\n",
       "      <th>3</th>\n",
       "      <td>521-120-521</td>\n",
       "      <td>0.000922</td>\n",
       "      <td>521-120</td>\n",
       "    </tr>\n",
       "    <tr>\n",
       "      <th>4</th>\n",
       "      <td>147-120-147</td>\n",
       "      <td>0.000887</td>\n",
       "      <td>147-120</td>\n",
       "    </tr>\n",
       "    <tr>\n",
       "      <th>...</th>\n",
       "      <td>...</td>\n",
       "      <td>...</td>\n",
       "      <td>...</td>\n",
       "    </tr>\n",
       "    <tr>\n",
       "      <th>39883</th>\n",
       "      <td>396-218-202</td>\n",
       "      <td>0.000012</td>\n",
       "      <td>396-218</td>\n",
       "    </tr>\n",
       "    <tr>\n",
       "      <th>39884</th>\n",
       "      <td>25-233-552</td>\n",
       "      <td>0.000012</td>\n",
       "      <td>25-233</td>\n",
       "    </tr>\n",
       "    <tr>\n",
       "      <th>39885</th>\n",
       "      <td>142-120-396</td>\n",
       "      <td>0.000012</td>\n",
       "      <td>142-120</td>\n",
       "    </tr>\n",
       "    <tr>\n",
       "      <th>39886</th>\n",
       "      <td>292-218-142</td>\n",
       "      <td>0.000012</td>\n",
       "      <td>292-218</td>\n",
       "    </tr>\n",
       "    <tr>\n",
       "      <th>39887</th>\n",
       "      <td>53-225-168</td>\n",
       "      <td>0.000012</td>\n",
       "      <td>53-225</td>\n",
       "    </tr>\n",
       "  </tbody>\n",
       "</table>\n",
       "<p>39888 rows × 3 columns</p>\n",
       "</div>"
      ],
      "text/plain": [
       "           sans_id   pr_sans    sa_id\n",
       "0        47-316-47  0.001336   47-316\n",
       "1      576-120-576  0.001112  576-120\n",
       "2      152-120-152  0.001053  152-120\n",
       "3      521-120-521  0.000922  521-120\n",
       "4      147-120-147  0.000887  147-120\n",
       "...            ...       ...      ...\n",
       "39883  396-218-202  0.000012  396-218\n",
       "39884   25-233-552  0.000012   25-233\n",
       "39885  142-120-396  0.000012  142-120\n",
       "39886  292-218-142  0.000012  292-218\n",
       "39887   53-225-168  0.000012   53-225\n",
       "\n",
       "[39888 rows x 3 columns]"
      ]
     },
     "execution_count": 62,
     "metadata": {},
     "output_type": "execute_result"
    }
   ],
   "source": [
    "pr_nstate_state_action"
   ]
  },
  {
   "cell_type": "code",
   "execution_count": 63,
   "metadata": {},
   "outputs": [
    {
     "data": {
      "text/html": [
       "<div>\n",
       "<style scoped>\n",
       "    .dataframe tbody tr th:only-of-type {\n",
       "        vertical-align: middle;\n",
       "    }\n",
       "\n",
       "    .dataframe tbody tr th {\n",
       "        vertical-align: top;\n",
       "    }\n",
       "\n",
       "    .dataframe thead th {\n",
       "        text-align: right;\n",
       "    }\n",
       "</style>\n",
       "<table border=\"1\" class=\"dataframe\">\n",
       "  <thead>\n",
       "    <tr style=\"text-align: right;\">\n",
       "      <th></th>\n",
       "      <th>sans_id</th>\n",
       "      <th>pr_sans</th>\n",
       "      <th>sa_id</th>\n",
       "    </tr>\n",
       "  </thead>\n",
       "  <tbody>\n",
       "    <tr>\n",
       "      <th>0</th>\n",
       "      <td>47-316-47</td>\n",
       "      <td>0.001336</td>\n",
       "      <td>47-316</td>\n",
       "    </tr>\n",
       "    <tr>\n",
       "      <th>1</th>\n",
       "      <td>576-120-576</td>\n",
       "      <td>0.001112</td>\n",
       "      <td>576-120</td>\n",
       "    </tr>\n",
       "    <tr>\n",
       "      <th>2</th>\n",
       "      <td>152-120-152</td>\n",
       "      <td>0.001053</td>\n",
       "      <td>152-120</td>\n",
       "    </tr>\n",
       "    <tr>\n",
       "      <th>3</th>\n",
       "      <td>521-120-521</td>\n",
       "      <td>0.000922</td>\n",
       "      <td>521-120</td>\n",
       "    </tr>\n",
       "    <tr>\n",
       "      <th>4</th>\n",
       "      <td>147-120-147</td>\n",
       "      <td>0.000887</td>\n",
       "      <td>147-120</td>\n",
       "    </tr>\n",
       "    <tr>\n",
       "      <th>...</th>\n",
       "      <td>...</td>\n",
       "      <td>...</td>\n",
       "      <td>...</td>\n",
       "    </tr>\n",
       "    <tr>\n",
       "      <th>39883</th>\n",
       "      <td>396-218-202</td>\n",
       "      <td>0.000012</td>\n",
       "      <td>396-218</td>\n",
       "    </tr>\n",
       "    <tr>\n",
       "      <th>39884</th>\n",
       "      <td>25-233-552</td>\n",
       "      <td>0.000012</td>\n",
       "      <td>25-233</td>\n",
       "    </tr>\n",
       "    <tr>\n",
       "      <th>39885</th>\n",
       "      <td>142-120-396</td>\n",
       "      <td>0.000012</td>\n",
       "      <td>142-120</td>\n",
       "    </tr>\n",
       "    <tr>\n",
       "      <th>39886</th>\n",
       "      <td>292-218-142</td>\n",
       "      <td>0.000012</td>\n",
       "      <td>292-218</td>\n",
       "    </tr>\n",
       "    <tr>\n",
       "      <th>39887</th>\n",
       "      <td>53-225-168</td>\n",
       "      <td>0.000012</td>\n",
       "      <td>53-225</td>\n",
       "    </tr>\n",
       "  </tbody>\n",
       "</table>\n",
       "<p>39888 rows × 3 columns</p>\n",
       "</div>"
      ],
      "text/plain": [
       "           sans_id   pr_sans    sa_id\n",
       "0        47-316-47  0.001336   47-316\n",
       "1      576-120-576  0.001112  576-120\n",
       "2      152-120-152  0.001053  152-120\n",
       "3      521-120-521  0.000922  521-120\n",
       "4      147-120-147  0.000887  147-120\n",
       "...            ...       ...      ...\n",
       "39883  396-218-202  0.000012  396-218\n",
       "39884   25-233-552  0.000012   25-233\n",
       "39885  142-120-396  0.000012  142-120\n",
       "39886  292-218-142  0.000012  292-218\n",
       "39887   53-225-168  0.000012   53-225\n",
       "\n",
       "[39888 rows x 3 columns]"
      ]
     },
     "execution_count": 63,
     "metadata": {},
     "output_type": "execute_result"
    }
   ],
   "source": [
    "pr_nstate_state_action"
   ]
  },
  {
   "cell_type": "markdown",
   "metadata": {},
   "source": [
    "# Training a policy"
   ]
  },
  {
   "cell_type": "code",
   "execution_count": 64,
   "metadata": {},
   "outputs": [],
   "source": [
    "immediate_reward[['state', 'action', 'immediate_reward']]\n",
    "# matrix of immediate rewards\n",
    "sar = np.full((n_states, 7**3), np.nan)\n",
    "for state, action, reward in immediate_reward[['state', 'action', 'immediate_reward']].to_numpy():\n",
    "    sar[int(state), int(action)] = reward\n",
    "\n",
    "# Qn = {} # maps n to q tables"
   ]
  },
  {
   "cell_type": "code",
   "execution_count": 65,
   "metadata": {},
   "outputs": [
    {
     "data": {
      "text/plain": [
       "100.0"
      ]
     },
     "execution_count": 65,
     "metadata": {},
     "output_type": "execute_result"
    }
   ],
   "source": [
    "np.nanmax(sar[0, :])"
   ]
  },
  {
   "cell_type": "code",
   "execution_count": 66,
   "metadata": {},
   "outputs": [],
   "source": [
    "# According to the tabular FQI algorithm in Ernst, Geurts & Wehenkel (2005), Figure 1\n",
    "# and Peine's supplementary discussion \"A: Evaluation of Policies\".\n",
    "def peine_mc_iterate(snsas, r, Qn, gamma, n_epochs=1, learning_rate=0.1):\n",
    "    \"\"\"\n",
    "    Monte-carlo-based iteration of the training procedure according to tabular FQI & Peine's supplementary discussion.\n",
    "    \n",
    "    snsas: numpy ndarray with discretized state-nextstate-action tuples\n",
    "    r: a function that returns the immediate reward for a state-action pair\n",
    "    Qn: dictionary that maps iteration indices to Qn-estimates\n",
    "    n: iteration number\n",
    "    gamma: discount factor\n",
    "    n_epochs: number of times to iterate over dataset\n",
    "    learning rate: learning rate alpha\n",
    "    \"\"\"\n",
    "    def epoch(snsas, r, Qn, gamma, learning_rate):\n",
    "        for i, (s, ns, a) in enumerate(snsas):\n",
    "            # TODO: fix na in ns -- should it be there? How to handle?\n",
    "            if type(ns) == str or not np.isnan(ns):\n",
    "                Qn[s,a] = Qn[s,a] + learning_rate * (r[i] + gamma * np.nanmax(Qn[int(ns),:]) - Qn[s,a])\n",
    "        return Qn\n",
    "    assert Qn.shape == (n_states, 7**3)\n",
    "    for n in range(n_epochs):\n",
    "        Qn = epoch(snsas, r, Qn, gamma, learning_rate[n])\n",
    "        print('.', end='')\n",
    "    return Qn\n",
    "\n",
    "\n",
    "def ernst_iterate(snsas, r, Qn, n, gamma, regressor, action_space, state_repr=None, action_repr=to_discrete_action_bins):\n",
    "    \"\"\"\n",
    "    snsas: numpy ndarray with discretized state_id-nextstate_id-action_id tuples\n",
    "    r: immediate rewards\n",
    "    Qn: dictionary that maps iteration indices to Qn estimates/estimators\n",
    "    n: iteration number\n",
    "    gamma: discount factor\n",
    "    regression: sklearn regression class\n",
    "    action_space: iterator that retuns all actions in\n",
    "    action_repr: function that returns the action representation\n",
    "    \"\"\"\n",
    "    def batches(X, batch_size):\n",
    "        n_batches = int(math.ceil(X.shape[0] / batch_size))\n",
    "        batches = []\n",
    "        for i in range(n_batches):\n",
    "            batch_start = i * batch_size\n",
    "            batch_end = min(batch_start + batch_size, X.shape[0])\n",
    "            batches.append((batch_start, batch_end))\n",
    "        return batches\n",
    "\n",
    "    def prediction_set(X, action_space):\n",
    "        shape_x = X.shape\n",
    "        n_actions = action_space.shape[0]\n",
    "        action_dims = action_space.shape[1]\n",
    "        repeated_X = X.repeat(n_actions, axis=0).reshape((shape_x[0] * n_actions, shape_x[1]))\n",
    "        repeated_action_reprs = np.tile(action_space, (shape_x[0], 1)).reshape(repeated_X.shape[0], action_dims)\n",
    "        return np.concatenate([repeated_X, repeated_action_reprs], axis=1)\n",
    "\n",
    "    Q_hat = Qn[n]\n",
    "    n = n + 1\n",
    "    a_reprs = np.array(list(map(action_repr, snsas[:,2])))\n",
    "    action_space_reprs = np.array(list(map(action_repr, action_space)))\n",
    "    s_reprs = state_repr.transform(snsas[:, 0].reshape(-1, 1))\n",
    "    ns_reprs = state_repr.transform(snsas[:, 1].reshape(-1, 1))\n",
    "    X_train = hstack((s_reprs, a_reprs))\n",
    "    # generate prediction dataset of length X.shape[0] * len(action_space)\n",
    "    batch_size = int(X_train.shape[0] / 100)\n",
    "    y_train = np.array([])\n",
    "    for batch_start, batch_end in batches(X_train, batch_size):\n",
    "        X_batch = ns_reprs[batch_start:batch_end, :].toarray()\n",
    "        X_preds = prediction_set(X_batch, action_space_reprs)\n",
    "        # predict Q scores for prediction dataset\n",
    "        y_preds = Q_hat.predict(X_preds)\n",
    "        # create targets with immediate reward and highest Q score for each row\n",
    "        y_preds = y_preds.reshape(X_batch.shape[0], len(action_space_reprs))\n",
    "        y_train = np.concatenate([y_train, r[batch_start:batch_end] + gamma * y_preds.max(axis=1)], axis=0)\n",
    "        print('.', end ='')\n",
    "    Q_hat_new = regressor()\n",
    "    Q_hat_new.fit(X_train, y_train)\n",
    "    return n, Q_hat_new\n",
    "    \n",
    "\n",
    "\n",
    "# TODO\n",
    "# implement a regressor that wraps an OLS regressor in the following way:\n",
    "#  1. creates an OLS regressor for each state\n",
    "#  2. implements a predict() function that first looks up the right state OLS\n",
    "#     and then calls predict() on the regressor there with the action levels as input\n",
    "#  3. implements a fit() function that first segments X into buckets with the same state-action pair\n",
    "#     then creates a regressor for that pair\n",
    "#     and calls fit() on that pair << TODO: BUT GIVEN WHAT INPUT? does this only work for a three-dimensional action input?\n",
    "class PerStateActionOLS():\n",
    "    def __init__(self, states, default=None):\n",
    "        self.regressors = {\n",
    "            state: LinearRegression() for state in states\n",
    "        }\n",
    "        self.default = default\n",
    "        \n",
    "    def fit(self, X, y, states):\n",
    "        \"\"\"\n",
    "        Fits a set of \n",
    "        \"\"\"\n",
    "        assert len(X) == len(states) == len(y), \"Number of train samples, labels and states should be equal\"\n",
    "        X = np.array(X)\n",
    "        X_df = pd.DataFrame(X, columns=['X_{}'.format(i) for i in range(X.shape[1])])\n",
    "        X_cols = list(X_df.columns)\n",
    "        X_df.loc[:, 'state'] = states\n",
    "        X_df.loc[:, 'y'] = y\n",
    "        groups = X_df.groupby('state')\n",
    "        for k in groups.groups.keys():\n",
    "            X_group = groups.get_group(k)[X_cols].to_numpy()\n",
    "            y_group = groups.get_group(k)['y'].to_numpy()\n",
    "            self.regressors[k].fit(X_group, y_group)\n",
    "    \n",
    "    def predict(self, X, states):\n",
    "        def predict_single(row, X_cols):\n",
    "            if row.state in self.regressors.keys():\n",
    "                return self.regressors[row.state].predict(row[X_cols].to_numpy().reshape(1,-1))\n",
    "            else:\n",
    "                if self.default is None:\n",
    "                    raise ValueError('Cannot predict for state {} without default prediction.'.format(row.state))\n",
    "                else:\n",
    "                    return self.default\n",
    "            \n",
    "        if isinstance(X, Iterable):\n",
    "            assert len(X) == len(states), \"Number of train samples, labels and states should be equal\"\n",
    "        X = np.array(X)\n",
    "        X_df = pd.DataFrame(X, columns=['X_{}'.format(i) for i in range(X.shape[1])])\n",
    "        X_cols = list(X_df.columns)\n",
    "        X_df.loc[:, 'state'] = states\n",
    "        predictions = X_df.apply(lambda x: predict_single(x, X_cols), axis=1)\n",
    "        return predictions\n",
    "\n",
    "class OneHotStateActionOLS():\n",
    "    def __init__(self, obs_states, all_states=range(650), *args, **kwargs):\n",
    "        # TODO: ensure that all states are passed\n",
    "        if type(obs_states) == set:\n",
    "            obs_states = list(obs_states)\n",
    "        obs_states = np.array(obs_states).reshape(-1, 1)\n",
    "        self.state_encoder = OneHotEncoder(categories=[all_states,]).fit(obs_states)\n",
    "        self.regressor = LinearRegression()\n",
    "    \n",
    "    def encode(self, X, states):\n",
    "        state_encoding = self.state_encoder.transform(states)\n",
    "        return np.concatenate((X, state_encoding.todense()), axis=1)\n",
    "\n",
    "    def fit(self, X, y):\n",
    "        self.regressor.fit(X, y)\n",
    "    \n",
    "    def predict(self, X):\n",
    "        X = np.array(X)\n",
    "        states = np.array(states).reshape(-1, 1)\n",
    "        X_new = self.encode(X, states)\n",
    "        return self.regressor.predict(X_new)\n",
    "\n",
    "\n",
    "class DummyRegressor:\n",
    "    def __init__(self, return_val=0):\n",
    "        self.return_val = return_val\n",
    "        \n",
    "    def predict(self, X, *args, **kwargs):\n",
    "        return np.repeat([self.return_val], X.shape[0]).reshape(-1, 1)"
   ]
  },
  {
   "cell_type": "code",
   "execution_count": 67,
   "metadata": {},
   "outputs": [
    {
     "name": "stdout",
     "output_type": "stream",
     "text": [
      "........................................................................................................................................................................................................................................................................................................................................................................................................................................................................................................................................................................................................................................................................................................................................................................................................................................................................................................................................................................................................................................"
     ]
    }
   ],
   "source": [
    "# peine_iterate(snsas, r, Qn, gamma, n_epochs=1, learning_rate=0.1):\n",
    "Q_init_val = -101.0\n",
    "alpha_min = 1e-8\n",
    "alpha_max = 0.10\n",
    "n_epochs = 1000\n",
    "learning_rate = np.linspace(alpha_min, alpha_max, n_epochs)\n",
    "p_Qn1000 = peine_mc_iterate(\n",
    "    snsas=train_set[~train_set.next_state.isna()][['state', 'next_state', 'action_discrete']].astype(int).to_numpy(),\n",
    "    r=train_set[~train_set.next_state.isna()]['immediate_reward'].to_numpy(),\n",
    "    Qn=np.full((650, 7**3), Q_init_val),\n",
    "    gamma=0.99,\n",
    "    n_epochs=n_epochs,\n",
    "    learning_rate=learning_rate\n",
    ")"
   ]
  },
  {
   "cell_type": "code",
   "execution_count": 68,
   "metadata": {},
   "outputs": [
    {
     "name": "stdout",
     "output_type": "stream",
     "text": [
      "."
     ]
    }
   ],
   "source": [
    "# peine_iterate(snsas, r, Qn, gamma, n_epochs=1, learning_rate=0.1):\n",
    "Q_init_val = 0\n",
    "alpha_min = 0.1\n",
    "alpha_max = 0.1\n",
    "n_epochs = 1\n",
    "learning_rate = np.linspace(alpha_min, alpha_max, n_epochs)\n",
    "p_Qn10 = peine_mc_iterate(\n",
    "    snsas=train_set[~train_set.next_state.isna()][['state', 'next_state', 'action_discrete']].astype(int).to_numpy(),\n",
    "    r=train_set[~train_set.next_state.isna()]['immediate_reward'].to_numpy(),\n",
    "    Qn=np.full((650, 7**3), Q_init_val),\n",
    "    gamma=0.99,\n",
    "    n_epochs=n_epochs,\n",
    "    learning_rate=learning_rate\n",
    ")"
   ]
  },
  {
   "cell_type": "code",
   "execution_count": 69,
   "metadata": {},
   "outputs": [
    {
     "data": {
      "text/plain": [
       "<AxesSubplot:ylabel='Count'>"
      ]
     },
     "execution_count": 69,
     "metadata": {},
     "output_type": "execute_result"
    },
    {
     "data": {
      "image/png": "[encoded data removed]",
      "text/plain": [
       "<Figure size 432x288 with 1 Axes>"
      ]
     },
     "metadata": {
      "needs_background": "light"
     },
     "output_type": "display_data"
    }
   ],
   "source": [
    "sns.histplot(p_Qn1000.ravel())"
   ]
  },
  {
   "cell_type": "code",
   "execution_count": 70,
   "metadata": {},
   "outputs": [
    {
     "data": {
      "text/plain": [
       "(-114.03001204812286, 6294.663645744866)"
      ]
     },
     "execution_count": 70,
     "metadata": {},
     "output_type": "execute_result"
    }
   ],
   "source": [
    "p_Qn1000.min(), p_Qn1000.max()"
   ]
  },
  {
   "cell_type": "code",
   "execution_count": 71,
   "metadata": {},
   "outputs": [
    {
     "name": "stdout",
     "output_type": "stream",
     "text": [
      ".....................................................................................................1\n",
      ".....................................................................................................2\n",
      ".....................................................................................................3\n",
      ".....................................................................................................4\n",
      ".....................................................................................................5\n",
      ".....................................................................................................6\n",
      ".....................................................................................................7\n",
      ".....................................................................................................8\n",
      ".....................................................................................................9\n",
      ".....................................................................................................10\n",
      ".....................................................................................................11\n",
      ".....................................................................................................12\n",
      ".....................................................................................................13\n",
      ".....................................................................................................14\n",
      ".....................................................................................................15\n",
      ".....................................................................................................16\n",
      ".....................................................................................................17\n",
      ".....................................................................................................18\n",
      ".....................................................................................................19\n",
      ".....................................................................................................20\n",
      ".....................................................................................................21\n",
      ".....................................................................................................22\n",
      ".....................................................................................................23\n",
      ".....................................................................................................24\n",
      ".....................................................................................................25\n",
      ".....................................................................................................26\n",
      ".....................................................................................................27\n",
      ".....................................................................................................28\n",
      ".....................................................................................................29\n",
      ".....................................................................................................30\n",
      ".....................................................................................................31\n",
      ".....................................................................................................32\n",
      ".....................................................................................................33\n",
      ".....................................................................................................34\n",
      ".....................................................................................................35\n",
      ".....................................................................................................36\n",
      ".....................................................................................................37\n",
      ".....................................................................................................38\n",
      ".....................................................................................................39\n",
      ".....................................................................................................40\n"
     ]
    }
   ],
   "source": [
    "Qne = {}\n",
    "Qne[0] = DummyRegressor(0)\n",
    "all_states = np.array(list(range(n_states))).reshape(-1, 1)\n",
    "state_encoding = OneHotEncoder().fit(all_states)\n",
    "for iteration in range(40):\n",
    "    n, qe = ernst_iterate(\n",
    "        # TODO: why are the NaNs here? how to deal with these?\n",
    "        snsas=train_set[~train_set.next_state.isna()][['state', 'next_state', 'action_discrete']].astype(int).to_numpy(),\n",
    "        r=train_set[~train_set.next_state.isna()]['immediate_reward'].to_numpy(),\n",
    "        Qn=Qne,\n",
    "        n=iteration,\n",
    "        gamma=0.99,\n",
    "        regressor=LinearRegression,\n",
    "        state_repr=state_encoding,\n",
    "        action_space=list(range(7**3)),\n",
    "    )\n",
    "    Qne[n] = qe\n",
    "    print(n)"
   ]
  },
  {
   "cell_type": "code",
   "execution_count": 72,
   "metadata": {},
   "outputs": [
    {
     "data": {
      "text/plain": [
       "0        False\n",
       "1        False\n",
       "2        False\n",
       "3        False\n",
       "4        False\n",
       "         ...  \n",
       "83902    False\n",
       "83903     True\n",
       "83904    False\n",
       "83905    False\n",
       "83906    False\n",
       "Name: terminal, Length: 83907, dtype: bool"
      ]
     },
     "execution_count": 72,
     "metadata": {},
     "output_type": "execute_result"
    }
   ],
   "source": [
    "train_set.terminal"
   ]
  },
  {
   "cell_type": "code",
   "execution_count": 73,
   "metadata": {},
   "outputs": [
    {
     "data": {
      "text/plain": [
       "[21, 22, 23, 24, 25, 26, 27, 28, 29, 30, 31, 32, 33, 34, 35, 36, 37, 38, 39]"
      ]
     },
     "execution_count": 73,
     "metadata": {},
     "output_type": "execute_result"
    }
   ],
   "source": [
    "list(range(21, 40))"
   ]
  },
  {
   "cell_type": "code",
   "execution_count": 74,
   "metadata": {},
   "outputs": [],
   "source": [
    "sas = train_set[~train_set.next_state.isna()][['state', 'action_discrete']].astype(int).to_numpy()\n",
    "a_reprs = np.array(list(map(to_discrete_action_bins, sas[:,1])))\n",
    "s_reprs = state_encoding.transform(sas[:, 0].reshape(-1, 1))\n",
    "X_pred = np.concatenate((s_reprs.toarray(), a_reprs), axis=1)\n",
    "y_pred = Qne[20].predict(X_pred)"
   ]
  },
  {
   "cell_type": "code",
   "execution_count": 75,
   "metadata": {},
   "outputs": [],
   "source": [
    "q_immediate_reward = np.absolute(y_pred.reshape(-1,1) - train_set[~train_set.next_state.isna()]['immediate_reward'].to_numpy().reshape(-1,1))"
   ]
  },
  {
   "cell_type": "code",
   "execution_count": 76,
   "metadata": {},
   "outputs": [],
   "source": [
    "peine_preds1000 = train_set.apply(lambda x: p_Qn1000[x['state'], x['action_discrete']], axis=1)\n",
    "peine_preds10 = train_set.apply(lambda x: p_Qn10[x['state'], x['action_discrete']], axis=1)\n"
   ]
  },
  {
   "cell_type": "code",
   "execution_count": 77,
   "metadata": {},
   "outputs": [
    {
     "data": {
      "text/plain": [
       "(-30, 47)"
      ]
     },
     "execution_count": 77,
     "metadata": {},
     "output_type": "execute_result"
    },
    {
     "data": {
      "image/png": "[encoded data removed]",
      "text/plain": [
       "<Figure size 432x288 with 1 Axes>"
      ]
     },
     "metadata": {
      "needs_background": "light"
     },
     "output_type": "display_data"
    }
   ],
   "source": [
    "sns.histplot(peine_preds10)\n",
    "peine_preds10.min(), peine_preds10.max()"
   ]
  },
  {
   "cell_type": "code",
   "execution_count": 78,
   "metadata": {},
   "outputs": [
    {
     "data": {
      "text/plain": [
       "(-114.03001204812286, 6294.663645744866)"
      ]
     },
     "execution_count": 78,
     "metadata": {},
     "output_type": "execute_result"
    },
    {
     "data": {
      "image/png": "[encoded data removed]",
      "text/plain": [
       "<Figure size 432x288 with 1 Axes>"
      ]
     },
     "metadata": {
      "needs_background": "light"
     },
     "output_type": "display_data"
    }
   ],
   "source": [
    "sns.histplot(peine_preds1000)\n",
    "peine_preds1000.min(), peine_preds1000.max()"
   ]
  },
  {
   "cell_type": "code",
   "execution_count": 79,
   "metadata": {},
   "outputs": [
    {
     "data": {
      "text/plain": [
       "(-131.4182483009543, 250.56521104918664)"
      ]
     },
     "execution_count": 79,
     "metadata": {},
     "output_type": "execute_result"
    },
    {
     "data": {
      "image/png": "[encoded data removed]",
      "text/plain": [
       "<Figure size 432x288 with 1 Axes>"
      ]
     },
     "metadata": {
      "needs_background": "light"
     },
     "output_type": "display_data"
    }
   ],
   "source": [
    "sns.histplot(y_pred)\n",
    "y_pred.min(), y_pred.max()"
   ]
  },
  {
   "cell_type": "code",
   "execution_count": 80,
   "metadata": {},
   "outputs": [
    {
     "data": {
      "text/plain": [
       "(-230.1823569800426, 462.47409303309223)"
      ]
     },
     "execution_count": 80,
     "metadata": {},
     "output_type": "execute_result"
    },
    {
     "data": {
      "image/png": "[encoded data removed]",
      "text/plain": [
       "<Figure size 432x288 with 1 Axes>"
      ]
     },
     "metadata": {
      "needs_background": "light"
     },
     "output_type": "display_data"
    }
   ],
   "source": [
    "y_pred40 = Qne[40].predict(X_pred)\n",
    "sns.histplot(y_pred40)\n",
    "y_pred40.min(), y_pred40.max()"
   ]
  },
  {
   "cell_type": "code",
   "execution_count": 81,
   "metadata": {},
   "outputs": [
    {
     "data": {
      "text/plain": [
       "<AxesSubplot:>"
      ]
     },
     "execution_count": 81,
     "metadata": {},
     "output_type": "execute_result"
    },
    {
     "data": {
      "image/png": "[encoded data removed]",
      "text/plain": [
       "<Figure size 432x288 with 1 Axes>"
      ]
     },
     "metadata": {
      "needs_background": "light"
     },
     "output_type": "display_data"
    }
   ],
   "source": [
    "mort90day = (train_set[~train_set.next_state.isna()]['mort90day'] == 'f').astype(int).to_numpy()\n",
    "sns.scatterplot(x=y_pred, y=mort90day)\n",
    "\n",
    "# train_set.loc[train_set[~train_set.next_state.isna()], 'ypred40'] = y_pred40.reshape(-1,1)"
   ]
  },
  {
   "cell_type": "code",
   "execution_count": 82,
   "metadata": {},
   "outputs": [],
   "source": [
    "# train_set['ypred40']"
   ]
  },
  {
   "cell_type": "code",
   "execution_count": 83,
   "metadata": {},
   "outputs": [
    {
     "data": {
      "text/plain": [
       "0.6414959419357146"
      ]
     },
     "execution_count": 83,
     "metadata": {},
     "output_type": "execute_result"
    }
   ],
   "source": [
    "y_pred.mean()\n",
    "(train_set['mort90day'] == 'f').mean()"
   ]
  },
  {
   "cell_type": "markdown",
   "metadata": {},
   "source": [
    "## Evaluate on test data"
   ]
  },
  {
   "cell_type": "code",
   "execution_count": null,
   "metadata": {},
   "outputs": [],
   "source": []
  },
  {
   "cell_type": "markdown",
   "metadata": {},
   "source": [
    "# Sanity check data by visualization"
   ]
  },
  {
   "cell_type": "code",
   "execution_count": null,
   "metadata": {},
   "outputs": [],
   "source": [
    "def original(varname):\n",
    "    return varname.replace(\"_impknn\", \"\").replace(\"_imp\", \"\").replace(\"_scaled\", \"\").replace(\"rescaled\", \"\")\n",
    "\n",
    "for var in state_variables:\n",
    "#     print(var, original(var))\n",
    "    plt.figure(figsize=(20,5))\n",
    "    plt.subplot(1, 3, 1)  # row 1, column 2, count 1\n",
    "    to_plot = original(var)\n",
    "    sns.histplot(train_set[to_plot])\n",
    "    plt.title(\"nan:{} m:{:.2f} s:{:.2f}\".format(train_set[to_plot].isna().sum(), train_set[to_plot].mean(), train_set[to_plot].var()))\n",
    "    plt.subplot(1,3,2)\n",
    "    to_plot = var.replace(\"_impknn\", \"\")\n",
    "    sns.histplot(train_set[to_plot])\n",
    "    plt.title(\"nan:{} m:{:.2f} s:{:.2f}\".format(train_set[to_plot].isna().sum(), train_set[to_plot].mean(), train_set[to_plot].var()))\n",
    "    plt.subplot(1,3,3)\n",
    "    to_plot = var\n",
    "    sns.histplot(train_set[to_plot])\n",
    "    plt.title(\"nan:{} m:{:.2f} s:{:.2f}\".format(train_set[to_plot].isna().sum(), train_set[to_plot].mean(), train_set[to_plot].var()))\n",
    "    plt.show()"
   ]
  },
  {
   "cell_type": "code",
   "execution_count": null,
   "metadata": {},
   "outputs": [],
   "source": [
    "all_vars"
   ]
  },
  {
   "cell_type": "code",
   "execution_count": null,
   "metadata": {},
   "outputs": [],
   "source": []
  },
  {
   "cell_type": "code",
   "execution_count": null,
   "metadata": {},
   "outputs": [],
   "source": [
    "to_discrete_action_bins(7)"
   ]
  },
  {
   "cell_type": "code",
   "execution_count": null,
   "metadata": {},
   "outputs": [],
   "source": []
  },
  {
   "cell_type": "code",
   "execution_count": null,
   "metadata": {},
   "outputs": [],
   "source": []
  },
  {
   "cell_type": "code",
   "execution_count": null,
   "metadata": {},
   "outputs": [],
   "source": [
    "action_bin_definition[0]"
   ]
  },
  {
   "cell_type": "code",
   "execution_count": null,
   "metadata": {},
   "outputs": [],
   "source": [
    "peep_bins.index(action_bin_definition[3][2])"
   ]
  },
  {
   "cell_type": "code",
   "execution_count": null,
   "metadata": {},
   "outputs": [],
   "source": [
    "tv_bins, fio2_bins, peep_bins"
   ]
  }
 ],
 "metadata": {
  "kernelspec": {
   "display_name": "Python 3",
   "language": "python",
   "name": "python3"
  },
  "language_info": {
   "codemirror_mode": {
    "name": "ipython",
    "version": 3
   },
   "file_extension": ".py",
   "mimetype": "text/x-python",
   "name": "python",
   "nbconvert_exporter": "python",
   "pygments_lexer": "ipython3",
   "version": "3.9.1"
  }
 },
 "nbformat": 4,
 "nbformat_minor": 4
}
