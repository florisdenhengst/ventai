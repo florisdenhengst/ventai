{
 "cells": [
  {
   "cell_type": "code",
   "execution_count": 1,
   "metadata": {
    "scrolled": false
   },
   "outputs": [],
   "source": [
    "import functools\n",
    "import itertools\n",
    "import operator\n",
    "from matplotlib import pyplot as plt\n",
    "\n",
    "import pandas as pd\n",
    "from pandas.api.types import is_numeric_dtype\n",
    "import numpy as np\n",
    "import numpy_ext as npe\n",
    "import math\n",
    "import random\n",
    "from scipy.optimize import curve_fit\n",
    "from scipy.stats import poisson\n",
    "\n",
    "from sklearn.impute import KNNImputer\n",
    "from sklearn.preprocessing import Normalizer, StandardScaler\n",
    "from sklearn.model_selection import train_test_split\n",
    "import joblib\n",
    "\n",
    "import seaborn as sns\n",
    "\n",
    "from config import demographics, vital_sign_vars, lab_vars, treatment_vars, vent_vars, guideline_vars, ffill_windows_clinical, SAMPLE_TIME_H"
   ]
  },
  {
   "cell_type": "markdown",
   "metadata": {},
   "source": [
    "# Setup\n",
    "Read file with a selection of patients according to the following criteria:\n",
    "* age >= 18 years\n",
    "* ventilated for >= 24 hours\n",
    "* length of ICU stay >= 72 hours\n",
    "* known hospital mortality or 90-day-mortality\n",
    "\n",
    "Data is assumed to be sampled and/or aggregated by periods of 4 hours for the entire ICU stay, i.e. including after and prior to mechanical ventilation."
   ]
  },
  {
   "cell_type": "code",
   "execution_count": 2,
   "metadata": {},
   "outputs": [],
   "source": [
    "file = 'data/ventilatedpatients.csv'\n",
    "seed = 12\n",
    "np.random.seed(seed)\n",
    "random.seed(seed)"
   ]
  },
  {
   "cell_type": "code",
   "execution_count": 3,
   "metadata": {},
   "outputs": [],
   "source": [
    "df = pd.read_csv(file)"
   ]
  },
  {
   "cell_type": "code",
   "execution_count": 4,
   "metadata": {},
   "outputs": [
    {
     "data": {
      "text/html": [
       "<div>\n",
       "<style scoped>\n",
       "    .dataframe tbody tr th:only-of-type {\n",
       "        vertical-align: middle;\n",
       "    }\n",
       "\n",
       "    .dataframe tbody tr th {\n",
       "        vertical-align: top;\n",
       "    }\n",
       "\n",
       "    .dataframe thead th {\n",
       "        text-align: right;\n",
       "    }\n",
       "</style>\n",
       "<table border=\"1\" class=\"dataframe\">\n",
       "  <thead>\n",
       "    <tr style=\"text-align: right;\">\n",
       "      <th></th>\n",
       "      <th>icustay_id</th>\n",
       "      <th>subject_id</th>\n",
       "      <th>hadm_id</th>\n",
       "      <th>admission_age</th>\n",
       "      <th>weight</th>\n",
       "      <th>adult_ibw</th>\n",
       "      <th>elixhauser_vanwalraven</th>\n",
       "      <th>sofa</th>\n",
       "      <th>sirs</th>\n",
       "      <th>gcs</th>\n",
       "      <th>...</th>\n",
       "      <th>vaso_total</th>\n",
       "      <th>iv_total</th>\n",
       "      <th>cum_fluid_balance</th>\n",
       "      <th>peep</th>\n",
       "      <th>tidal_volume</th>\n",
       "      <th>volume_controlled</th>\n",
       "      <th>plateau_pressure</th>\n",
       "      <th>height</th>\n",
       "      <th>vent_num</th>\n",
       "      <th>vent_duration_h</th>\n",
       "    </tr>\n",
       "  </thead>\n",
       "  <tbody>\n",
       "    <tr>\n",
       "      <th>count</th>\n",
       "      <td>655511.000000</td>\n",
       "      <td>655511.000000</td>\n",
       "      <td>655511.000000</td>\n",
       "      <td>655511.000000</td>\n",
       "      <td>6.074500e+05</td>\n",
       "      <td>578222.000000</td>\n",
       "      <td>151920.000000</td>\n",
       "      <td>655511.000000</td>\n",
       "      <td>655511.000000</td>\n",
       "      <td>530701.000000</td>\n",
       "      <td>...</td>\n",
       "      <td>74411.000000</td>\n",
       "      <td>563031.000000</td>\n",
       "      <td>631969.000000</td>\n",
       "      <td>434476.000000</td>\n",
       "      <td>434165.000000</td>\n",
       "      <td>237904.0</td>\n",
       "      <td>125054.000000</td>\n",
       "      <td>578222.000000</td>\n",
       "      <td>367756.0</td>\n",
       "      <td>367756.000000</td>\n",
       "    </tr>\n",
       "    <tr>\n",
       "      <th>mean</th>\n",
       "      <td>250224.902655</td>\n",
       "      <td>32425.564384</td>\n",
       "      <td>150451.764811</td>\n",
       "      <td>70.383044</td>\n",
       "      <td>2.065581e+02</td>\n",
       "      <td>63.489246</td>\n",
       "      <td>9.869688</td>\n",
       "      <td>4.527715</td>\n",
       "      <td>1.129746</td>\n",
       "      <td>9.864654</td>\n",
       "      <td>...</td>\n",
       "      <td>1.824198</td>\n",
       "      <td>338.898801</td>\n",
       "      <td>-17525.159383</td>\n",
       "      <td>7.060447</td>\n",
       "      <td>514.528699</td>\n",
       "      <td>1.0</td>\n",
       "      <td>22.819280</td>\n",
       "      <td>169.548209</td>\n",
       "      <td>1.0</td>\n",
       "      <td>255.206777</td>\n",
       "    </tr>\n",
       "    <tr>\n",
       "      <th>std</th>\n",
       "      <td>28687.746902</td>\n",
       "      <td>27730.735504</td>\n",
       "      <td>28683.165908</td>\n",
       "      <td>44.717949</td>\n",
       "      <td>1.983471e+04</td>\n",
       "      <td>12.995944</td>\n",
       "      <td>7.701741</td>\n",
       "      <td>2.633949</td>\n",
       "      <td>0.897729</td>\n",
       "      <td>3.513073</td>\n",
       "      <td>...</td>\n",
       "      <td>16.028229</td>\n",
       "      <td>760.074027</td>\n",
       "      <td>38907.843496</td>\n",
       "      <td>3.406799</td>\n",
       "      <td>951.153481</td>\n",
       "      <td>0.0</td>\n",
       "      <td>6.589565</td>\n",
       "      <td>12.546390</td>\n",
       "      <td>0.0</td>\n",
       "      <td>242.078338</td>\n",
       "    </tr>\n",
       "    <tr>\n",
       "      <th>min</th>\n",
       "      <td>200003.000000</td>\n",
       "      <td>3.000000</td>\n",
       "      <td>100011.000000</td>\n",
       "      <td>18.057966</td>\n",
       "      <td>7.400000e+00</td>\n",
       "      <td>-1.228000</td>\n",
       "      <td>-10.000000</td>\n",
       "      <td>0.000000</td>\n",
       "      <td>0.000000</td>\n",
       "      <td>3.000000</td>\n",
       "      <td>...</td>\n",
       "      <td>0.001000</td>\n",
       "      <td>0.000000</td>\n",
       "      <td>-800783.548943</td>\n",
       "      <td>-9.500000</td>\n",
       "      <td>0.000000</td>\n",
       "      <td>1.0</td>\n",
       "      <td>0.000000</td>\n",
       "      <td>101.600000</td>\n",
       "      <td>1.0</td>\n",
       "      <td>24.000000</td>\n",
       "    </tr>\n",
       "    <tr>\n",
       "      <th>25%</th>\n",
       "      <td>225540.000000</td>\n",
       "      <td>11167.000000</td>\n",
       "      <td>126101.000000</td>\n",
       "      <td>52.651860</td>\n",
       "      <td>7.000000e+01</td>\n",
       "      <td>54.245600</td>\n",
       "      <td>5.000000</td>\n",
       "      <td>3.000000</td>\n",
       "      <td>0.000000</td>\n",
       "      <td>8.000000</td>\n",
       "      <td>...</td>\n",
       "      <td>0.080000</td>\n",
       "      <td>54.312500</td>\n",
       "      <td>-19953.600000</td>\n",
       "      <td>5.000000</td>\n",
       "      <td>422.333333</td>\n",
       "      <td>1.0</td>\n",
       "      <td>18.000000</td>\n",
       "      <td>162.560000</td>\n",
       "      <td>1.0</td>\n",
       "      <td>90.416667</td>\n",
       "    </tr>\n",
       "    <tr>\n",
       "      <th>50%</th>\n",
       "      <td>250665.000000</td>\n",
       "      <td>23157.000000</td>\n",
       "      <td>150361.000000</td>\n",
       "      <td>65.846363</td>\n",
       "      <td>8.268333e+01</td>\n",
       "      <td>63.868400</td>\n",
       "      <td>9.000000</td>\n",
       "      <td>4.000000</td>\n",
       "      <td>1.000000</td>\n",
       "      <td>10.000000</td>\n",
       "      <td>...</td>\n",
       "      <td>0.220000</td>\n",
       "      <td>131.266666</td>\n",
       "      <td>-9244.696152</td>\n",
       "      <td>5.000000</td>\n",
       "      <td>500.000000</td>\n",
       "      <td>1.0</td>\n",
       "      <td>22.000000</td>\n",
       "      <td>170.180000</td>\n",
       "      <td>1.0</td>\n",
       "      <td>185.000000</td>\n",
       "    </tr>\n",
       "    <tr>\n",
       "      <th>75%</th>\n",
       "      <td>274935.000000</td>\n",
       "      <td>51195.000000</td>\n",
       "      <td>175341.000000</td>\n",
       "      <td>76.860741</td>\n",
       "      <td>9.816471e+01</td>\n",
       "      <td>73.114000</td>\n",
       "      <td>15.000000</td>\n",
       "      <td>6.000000</td>\n",
       "      <td>2.000000</td>\n",
       "      <td>11.000000</td>\n",
       "      <td>...</td>\n",
       "      <td>0.554545</td>\n",
       "      <td>320.000000</td>\n",
       "      <td>-3003.122667</td>\n",
       "      <td>8.000000</td>\n",
       "      <td>590.000000</td>\n",
       "      <td>1.0</td>\n",
       "      <td>26.799999</td>\n",
       "      <td>177.800000</td>\n",
       "      <td>1.0</td>\n",
       "      <td>330.000000</td>\n",
       "    </tr>\n",
       "    <tr>\n",
       "      <th>max</th>\n",
       "      <td>299994.000000</td>\n",
       "      <td>99985.000000</td>\n",
       "      <td>199994.000000</td>\n",
       "      <td>308.522711</td>\n",
       "      <td>3.295995e+06</td>\n",
       "      <td>316.266000</td>\n",
       "      <td>44.000000</td>\n",
       "      <td>21.000000</td>\n",
       "      <td>4.000000</td>\n",
       "      <td>15.000000</td>\n",
       "      <td>...</td>\n",
       "      <td>3569.999979</td>\n",
       "      <td>290133.333333</td>\n",
       "      <td>533921.338370</td>\n",
       "      <td>101.000000</td>\n",
       "      <td>541442.000000</td>\n",
       "      <td>1.0</td>\n",
       "      <td>77.000000</td>\n",
       "      <td>445.000000</td>\n",
       "      <td>1.0</td>\n",
       "      <td>1762.000000</td>\n",
       "    </tr>\n",
       "  </tbody>\n",
       "</table>\n",
       "<p>8 rows × 58 columns</p>\n",
       "</div>"
      ],
      "text/plain": [
       "          icustay_id     subject_id        hadm_id  admission_age  \\\n",
       "count  655511.000000  655511.000000  655511.000000  655511.000000   \n",
       "mean   250224.902655   32425.564384  150451.764811      70.383044   \n",
       "std     28687.746902   27730.735504   28683.165908      44.717949   \n",
       "min    200003.000000       3.000000  100011.000000      18.057966   \n",
       "25%    225540.000000   11167.000000  126101.000000      52.651860   \n",
       "50%    250665.000000   23157.000000  150361.000000      65.846363   \n",
       "75%    274935.000000   51195.000000  175341.000000      76.860741   \n",
       "max    299994.000000   99985.000000  199994.000000     308.522711   \n",
       "\n",
       "             weight      adult_ibw  elixhauser_vanwalraven           sofa  \\\n",
       "count  6.074500e+05  578222.000000           151920.000000  655511.000000   \n",
       "mean   2.065581e+02      63.489246                9.869688       4.527715   \n",
       "std    1.983471e+04      12.995944                7.701741       2.633949   \n",
       "min    7.400000e+00      -1.228000              -10.000000       0.000000   \n",
       "25%    7.000000e+01      54.245600                5.000000       3.000000   \n",
       "50%    8.268333e+01      63.868400                9.000000       4.000000   \n",
       "75%    9.816471e+01      73.114000               15.000000       6.000000   \n",
       "max    3.295995e+06     316.266000               44.000000      21.000000   \n",
       "\n",
       "                sirs            gcs  ...    vaso_total       iv_total  \\\n",
       "count  655511.000000  530701.000000  ...  74411.000000  563031.000000   \n",
       "mean        1.129746       9.864654  ...      1.824198     338.898801   \n",
       "std         0.897729       3.513073  ...     16.028229     760.074027   \n",
       "min         0.000000       3.000000  ...      0.001000       0.000000   \n",
       "25%         0.000000       8.000000  ...      0.080000      54.312500   \n",
       "50%         1.000000      10.000000  ...      0.220000     131.266666   \n",
       "75%         2.000000      11.000000  ...      0.554545     320.000000   \n",
       "max         4.000000      15.000000  ...   3569.999979  290133.333333   \n",
       "\n",
       "       cum_fluid_balance           peep   tidal_volume  volume_controlled  \\\n",
       "count      631969.000000  434476.000000  434165.000000           237904.0   \n",
       "mean       -17525.159383       7.060447     514.528699                1.0   \n",
       "std         38907.843496       3.406799     951.153481                0.0   \n",
       "min       -800783.548943      -9.500000       0.000000                1.0   \n",
       "25%        -19953.600000       5.000000     422.333333                1.0   \n",
       "50%         -9244.696152       5.000000     500.000000                1.0   \n",
       "75%         -3003.122667       8.000000     590.000000                1.0   \n",
       "max        533921.338370     101.000000  541442.000000                1.0   \n",
       "\n",
       "       plateau_pressure         height  vent_num  vent_duration_h  \n",
       "count     125054.000000  578222.000000  367756.0    367756.000000  \n",
       "mean          22.819280     169.548209       1.0       255.206777  \n",
       "std            6.589565      12.546390       0.0       242.078338  \n",
       "min            0.000000     101.600000       1.0        24.000000  \n",
       "25%           18.000000     162.560000       1.0        90.416667  \n",
       "50%           22.000000     170.180000       1.0       185.000000  \n",
       "75%           26.799999     177.800000       1.0       330.000000  \n",
       "max           77.000000     445.000000       1.0      1762.000000  \n",
       "\n",
       "[8 rows x 58 columns]"
      ]
     },
     "execution_count": 4,
     "metadata": {},
     "output_type": "execute_result"
    }
   ],
   "source": [
    "df.describe()"
   ]
  },
  {
   "cell_type": "code",
   "execution_count": 5,
   "metadata": {},
   "outputs": [
    {
     "data": {
      "text/plain": [
       "Index(['icustay_id', 'subject_id', 'hadm_id', 'intime', 'outtime',\n",
       "       'start_time', 'admission_age', 'gender', 'weight', 'adult_ibw',\n",
       "       'icu_readmission', 'elixhauser_vanwalraven', 'sofa', 'sirs', 'gcs',\n",
       "       'heartrate', 'sysbp', 'diasbp', 'meanbp', 'shockindex', 'resprate',\n",
       "       'tempc', 'spo2', 'potassium', 'sodium', 'chloride', 'glucose', 'bun',\n",
       "       'creatinine', 'magnesium', 'calcium', 'ionizedcalcium', 'carbondioxide',\n",
       "       'sgot', 'sgpt', 'bilirubin', 'albumin', 'hemoglobin', 'wbc', 'platelet',\n",
       "       'ptt', 'pt', 'inr', 'ph', 'pao2', 'paco2', 'base_excess', 'bicarbonate',\n",
       "       'lactate', 'pao2fio2ratio', 'mechvent', 'fio2', 'urineoutput',\n",
       "       'vaso_total', 'iv_total', 'cum_fluid_balance', 'peep', 'tidal_volume',\n",
       "       'volume_controlled', 'plateau_pressure', 'hospmort', 'mort90day',\n",
       "       'dischtime', 'deathtime', 'hadmittime', 'hdischtime', 'height',\n",
       "       'vent_num', 'vent_duration_h'],\n",
       "      dtype='object')"
      ]
     },
     "execution_count": 5,
     "metadata": {},
     "output_type": "execute_result"
    }
   ],
   "source": [
    "df.columns"
   ]
  },
  {
   "cell_type": "code",
   "execution_count": 6,
   "metadata": {},
   "outputs": [
    {
     "data": {
      "text/plain": [
       "(9355, 10597)"
      ]
     },
     "execution_count": 6,
     "metadata": {},
     "output_type": "execute_result"
    }
   ],
   "source": [
    "df.subject_id.nunique(), df.icustay_id.nunique()"
   ]
  },
  {
   "cell_type": "markdown",
   "metadata": {},
   "source": [
    "## Preprocessing phase 1\n",
    "Set some time stamps"
   ]
  },
  {
   "cell_type": "code",
   "execution_count": 7,
   "metadata": {},
   "outputs": [],
   "source": [
    "timestamps = [\n",
    "    'start_time',\n",
    "    'intime',\n",
    "    'outtime',\n",
    "]\n",
    "for col in timestamps:\n",
    "    df[col] = pd.to_datetime(df[col])\n",
    "\n",
    "df = df.sort_values(['icustay_id', 'start_time']).reset_index().drop(['index', ], axis=1)"
   ]
  },
  {
   "cell_type": "code",
   "execution_count": 8,
   "metadata": {
    "scrolled": true
   },
   "outputs": [],
   "source": [
    "def grouped_fill_between(df, colname, fill_value):\n",
    "    def my_fill_between(group, colname, fill_value):\n",
    "        group = group.sort_values('start_time')\n",
    "        from_i = group[colname].first_valid_index()\n",
    "        to_i = group[colname].last_valid_index()\n",
    "        return group.loc[from_i:to_i][colname].fillna(fill_value)\n",
    "    grouped = df.sort_values(['start_time', 'icustay_id']).groupby('icustay_id')\n",
    "    grouped_filled = grouped.apply(lambda x: my_fill_between(x, colname, fill_value))\n",
    "    return grouped_filled.reset_index().set_index('level_1')[colname]\n",
    "\n",
    "df['vent_num_imp'] = grouped_fill_between(df, 'vent_num', 1.0)\n",
    "df['vent_imp_step'] = df.groupby('icustay_id').vent_num_imp.cumsum()\n",
    "df['vent_shift'] = df.vent_num_imp.shift(-1)\n",
    "\n",
    "df['select_peine'] = (~df['vent_shift'].isna() | (df['vent_num_imp'] == 1.0 )) & (df['vent_imp_step'] <= 18.0)\n",
    "df['select_peine_step'] = df.groupby('icustay_id').select_peine.cumsum()\n",
    "df['select_peine_step_rev'] = df.sort_values(['icustay_id', 'start_time'], ascending=False).groupby('icustay_id').select_peine.cumsum()"
   ]
  },
  {
   "cell_type": "code",
   "execution_count": 9,
   "metadata": {},
   "outputs": [
    {
     "data": {
      "text/html": [
       "<div>\n",
       "<style scoped>\n",
       "    .dataframe tbody tr th:only-of-type {\n",
       "        vertical-align: middle;\n",
       "    }\n",
       "\n",
       "    .dataframe tbody tr th {\n",
       "        vertical-align: top;\n",
       "    }\n",
       "\n",
       "    .dataframe thead th {\n",
       "        text-align: right;\n",
       "    }\n",
       "</style>\n",
       "<table border=\"1\" class=\"dataframe\">\n",
       "  <thead>\n",
       "    <tr style=\"text-align: right;\">\n",
       "      <th></th>\n",
       "      <th>vent_num_imp</th>\n",
       "      <th>vent_num</th>\n",
       "      <th>select_peine</th>\n",
       "      <th>select_peine_step</th>\n",
       "      <th>select_peine_step_rev</th>\n",
       "      <th>start_time</th>\n",
       "      <th>icustay_id</th>\n",
       "    </tr>\n",
       "  </thead>\n",
       "  <tbody>\n",
       "    <tr>\n",
       "      <th>0</th>\n",
       "      <td>1.0</td>\n",
       "      <td>1.0</td>\n",
       "      <td>True</td>\n",
       "      <td>1</td>\n",
       "      <td>18</td>\n",
       "      <td>2199-08-02 17:40:00</td>\n",
       "      <td>200003</td>\n",
       "    </tr>\n",
       "    <tr>\n",
       "      <th>1</th>\n",
       "      <td>1.0</td>\n",
       "      <td>1.0</td>\n",
       "      <td>True</td>\n",
       "      <td>2</td>\n",
       "      <td>17</td>\n",
       "      <td>2199-08-02 21:40:00</td>\n",
       "      <td>200003</td>\n",
       "    </tr>\n",
       "    <tr>\n",
       "      <th>2</th>\n",
       "      <td>1.0</td>\n",
       "      <td>1.0</td>\n",
       "      <td>True</td>\n",
       "      <td>3</td>\n",
       "      <td>16</td>\n",
       "      <td>2199-08-03 01:40:00</td>\n",
       "      <td>200003</td>\n",
       "    </tr>\n",
       "    <tr>\n",
       "      <th>3</th>\n",
       "      <td>1.0</td>\n",
       "      <td>1.0</td>\n",
       "      <td>True</td>\n",
       "      <td>4</td>\n",
       "      <td>15</td>\n",
       "      <td>2199-08-03 05:40:00</td>\n",
       "      <td>200003</td>\n",
       "    </tr>\n",
       "    <tr>\n",
       "      <th>4</th>\n",
       "      <td>1.0</td>\n",
       "      <td>1.0</td>\n",
       "      <td>True</td>\n",
       "      <td>5</td>\n",
       "      <td>14</td>\n",
       "      <td>2199-08-03 09:40:00</td>\n",
       "      <td>200003</td>\n",
       "    </tr>\n",
       "    <tr>\n",
       "      <th>...</th>\n",
       "      <td>...</td>\n",
       "      <td>...</td>\n",
       "      <td>...</td>\n",
       "      <td>...</td>\n",
       "      <td>...</td>\n",
       "      <td>...</td>\n",
       "      <td>...</td>\n",
       "    </tr>\n",
       "    <tr>\n",
       "      <th>655506</th>\n",
       "      <td>NaN</td>\n",
       "      <td>NaN</td>\n",
       "      <td>False</td>\n",
       "      <td>18</td>\n",
       "      <td>0</td>\n",
       "      <td>2114-12-15 03:55:00</td>\n",
       "      <td>299994</td>\n",
       "    </tr>\n",
       "    <tr>\n",
       "      <th>655507</th>\n",
       "      <td>NaN</td>\n",
       "      <td>NaN</td>\n",
       "      <td>False</td>\n",
       "      <td>18</td>\n",
       "      <td>0</td>\n",
       "      <td>2114-12-15 07:55:00</td>\n",
       "      <td>299994</td>\n",
       "    </tr>\n",
       "    <tr>\n",
       "      <th>655508</th>\n",
       "      <td>NaN</td>\n",
       "      <td>NaN</td>\n",
       "      <td>False</td>\n",
       "      <td>18</td>\n",
       "      <td>0</td>\n",
       "      <td>2114-12-15 11:55:00</td>\n",
       "      <td>299994</td>\n",
       "    </tr>\n",
       "    <tr>\n",
       "      <th>655509</th>\n",
       "      <td>NaN</td>\n",
       "      <td>NaN</td>\n",
       "      <td>False</td>\n",
       "      <td>18</td>\n",
       "      <td>0</td>\n",
       "      <td>2114-12-15 15:55:00</td>\n",
       "      <td>299994</td>\n",
       "    </tr>\n",
       "    <tr>\n",
       "      <th>655510</th>\n",
       "      <td>NaN</td>\n",
       "      <td>NaN</td>\n",
       "      <td>False</td>\n",
       "      <td>18</td>\n",
       "      <td>0</td>\n",
       "      <td>2114-12-15 19:55:00</td>\n",
       "      <td>299994</td>\n",
       "    </tr>\n",
       "  </tbody>\n",
       "</table>\n",
       "<p>655511 rows × 7 columns</p>\n",
       "</div>"
      ],
      "text/plain": [
       "        vent_num_imp  vent_num  select_peine  select_peine_step  \\\n",
       "0                1.0       1.0          True                  1   \n",
       "1                1.0       1.0          True                  2   \n",
       "2                1.0       1.0          True                  3   \n",
       "3                1.0       1.0          True                  4   \n",
       "4                1.0       1.0          True                  5   \n",
       "...              ...       ...           ...                ...   \n",
       "655506           NaN       NaN         False                 18   \n",
       "655507           NaN       NaN         False                 18   \n",
       "655508           NaN       NaN         False                 18   \n",
       "655509           NaN       NaN         False                 18   \n",
       "655510           NaN       NaN         False                 18   \n",
       "\n",
       "        select_peine_step_rev          start_time  icustay_id  \n",
       "0                          18 2199-08-02 17:40:00      200003  \n",
       "1                          17 2199-08-02 21:40:00      200003  \n",
       "2                          16 2199-08-03 01:40:00      200003  \n",
       "3                          15 2199-08-03 05:40:00      200003  \n",
       "4                          14 2199-08-03 09:40:00      200003  \n",
       "...                       ...                 ...         ...  \n",
       "655506                      0 2114-12-15 03:55:00      299994  \n",
       "655507                      0 2114-12-15 07:55:00      299994  \n",
       "655508                      0 2114-12-15 11:55:00      299994  \n",
       "655509                      0 2114-12-15 15:55:00      299994  \n",
       "655510                      0 2114-12-15 19:55:00      299994  \n",
       "\n",
       "[655511 rows x 7 columns]"
      ]
     },
     "execution_count": 9,
     "metadata": {},
     "output_type": "execute_result"
    }
   ],
   "source": [
    "df[['vent_num_imp', 'vent_num', 'select_peine', 'select_peine_step', 'select_peine_step_rev', 'start_time', 'icustay_id']]"
   ]
  },
  {
   "cell_type": "markdown",
   "metadata": {},
   "source": [
    "Add the admission time for each icustay as ``start_time_icustay``"
   ]
  },
  {
   "cell_type": "code",
   "execution_count": 10,
   "metadata": {},
   "outputs": [],
   "source": [
    "df = df.merge(df.groupby('icustay_id', as_index=False)['start_time'].min(), on='icustay_id', how='left').rename(\n",
    "    columns={'start_time_x': 'start_time', 'start_time_y': 'start_time_icustay'})"
   ]
  },
  {
   "cell_type": "markdown",
   "metadata": {},
   "source": [
    "Calculate length of stay at the ICU: LOS ICU and length of stay in hospital: LOS Hosp"
   ]
  },
  {
   "cell_type": "code",
   "execution_count": 11,
   "metadata": {},
   "outputs": [
    {
     "name": "stderr",
     "output_type": "stream",
     "text": [
      "/tmp/ipykernel_147866/3376525652.py:4: FutureWarning: In a future version, `df.iloc[:, i] = newvals` will attempt to set the values inplace instead of always setting a new array. To retain the old behavior, use either `df[df.columns[i]] = newvals` or, if columns are non-unique, `df.isetitem(i, newvals)`\n",
      "  df.loc[:, 'hadmittime'] = pd.to_datetime(df.hadmittime)\n",
      "/tmp/ipykernel_147866/3376525652.py:5: FutureWarning: In a future version, `df.iloc[:, i] = newvals` will attempt to set the values inplace instead of always setting a new array. To retain the old behavior, use either `df[df.columns[i]] = newvals` or, if columns are non-unique, `df.isetitem(i, newvals)`\n",
      "  df.loc[:, 'hdischtime'] = pd.to_datetime(df.hdischtime)\n"
     ]
    }
   ],
   "source": [
    "# length of stay at ICU\n",
    "df['los_icu'] = df.outtime - df.intime\n",
    "# length of stay at hospital, LOS\n",
    "df.loc[:, 'hadmittime'] = pd.to_datetime(df.hadmittime)\n",
    "df.loc[:, 'hdischtime'] = pd.to_datetime(df.hdischtime)\n",
    "df.loc[:, 'hadm_duration'] = df.hdischtime - df.hadmittime"
   ]
  },
  {
   "cell_type": "code",
   "execution_count": 12,
   "metadata": {},
   "outputs": [],
   "source": [
    "df.loc[:, 'mort'] = (df.mort90day == 't') | (df.hospmort == 't')"
   ]
  },
  {
   "cell_type": "code",
   "execution_count": 13,
   "metadata": {},
   "outputs": [
    {
     "data": {
      "text/plain": [
       "0.35642162876285743"
      ]
     },
     "execution_count": 13,
     "metadata": {},
     "output_type": "execute_result"
    }
   ],
   "source": [
    "df.groupby('icustay_id').first().mort.mean()"
   ]
  },
  {
   "cell_type": "code",
   "execution_count": 14,
   "metadata": {},
   "outputs": [
    {
     "data": {
      "text/plain": [
       "(0.3537793715202416, 0.26620741719354535)"
      ]
     },
     "execution_count": 14,
     "metadata": {},
     "output_type": "execute_result"
    }
   ],
   "source": [
    "(df.groupby('icustay_id').first().mort90day == 't').mean(), (df.groupby('icustay_id').first().hospmort == 't').mean()"
   ]
  },
  {
   "cell_type": "markdown",
   "metadata": {},
   "source": [
    "# Analyze missing values"
   ]
  },
  {
   "cell_type": "code",
   "execution_count": 15,
   "metadata": {},
   "outputs": [],
   "source": [
    "def print_missing_pct(dataframe, variables):\n",
    "    \"\"\"\n",
    "    Formatted print of the number of NaNs in `dataframe` for each variable in `variables`.\n",
    "    \"\"\"\n",
    "    ljust = max(map(len, variables))\n",
    "    for var in variables:\n",
    "        print('{} {}'.format(var.ljust(ljust), dataframe[var].isna().mean()))"
   ]
  },
  {
   "cell_type": "markdown",
   "metadata": {},
   "source": [
    "## Demographics\n",
    "Analyze the missing data per patient for demographics:\n",
    "* Age\n",
    "* Gender\n",
    "* Weight (upon admission)\n",
    "* ICU readmission\n",
    "* Premorbidity as calculated by exlixhauser vanWalraven score by previous hospital stay"
   ]
  },
  {
   "cell_type": "code",
   "execution_count": 16,
   "metadata": {},
   "outputs": [
    {
     "name": "stdout",
     "output_type": "stream",
     "text": [
      "admission_age          0.0\n",
      "adult_ibw              0.16844389921675945\n",
      "height                 0.16844389921675945\n",
      "weight                 0.14494668302349722\n",
      "icu_readmission        0.0\n",
      "elixhauser_vanwalraven 0.7719165801641974\n",
      "hospmort               0.0\n",
      "mort90day              0.0\n"
     ]
    }
   ],
   "source": [
    "# Note that demographics do not change over time, so we can take any value. We take the first.\n",
    "identifiers = ['icustay_id',]\n",
    "\n",
    "patients = df.drop_duplicates(identifiers, keep='first')\n",
    "print_missing_pct(patients, demographics)"
   ]
  },
  {
   "cell_type": "markdown",
   "metadata": {},
   "source": [
    "## Vital signs\n",
    "Analyze missing data across the entire dataset for vital signs. These can be composed of both lab and chart data:\n",
    "* SOFA: sequential organ failure, see [code](https://github.com/MIT-LCP/mimic-code/blob/master/concepts/severityscores/sofa.sql)\n",
    "* SIRS: systemic inflammatory response syndrome (SIRS) score, see [code](https://github.com/MIT-LCP/mimic-code/blob/master/concepts/severityscores/sirs.sql)\n",
    "* GCS: glascow coma score, see [code](https://github.com/MIT-LCP/mimic-code/blob/master/concepts/pivot/pivoted-gcs.sql)\n",
    "* HR: heartrate, averaged over period\n",
    "* SysBP: systolic blood pressure, averaged over period\n",
    "* MeanBP: mean arterial pressure, averaged over period\n",
    "* DiasBP: diastolic blood pressure, averaged over period\n",
    "* Shock Index: SysBP / HeartRate, averaged over period\n",
    "* RespRate: respiratory rate, averaged over period\n",
    "* SpO2: blood oxygenation saturation, averaged over period\n",
    "* TempC: temperature in Celsius, averaged over period"
   ]
  },
  {
   "cell_type": "code",
   "execution_count": 17,
   "metadata": {},
   "outputs": [
    {
     "name": "stdout",
     "output_type": "stream",
     "text": [
      "sofa       0.0\n",
      "sirs       0.0\n",
      "gcs        0.1904010764121426\n",
      "heartrate  0.014463525402319717\n",
      "sysbp      0.02505831328536058\n",
      "meanbp     0.01860075574628038\n",
      "diasbp     0.02509492594327174\n",
      "shockindex 0.0324220341077419\n",
      "resprate   0.01770374562745705\n",
      "spo2       0.022300159722720137\n",
      "tempc      0.09414792429112555\n"
     ]
    }
   ],
   "source": [
    "print_missing_pct(df, vital_sign_vars)"
   ]
  },
  {
   "cell_type": "markdown",
   "metadata": {},
   "source": [
    "## Lab measurements\n",
    "All are averaged over the time span\n",
    "* potassium\n",
    "* sodium\n",
    "* chloride\n",
    "* glucose\n",
    "* bun: blood urea nitrogen\n",
    "* creatinine\n",
    "* magnesium\n",
    "* calcium\n",
    "* ionizedcalcium\n",
    "* carbondioxide\n",
    "* bilirubin\n",
    "* albumin\n",
    "* hemoglobin\n",
    "* wbc: white blood cell count\n",
    "* platelet: platelets count\n",
    "* ptt: Partial Thromboplastin Time\n",
    "* pt: Prothrombin Time\n",
    "* inr: International Normalized Ratio\n",
    "* ph\n",
    "* pao2\n",
    "* paco2\n",
    "* base_ excess\n",
    "* bicarbonate\n",
    "* lactate\n",
    "* pao2fio2ratio"
   ]
  },
  {
   "cell_type": "code",
   "execution_count": 18,
   "metadata": {
    "scrolled": true
   },
   "outputs": [
    {
     "name": "stdout",
     "output_type": "stream",
     "text": [
      "potassium      0.9541823096790137\n",
      "sodium         0.9551327132572909\n",
      "chloride       0.9554149358286894\n",
      "glucose        0.9572211602856397\n",
      "bun            0.9547269229654423\n",
      "creatinine     0.9546292892110125\n",
      "magnesium      0.9591738353742347\n",
      "calcium        0.9635215885011845\n",
      "ionizedcalcium 0.8316138096843532\n",
      "carbondioxide  0.9404678182364598\n",
      "bilirubin      0.9840429832603877\n",
      "albumin        0.9886241420815212\n",
      "hemoglobin     0.9581074917125724\n",
      "wbc            0.9582112275766539\n",
      "platelet       0.956298216200796\n",
      "ptt            0.9627191610819651\n",
      "pt             0.962415581126785\n",
      "inr            0.962415581126785\n",
      "ph             0.9391741709902656\n",
      "pao2           0.9782612343652509\n",
      "paco2          0.9443746939410628\n",
      "base_excess    0.9454974821170049\n",
      "bicarbonate    0.955997687300442\n",
      "lactate        0.9629769752147561\n",
      "pao2fio2ratio  0.9829079908651418\n"
     ]
    }
   ],
   "source": [
    "print_missing_pct(df, lab_vars)"
   ]
  },
  {
   "cell_type": "code",
   "execution_count": 19,
   "metadata": {},
   "outputs": [
    {
     "name": "stdout",
     "output_type": "stream",
     "text": [
      "potassium      0.9541823096790137\n",
      "sodium         0.9551327132572909\n",
      "chloride       0.9554149358286894\n",
      "glucose        0.9572211602856397\n",
      "bun            0.9547269229654423\n",
      "creatinine     0.9546292892110125\n",
      "magnesium      0.9591738353742347\n",
      "calcium        0.9635215885011845\n",
      "ionizedcalcium 0.8316138096843532\n",
      "carbondioxide  0.9404678182364598\n",
      "bilirubin      0.9840429832603877\n",
      "albumin        0.9886241420815212\n",
      "hemoglobin     0.9581074917125724\n",
      "wbc            0.9582112275766539\n",
      "platelet       0.956298216200796\n",
      "ptt            0.9627191610819651\n",
      "pt             0.962415581126785\n",
      "inr            0.962415581126785\n",
      "ph             0.9391741709902656\n",
      "pao2           0.9782612343652509\n",
      "paco2          0.9443746939410628\n",
      "base_excess    0.9454974821170049\n",
      "bicarbonate    0.955997687300442\n",
      "lactate        0.9629769752147561\n",
      "pao2fio2ratio  0.9829079908651418\n"
     ]
    }
   ],
   "source": [
    "print_missing_pct(df, lab_vars)"
   ]
  },
  {
   "cell_type": "markdown",
   "metadata": {},
   "source": [
    "## Generic, non-ventilation-related treatment variables\n",
    "* iv_total\n",
    "* vaso_total\n",
    "* urineoutput\n",
    "* cum_fluid_balance: cumulated fluid balance since admission, incl. preadmission when available\n",
    "\n",
    "These can be 'missing' due to not being applied (e.g. vasopressors)"
   ]
  },
  {
   "cell_type": "code",
   "execution_count": 20,
   "metadata": {},
   "outputs": [
    {
     "name": "stdout",
     "output_type": "stream",
     "text": [
      "iv_total          0.14108077515098907\n",
      "vaso_total        0.8864839796738727\n",
      "urineoutput       0.14516461203549597\n",
      "cum_fluid_balance 0.035913966356018436\n"
     ]
    }
   ],
   "source": [
    "print_missing_pct(df, treatment_vars)"
   ]
  },
  {
   "cell_type": "markdown",
   "metadata": {},
   "source": [
    "## Ventilation settings\n",
    "* peep\n",
    "* fio2\n",
    "* tidal_volume\n",
    "* mechvent\n",
    "\n",
    "These can be 'missing' due to mechanical ventilation not being applied."
   ]
  },
  {
   "cell_type": "code",
   "execution_count": 21,
   "metadata": {},
   "outputs": [
    {
     "name": "stdout",
     "output_type": "stream",
     "text": [
      "peep         0.337194951724685\n",
      "fio2         0.2614570922532192\n",
      "tidal_volume 0.3376693907501171\n"
     ]
    }
   ],
   "source": [
    "print_missing_pct(df, vent_vars)"
   ]
  },
  {
   "cell_type": "markdown",
   "metadata": {},
   "source": [
    "## Guideline vars\n",
    "Some variables are in the guideline but were not in the original feature selection:\n",
    "* plateau_pressure"
   ]
  },
  {
   "cell_type": "code",
   "execution_count": 22,
   "metadata": {},
   "outputs": [
    {
     "name": "stdout",
     "output_type": "stream",
     "text": [
      "plateau_pressure 0.8092266948990939\n"
     ]
    }
   ],
   "source": [
    "print_missing_pct(df, guideline_vars)"
   ]
  },
  {
   "cell_type": "markdown",
   "metadata": {},
   "source": [
    "## Frequency analysis per variable\n",
    "We estimate whether a new observation/measurement is expected in the following way:\n",
    "* for every given observation, we calculate the time it took to observe.\n",
    "\n",
    "  Specifically, we calculate the time from the previous observation OR admission.\n",
    "* define a distribution of time it takes to do an observation (mean/avg?)\n",
    "* estimate the expectation of a new probability based on this"
   ]
  },
  {
   "cell_type": "code",
   "execution_count": 23,
   "metadata": {},
   "outputs": [],
   "source": [
    "def tukeys_fence(series, includena=True):\n",
    "    q1, q3 = series.quantile(.25), series.quantile(.75)\n",
    "    iqr = q3 - q1\n",
    "    lower_fence, upper_fence = q1 - 1.5 * iqr, q3 + 1.5 * iqr\n",
    "    valuefilter = (series > lower_fence) & (series < upper_fence)\n",
    "    if includena:\n",
    "        return valuefilter | series.isna()\n",
    "    else:\n",
    "        return valuefilter\n",
    "    \n",
    "\n",
    "def ceil_to_nearest_multiple(n, multiple=SAMPLE_TIME_H):\n",
    "    \"\"\"\n",
    "    Rounds `n` up to nearest `multiple`.\n",
    "    \"\"\"\n",
    "    return multiple * math.ceil(n / multiple)\n",
    "\n",
    "def get_poisson_cutoff(data, quantile=.99, label='Data', sample_time=SAMPLE_TIME_H, plot=False):\n",
    "    \"\"\"\n",
    "    Returns the value so that `quantile` % of the `data` lies below that value.\n",
    "    \"\"\"\n",
    "    data = data - 1\n",
    "    # the bins should be of integer width, because poisson is an integer distribution\n",
    "    bins = np.arange(np.nanmax(data)) - 0.5\n",
    "    entries, bin_edges = np.histogram(data, bins=bins, density=True)\n",
    "\n",
    "    # calculate bin centres\n",
    "    bin_middles = 0.5 * (bin_edges[1:] + bin_edges[:-1])\n",
    "\n",
    "    def fit_function(k, lamb):\n",
    "        '''poisson function, parameter lamb is the fit parameter'''\n",
    "        return poisson.pmf(k, lamb)\n",
    "\n",
    "    # fit with curve_fit\n",
    "    parameters, cov_matrix = curve_fit(fit_function, bin_middles, entries)\n",
    "    cdf = poisson.cdf(np.arange(np.nanmax(data)), *parameters)\n",
    "    cutoff = len(cdf[cdf < quantile])\n",
    "    \n",
    "    if plot:\n",
    "        plt.hist(data, bins=bins, density=True, label=label)\n",
    "        x_plot = np.arange(0, np.nanmax(data))\n",
    "        axs = plt.plot(\n",
    "            x_plot,\n",
    "            fit_function(x_plot, *parameters),\n",
    "            marker='o', linestyle='',\n",
    "            label='poisson fit'\n",
    "        )\n",
    "        ax = plt.gca()\n",
    "        plt.xlabel('x4 hours')\n",
    "        plt.title(\"{}@{}: {}, max={}\".format(label, quantile, cutoff*sample_time,np.nanmax(data)*sample_time))\n",
    "        plt.legend()\n",
    "        plt.vlines(cutoff, 0, max(entries)*1.1, colors=['black'])\n",
    "        plt.show()\n",
    "    \n",
    "    return cutoff\n",
    "\n",
    "def observation_durations(data, colname, groupby='icustay_id', sample_time=SAMPLE_TIME_H, scope_filter=None):\n",
    "    \"\"\"\n",
    "    Returns the duration from admission or the previous measurements for each measurement of `colname` in `data`, for admissions identified by the `groupby` column and sample frequency of `sample_time`.\n",
    "    \"\"\"\n",
    "    if scope_filter is None:\n",
    "        scope_filter = pd.Series([True,] * data.shape[0])\n",
    "    # initialize a copy of the `data` dataframe with some placeholder columns\n",
    "    temp_df = pd.DataFrame.from_dict({\n",
    "        'icustay_id': data.icustay_id,\n",
    "        'timestamp': data.start_time,\n",
    "        'timestamp_icustay': data.start_time_icustay,\n",
    "        colname: data[colname],\n",
    "        't_start': np.nan,\n",
    "        'ages': pd.NaT,\n",
    "    })\n",
    "    # first set icu admission times as start time\n",
    "    temp_df.loc[temp_df.timestamp == temp_df.timestamp_icustay, 't_start'] = temp_df[temp_df.timestamp == temp_df.timestamp_icustay].timestamp\n",
    "    # then add timings of observations of variable in `colname`\n",
    "    temp_df.loc[~temp_df[colname].isna(), 't_start'] = temp_df[~temp_df[colname].isna()].timestamp\n",
    "    # now forward fill per icustay\n",
    "    temp_df['t_start'] = temp_df.groupby(groupby)['t_start'].ffill()\n",
    "    # and shift back by 1 time step per icustay\n",
    "    temp_df['t_start'] = temp_df.groupby(groupby)['t_start'].shift()\n",
    "    # and calculate the time from [previous observation|admission] until this observation\n",
    "    temp_df.loc[~temp_df[colname].isna(), 'duration'] = pd.to_datetime(temp_df.timestamp) - pd.to_datetime(temp_df.t_start)\n",
    "    # set time of first measurement to zero\n",
    "    temp_df.loc[(temp_df['timestamp'] == temp_df['timestamp_icustay']) & ~temp_df[colname].isna()] = pd.Timedelta(0, 'hours')\n",
    "    # add the length of time window to duration\n",
    "    return temp_df[(~data[colname].isna() & scope_filter)]['duration'] + pd.Timedelta(sample_time, 'hours')\n",
    "\n",
    "def observation_durations_ventstart(data, colname, groupby='icustay_id', sample_time=SAMPLE_TIME_H, scope_filter=None):\n",
    "    \"\"\"\n",
    "    Returns the duration from admission or the previous measurements for each measurement of `colname` in `data`, for admissions identified by the `groupby` column and sample frequency of `sample_time`.\n",
    "    \"\"\"\n",
    "    if scope_filter is None:\n",
    "        scope_filter = pd.Series([True,] * data.shape[0])\n",
    "    # initialize a copy of the `data` dataframe with some placeholder columns\n",
    "    temp_df = pd.DataFrame.from_dict({\n",
    "        'icustay_id': data.icustay_id,\n",
    "        'timestamp': data.start_time,\n",
    "        'timestamp_icustay': data.start_time_icustay,\n",
    "        colname: data[colname],\n",
    "        't_start': np.nan,\n",
    "        'ages': pd.NaT,\n",
    "        'mechvent_start_peine': (data.mechvent_start_peine == 1.0).fillna(False),\n",
    "    })\n",
    "\n",
    "    # first add timings of observations of variable in `colname`\n",
    "    temp_df.loc[~temp_df[colname].isna(), 't_start'] = temp_df[~temp_df[colname].isna()].timestamp\n",
    "    # forward fill, first pass\n",
    "    temp_df.t_start.ffill()\n",
    "    # then set the ventilation start as start time, if it is still missing\n",
    "    temp_df.loc[temp_df.t_start.isna() & (temp_df.mechvent_start_peine), 't_start'] = temp_df[temp_df.t_start.isna() & (temp_df.mechvent_start_peine)].timestamp\n",
    "    # now forward fill per icustay\n",
    "    temp_df['t_start'] = temp_df.groupby(groupby)['t_start'].ffill()\n",
    "    # and shift back by 1 time step per icustay\n",
    "    temp_df['t_start'] = temp_df.groupby(groupby)['t_start'].shift()\n",
    "    # and calculate the time from [previous observation|admission] until this observation\n",
    "    temp_df.loc[~temp_df[colname].isna(), 'duration'] = pd.to_datetime(temp_df.timestamp) - pd.to_datetime(temp_df.t_start)\n",
    "    # set time of first measurement to zero\n",
    "    temp_df.loc[(temp_df.mechvent_start_peine) & ~temp_df[colname].isna()] = pd.Timedelta(0, 'hours')\n",
    "    # add the length of time window to duration\n",
    "    return temp_df[(~data[colname].isna() & scope_filter)]['duration'] + pd.Timedelta(sample_time, 'hours')\n",
    "\n",
    "def get_cutoff_duration(data, colname, groupby='icustay_id', quantile=.99, sample_time=SAMPLE_TIME_H, plot=False, scope_filter=None):\n",
    "    \"\"\"\n",
    "    Returns the duration so that `quantile` % of the `colname` measurements in `data` where obtained within that duration.\n",
    "    \"\"\"\n",
    "    # obtain durations\n",
    "#     durations = observation_durations(data, colname, groupby, scope_filter=scope_filter)\n",
    "    durations = observation_durations_ventstart(data, colname, groupby, scope_filter=scope_filter)\n",
    "    # convert to numpy array of hours\n",
    "    duration_hours = (durations.dt.components.days * 24 + durations.dt.components.hours).to_numpy()\n",
    "    # outlier removal using Tukey's fence\n",
    "    durations = durations[tukeys_fence(durations)]\n",
    "    return get_poisson_cutoff(duration_hours / sample_time, quantile, colname, plot=True) * sample_time"
   ]
  },
  {
   "cell_type": "markdown",
   "metadata": {},
   "source": [
    "# Demographics\n",
    "Some pre-selection demographics inspired by Table 1 in Peine et al."
   ]
  },
  {
   "cell_type": "code",
   "execution_count": 24,
   "metadata": {},
   "outputs": [],
   "source": [
    "# unique identifier columns\n",
    "identifiers = ['icustay_id', 'subject_id', 'hadm_id',]\n",
    "# columns with patient demographics information\n",
    "demographics = ['admission_age', 'adult_ibw', 'height', 'weight', 'icu_readmission', 'elixhauser_vanwalraven', 'hospmort', 'mort90day', 'vent_duration_h']\n",
    "patients = df.drop_duplicates(identifiers + demographics, keep='first')"
   ]
  },
  {
   "cell_type": "code",
   "execution_count": 25,
   "metadata": {},
   "outputs": [
    {
     "data": {
      "text/plain": [
       "10597"
      ]
     },
     "execution_count": 25,
     "metadata": {},
     "output_type": "execute_result"
    }
   ],
   "source": [
    "patients.icustay_id.nunique()"
   ]
  },
  {
   "cell_type": "code",
   "execution_count": 26,
   "metadata": {},
   "outputs": [
    {
     "data": {
      "image/png": "[encoded data removed]",
      "text/plain": [
       "<Figure size 5000x500 with 9 Axes>"
      ]
     },
     "metadata": {},
     "output_type": "display_data"
    }
   ],
   "source": [
    "n_cols = len(demographics)\n",
    "plt.subplots(1, len(demographics), figsize=(50,5))\n",
    "for i in range(n_cols):\n",
    "    plt.subplot(1, n_cols, i+1)\n",
    "    if is_numeric_dtype(patients[demographics[i]]):\n",
    "        sns.boxplot(data=patients, x='gender', y=demographics[i], orient='v')\n",
    "    else:\n",
    "        sns.countplot(data=patients, x=demographics[i], orient='v', hue='gender')"
   ]
  },
  {
   "cell_type": "markdown",
   "metadata": {},
   "source": [
    "## Mechvent events\n",
    "Create a single mechanical ventilation event per icustay.\n",
    "Peine et. al simply sample the first recorded mechvent event.\n",
    "- for each patient:\n",
    "   - count each consecutive mechvent using mechvent_start_peine\n",
    "   - assign this count label to each timestep at which mechvent_peine is true\n",
    "   - calculate timestep before and 18 (=72/4) timesteps after onset of mechanical ventilation\n",
    "   - filter by these calculated timesteps"
   ]
  },
  {
   "cell_type": "markdown",
   "metadata": {},
   "source": [
    "# Imputation\n",
    "Steps according to Peine et al.\n",
    "* Time-windowed sample-and-hold e.g. forward-fill.\n",
    "\n",
    "  Windows sizes were determined using a frequency analysis of the dataset, producing the frequency of production of a new datapoint (per variable)\n",
    "* K-nearest neighbor imputation with imputation and SVD\n",
    "* If >50% of missing data, discard (<1% of cohort)\n",
    "* Test correlation between data and probability distribution of missing values for each of the 44 features.\n",
    "  Here, GCS was associated with highest p-value of 0.08 -> hence distinguish missing-at-random from missing-completely-at-random and not-missed-at-random."
   ]
  },
  {
   "cell_type": "markdown",
   "metadata": {},
   "source": [
    "## Determine sample-and-hold window with frequency analysis"
   ]
  },
  {
   "cell_type": "code",
   "execution_count": 27,
   "metadata": {},
   "outputs": [],
   "source": [
    "# def ffill_window(df, var, plot, scope_filter):\n",
    "#     val = get_cutoff_duration(df, var, quantile=.99, plot=plot, scope_filter=scope_filter)\n",
    "#     if not plot:\n",
    "#         print('.', end='') # simple measure of progress\n",
    "#     return val\n",
    "\n",
    "all_var_types = [\n",
    "    vital_sign_vars,\n",
    "    lab_vars,\n",
    "    treatment_vars,\n",
    "    vent_vars,\n",
    "    guideline_vars,\n",
    "]\n",
    "all_vars = functools.reduce(operator.add, all_var_types)\n",
    "\n",
    "# # NOTE: embarrasingly parallel, can be sped up with e.g. joblib.Parallel\n",
    "# ffill_windows_statistical = {var: ffill_window(df, var, True, df['select_peine']) for var in all_vars}"
   ]
  },
  {
   "cell_type": "markdown",
   "metadata": {},
   "source": [
    "## Clinically informed sample-and-hold windows"
   ]
  },
  {
   "cell_type": "code",
   "execution_count": 28,
   "metadata": {},
   "outputs": [],
   "source": [
    "inf = None\n",
    "ffill_windows_clinical = {\n",
    "    'sofa': 24 / SAMPLE_TIME_H,\n",
    "    'sirs': 24 / SAMPLE_TIME_H,\n",
    "    'gcs': inf,\n",
    "    'heartrate': inf,\n",
    "    'sysbp': inf,\n",
    "    'meanbp': inf,\n",
    "    'diasbp': inf,\n",
    "    'shockindex': inf,\n",
    "    'resprate': inf,\n",
    "    'spo2': inf,\n",
    "    'tempc': inf,\n",
    "    'potassium': inf,\n",
    "    'sodium': inf,\n",
    "    'chloride': inf,\n",
    "    'glucose': inf,\n",
    "    'bun': inf,\n",
    "    'creatinine': inf,\n",
    "    'magnesium': inf,\n",
    "    'calcium': inf,\n",
    "    'ionizedcalcium': 8 / SAMPLE_TIME_H,\n",
    "    'carbondioxide': inf,\n",
    "    'bilirubin': inf,\n",
    "    'albumin': inf,\n",
    "    'hemoglobin': inf,\n",
    "    'wbc': inf,\n",
    "    'platelet': inf,\n",
    "    'ptt': inf,\n",
    "    'pt': inf,\n",
    "    'inr': inf,\n",
    "    'ph': inf,\n",
    "    'pao2': inf,\n",
    "    'paco2': inf,\n",
    "    'base_excess': inf,\n",
    "    'bicarbonate': inf,\n",
    "    'lactate': inf,\n",
    "    'pao2fio2ratio': inf,\n",
    "    'iv_total': 8 / SAMPLE_TIME_H,\n",
    "    'vaso_total': 24 / SAMPLE_TIME_H,\n",
    "    'urineoutput': 8 / SAMPLE_TIME_H,\n",
    "    'cum_fluid_balance': 8 / SAMPLE_TIME_H,\n",
    "    'peep': 8 / SAMPLE_TIME_H,\n",
    "    'fio2': 8 / SAMPLE_TIME_H,\n",
    "    'tidal_volume': 8 / SAMPLE_TIME_H,\n",
    "    'mechvent': 8 / SAMPLE_TIME_H,\n",
    "    'plateau_pressure': 8 / SAMPLE_TIME_H\n",
    "}"
   ]
  },
  {
   "cell_type": "markdown",
   "metadata": {},
   "source": [
    "## Impute by sample-and-hold"
   ]
  },
  {
   "cell_type": "code",
   "execution_count": 29,
   "metadata": {},
   "outputs": [],
   "source": [
    "for var in all_vars:\n",
    "    df[var + '_imp'] = df.groupby('icustay_id')[var].ffill(limit=ffill_windows_clinical[var])\n",
    "\n",
    "imputed_vars = list(map(lambda x: x + '_imp', all_vars))"
   ]
  },
  {
   "cell_type": "code",
   "execution_count": 30,
   "metadata": {
    "scrolled": false
   },
   "outputs": [
    {
     "name": "stdout",
     "output_type": "stream",
     "text": [
      "VARNAME          : MISSING  ORIGINAL  IMPUTED\n",
      "sofa             : 0.0000   0.0000    0.0000\n",
      "sirs             : 0.0000   0.0000    0.0000\n",
      "gcs              : 0.0146   0.1904    0.1758\n",
      "heartrate        : 0.0061   0.0145    0.0084\n",
      "sysbp            : 0.0063   0.0251    0.0187\n",
      "meanbp           : 0.0062   0.0186    0.0124\n",
      "diasbp           : 0.0064   0.0251    0.0187\n",
      "shockindex       : 0.0069   0.0324    0.0255\n",
      "resprate         : 0.0060   0.0177    0.0117\n",
      "spo2             : 0.0063   0.0223    0.0160\n",
      "tempc            : 0.0121   0.0941    0.0820\n",
      "potassium        : 0.0207   0.9542    0.9335\n",
      "sodium           : 0.0147   0.9551    0.9404\n",
      "chloride         : 0.0120   0.9554    0.9434\n",
      "glucose          : 0.0242   0.9572    0.9330\n",
      "bun              : 0.0082   0.9547    0.9466\n",
      "creatinine       : 0.0082   0.9546    0.9464\n",
      "magnesium        : 0.0308   0.9592    0.9283\n",
      "calcium          : 0.0824   0.9635    0.8812\n",
      "ionizedcalcium   : 0.6630   0.8316    0.1686\n",
      "carbondioxide    : 0.0763   0.9405    0.8642\n",
      "bilirubin        : 0.3940   0.9840    0.5900\n",
      "albumin          : 0.4771   0.9886    0.5115\n",
      "hemoglobin       : 0.0123   0.9581    0.9458\n",
      "wbc              : 0.0114   0.9582    0.9468\n",
      "platelet         : 0.0090   0.9563    0.9473\n",
      "ptt              : 0.0648   0.9627    0.8979\n",
      "pt               : 0.0608   0.9624    0.9016\n",
      "inr              : 0.0609   0.9624    0.9015\n",
      "ph               : 0.0685   0.9392    0.8707\n",
      "pao2             : 0.3731   0.9783    0.6052\n",
      "paco2            : 0.0997   0.9444    0.8446\n",
      "base_excess      : 0.1014   0.9455    0.8441\n",
      "bicarbonate      : 0.0123   0.9560    0.9437\n",
      "lactate          : 0.1944   0.9630    0.7685\n",
      "pao2fio2ratio    : 0.4845   0.9829    0.4984\n",
      "iv_total         : 0.0565   0.1411    0.0846\n",
      "vaso_total       : 0.7484   0.8865    0.1381\n",
      "urineoutput      : 0.1158   0.1452    0.0294\n",
      "cum_fluid_balance: 0.0237   0.0359    0.0122\n",
      "peep             : 0.2537   0.3372    0.0835\n",
      "fio2             : 0.1656   0.2615    0.0958\n",
      "tidal_volume     : 0.2542   0.3377    0.0835\n",
      "plateau_pressure : 0.7314   0.8092    0.0778\n"
     ]
    }
   ],
   "source": [
    "max_varname_len = max(map(len, all_vars))\n",
    "print(\"{}: {}  {}  {}\".format('VARNAME'.ljust(max_varname_len), 'MISSING', 'ORIGINAL', 'IMPUTED'))\n",
    "for var in all_vars:\n",
    "    missing = df[var].isna().sum() / df.shape[0]\n",
    "    missing_imp = df[var + '_imp'].isna().sum() / df.shape[0]\n",
    "    imputed = missing - missing_imp\n",
    "    print(\"{}: {:.4f}   {:.4f}    {:.4f}\".format(\n",
    "        var.ljust(max_varname_len),\n",
    "        missing_imp,\n",
    "        missing,\n",
    "        imputed))"
   ]
  },
  {
   "cell_type": "markdown",
   "metadata": {},
   "source": [
    "# Missing values selection"
   ]
  },
  {
   "cell_type": "code",
   "execution_count": 31,
   "metadata": {},
   "outputs": [
    {
     "name": "stdout",
     "output_type": "stream",
     "text": [
      "VARNAME          : MISSING  ORIGINAL  IMPUTED\n",
      "sofa             : 0.0000   0.0000    0.0000\n",
      "sirs             : 0.0000   0.0000    0.0000\n",
      "gcs              : 0.0557   0.2008    0.1451\n",
      "heartrate        : 0.0222   0.0255    0.0033\n",
      "sysbp            : 0.0232   0.0356    0.0124\n",
      "meanbp           : 0.0226   0.0274    0.0048\n",
      "diasbp           : 0.0233   0.0356    0.0123\n",
      "shockindex       : 0.0250   0.0400    0.0150\n",
      "resprate         : 0.0221   0.0268    0.0047\n",
      "spo2             : 0.0231   0.0324    0.0093\n",
      "tempc            : 0.0408   0.0996    0.0588\n",
      "potassium        : 0.0417   0.8185    0.7769\n",
      "sodium           : 0.0390   0.8223    0.7833\n",
      "chloride         : 0.0337   0.8234    0.7897\n",
      "glucose          : 0.0476   0.8306    0.7829\n",
      "bun              : 0.0256   0.8207    0.7950\n",
      "creatinine       : 0.0256   0.8203    0.7947\n",
      "magnesium        : 0.0702   0.8383    0.7681\n",
      "calcium          : 0.1125   0.8555    0.7430\n",
      "ionizedcalcium   : 0.5679   0.7618    0.1940\n",
      "carbondioxide    : 0.0972   0.7642    0.6670\n",
      "bilirubin        : 0.4235   0.9368    0.5133\n",
      "albumin          : 0.5136   0.9549    0.4413\n",
      "hemoglobin       : 0.0303   0.8341    0.8038\n",
      "wbc              : 0.0294   0.8345    0.8051\n",
      "platelet         : 0.0254   0.8269    0.8015\n",
      "ptt              : 0.0850   0.8523    0.7673\n",
      "pt               : 0.0798   0.8511    0.7714\n",
      "inr              : 0.0798   0.8511    0.7713\n",
      "ph               : 0.0886   0.7591    0.6705\n",
      "pao2             : 0.4576   0.9139    0.4563\n",
      "paco2            : 0.1266   0.7797    0.6530\n",
      "base_excess      : 0.1303   0.7841    0.6538\n",
      "bicarbonate      : 0.0343   0.8257    0.7914\n",
      "lactate          : 0.2127   0.8534    0.6406\n",
      "pao2fio2ratio    : 0.5573   0.9323    0.3750\n",
      "iv_total         : 0.0412   0.0887    0.0475\n",
      "vaso_total       : 0.6040   0.8003    0.1963\n",
      "urineoutput      : 0.0910   0.1106    0.0196\n",
      "cum_fluid_balance: 0.0549   0.0598    0.0049\n",
      "peep             : 0.1230   0.1849    0.0618\n",
      "fio2             : 0.1268   0.1851    0.0582\n",
      "tidal_volume     : 0.1229   0.1849    0.0620\n",
      "plateau_pressure : 0.6013   0.7059    0.1047\n"
     ]
    }
   ],
   "source": [
    "selection = df[df['select_peine']]\n",
    "\n",
    "max_varname_len = max(map(len, all_vars))\n",
    "print(\"{}: {}  {}  {}\".format('VARNAME'.ljust(max_varname_len), 'MISSING', 'ORIGINAL', 'IMPUTED'))\n",
    "for var in all_vars:\n",
    "    missing = selection[var].isna().sum() / selection.shape[0]\n",
    "    missing_imp = selection[var + '_imp'].isna().sum() / selection.shape[0]\n",
    "    imputed = missing - missing_imp\n",
    "    print(\"{}: {:.4f}   {:.4f}    {:.4f}\".format(\n",
    "        var.ljust(max_varname_len),\n",
    "        missing_imp,\n",
    "        missing,\n",
    "        imputed))"
   ]
  },
  {
   "cell_type": "markdown",
   "metadata": {},
   "source": [
    "# Outlier removal\n",
    "\"Outliers were sorted out with univariate statistical approaches (Tukey's range test) and frequency analysis (90% CI)\" according to Peine. Since Tukey's range test is a test for significantly different means between groups, they probably refer to Tukey's fences for outlier detection, which are defines 'non outlier' data as everything in the range ``[(first quartile - 1.5 IQR), (third quartile + 1.5 IQR)]``.\n"
   ]
  },
  {
   "cell_type": "code",
   "execution_count": 32,
   "metadata": {},
   "outputs": [
    {
     "name": "stderr",
     "output_type": "stream",
     "text": [
      "/tmp/ipykernel_147866/2904234047.py:5: SettingWithCopyWarning: \n",
      "A value is trying to be set on a copy of a slice from a DataFrame.\n",
      "Try using .loc[row_indexer,col_indexer] = value instead\n",
      "\n",
      "See the caveats in the documentation: https://pandas.pydata.org/pandas-docs/stable/user_guide/indexing.html#returning-a-view-versus-a-copy\n",
      "  selection.loc[:, var + '_in_tukeys_fence'] = tukeys_fence(selection[var])\n",
      "/tmp/ipykernel_147866/2904234047.py:5: SettingWithCopyWarning: \n",
      "A value is trying to be set on a copy of a slice from a DataFrame.\n",
      "Try using .loc[row_indexer,col_indexer] = value instead\n",
      "\n",
      "See the caveats in the documentation: https://pandas.pydata.org/pandas-docs/stable/user_guide/indexing.html#returning-a-view-versus-a-copy\n",
      "  selection.loc[:, var + '_in_tukeys_fence'] = tukeys_fence(selection[var])\n",
      "/tmp/ipykernel_147866/2904234047.py:5: SettingWithCopyWarning: \n",
      "A value is trying to be set on a copy of a slice from a DataFrame.\n",
      "Try using .loc[row_indexer,col_indexer] = value instead\n",
      "\n",
      "See the caveats in the documentation: https://pandas.pydata.org/pandas-docs/stable/user_guide/indexing.html#returning-a-view-versus-a-copy\n",
      "  selection.loc[:, var + '_in_tukeys_fence'] = tukeys_fence(selection[var])\n",
      "/tmp/ipykernel_147866/2904234047.py:5: SettingWithCopyWarning: \n",
      "A value is trying to be set on a copy of a slice from a DataFrame.\n",
      "Try using .loc[row_indexer,col_indexer] = value instead\n",
      "\n",
      "See the caveats in the documentation: https://pandas.pydata.org/pandas-docs/stable/user_guide/indexing.html#returning-a-view-versus-a-copy\n",
      "  selection.loc[:, var + '_in_tukeys_fence'] = tukeys_fence(selection[var])\n",
      "/tmp/ipykernel_147866/2904234047.py:5: SettingWithCopyWarning: \n",
      "A value is trying to be set on a copy of a slice from a DataFrame.\n",
      "Try using .loc[row_indexer,col_indexer] = value instead\n",
      "\n",
      "See the caveats in the documentation: https://pandas.pydata.org/pandas-docs/stable/user_guide/indexing.html#returning-a-view-versus-a-copy\n",
      "  selection.loc[:, var + '_in_tukeys_fence'] = tukeys_fence(selection[var])\n",
      "/tmp/ipykernel_147866/2904234047.py:5: SettingWithCopyWarning: \n",
      "A value is trying to be set on a copy of a slice from a DataFrame.\n",
      "Try using .loc[row_indexer,col_indexer] = value instead\n",
      "\n",
      "See the caveats in the documentation: https://pandas.pydata.org/pandas-docs/stable/user_guide/indexing.html#returning-a-view-versus-a-copy\n",
      "  selection.loc[:, var + '_in_tukeys_fence'] = tukeys_fence(selection[var])\n",
      "/tmp/ipykernel_147866/2904234047.py:5: SettingWithCopyWarning: \n",
      "A value is trying to be set on a copy of a slice from a DataFrame.\n",
      "Try using .loc[row_indexer,col_indexer] = value instead\n",
      "\n",
      "See the caveats in the documentation: https://pandas.pydata.org/pandas-docs/stable/user_guide/indexing.html#returning-a-view-versus-a-copy\n",
      "  selection.loc[:, var + '_in_tukeys_fence'] = tukeys_fence(selection[var])\n",
      "/tmp/ipykernel_147866/2904234047.py:5: SettingWithCopyWarning: \n",
      "A value is trying to be set on a copy of a slice from a DataFrame.\n",
      "Try using .loc[row_indexer,col_indexer] = value instead\n",
      "\n",
      "See the caveats in the documentation: https://pandas.pydata.org/pandas-docs/stable/user_guide/indexing.html#returning-a-view-versus-a-copy\n",
      "  selection.loc[:, var + '_in_tukeys_fence'] = tukeys_fence(selection[var])\n",
      "/tmp/ipykernel_147866/2904234047.py:5: SettingWithCopyWarning: \n",
      "A value is trying to be set on a copy of a slice from a DataFrame.\n",
      "Try using .loc[row_indexer,col_indexer] = value instead\n",
      "\n",
      "See the caveats in the documentation: https://pandas.pydata.org/pandas-docs/stable/user_guide/indexing.html#returning-a-view-versus-a-copy\n",
      "  selection.loc[:, var + '_in_tukeys_fence'] = tukeys_fence(selection[var])\n",
      "/tmp/ipykernel_147866/2904234047.py:5: SettingWithCopyWarning: \n",
      "A value is trying to be set on a copy of a slice from a DataFrame.\n",
      "Try using .loc[row_indexer,col_indexer] = value instead\n",
      "\n",
      "See the caveats in the documentation: https://pandas.pydata.org/pandas-docs/stable/user_guide/indexing.html#returning-a-view-versus-a-copy\n",
      "  selection.loc[:, var + '_in_tukeys_fence'] = tukeys_fence(selection[var])\n",
      "/tmp/ipykernel_147866/2904234047.py:5: SettingWithCopyWarning: \n",
      "A value is trying to be set on a copy of a slice from a DataFrame.\n",
      "Try using .loc[row_indexer,col_indexer] = value instead\n",
      "\n",
      "See the caveats in the documentation: https://pandas.pydata.org/pandas-docs/stable/user_guide/indexing.html#returning-a-view-versus-a-copy\n",
      "  selection.loc[:, var + '_in_tukeys_fence'] = tukeys_fence(selection[var])\n",
      "/tmp/ipykernel_147866/2904234047.py:5: SettingWithCopyWarning: \n",
      "A value is trying to be set on a copy of a slice from a DataFrame.\n",
      "Try using .loc[row_indexer,col_indexer] = value instead\n",
      "\n",
      "See the caveats in the documentation: https://pandas.pydata.org/pandas-docs/stable/user_guide/indexing.html#returning-a-view-versus-a-copy\n",
      "  selection.loc[:, var + '_in_tukeys_fence'] = tukeys_fence(selection[var])\n",
      "/tmp/ipykernel_147866/2904234047.py:5: SettingWithCopyWarning: \n",
      "A value is trying to be set on a copy of a slice from a DataFrame.\n",
      "Try using .loc[row_indexer,col_indexer] = value instead\n",
      "\n",
      "See the caveats in the documentation: https://pandas.pydata.org/pandas-docs/stable/user_guide/indexing.html#returning-a-view-versus-a-copy\n",
      "  selection.loc[:, var + '_in_tukeys_fence'] = tukeys_fence(selection[var])\n",
      "/tmp/ipykernel_147866/2904234047.py:5: SettingWithCopyWarning: \n",
      "A value is trying to be set on a copy of a slice from a DataFrame.\n",
      "Try using .loc[row_indexer,col_indexer] = value instead\n",
      "\n",
      "See the caveats in the documentation: https://pandas.pydata.org/pandas-docs/stable/user_guide/indexing.html#returning-a-view-versus-a-copy\n",
      "  selection.loc[:, var + '_in_tukeys_fence'] = tukeys_fence(selection[var])\n",
      "/tmp/ipykernel_147866/2904234047.py:5: SettingWithCopyWarning: \n",
      "A value is trying to be set on a copy of a slice from a DataFrame.\n",
      "Try using .loc[row_indexer,col_indexer] = value instead\n",
      "\n",
      "See the caveats in the documentation: https://pandas.pydata.org/pandas-docs/stable/user_guide/indexing.html#returning-a-view-versus-a-copy\n",
      "  selection.loc[:, var + '_in_tukeys_fence'] = tukeys_fence(selection[var])\n",
      "/tmp/ipykernel_147866/2904234047.py:5: SettingWithCopyWarning: \n",
      "A value is trying to be set on a copy of a slice from a DataFrame.\n",
      "Try using .loc[row_indexer,col_indexer] = value instead\n",
      "\n",
      "See the caveats in the documentation: https://pandas.pydata.org/pandas-docs/stable/user_guide/indexing.html#returning-a-view-versus-a-copy\n",
      "  selection.loc[:, var + '_in_tukeys_fence'] = tukeys_fence(selection[var])\n",
      "/tmp/ipykernel_147866/2904234047.py:5: SettingWithCopyWarning: \n",
      "A value is trying to be set on a copy of a slice from a DataFrame.\n",
      "Try using .loc[row_indexer,col_indexer] = value instead\n",
      "\n",
      "See the caveats in the documentation: https://pandas.pydata.org/pandas-docs/stable/user_guide/indexing.html#returning-a-view-versus-a-copy\n",
      "  selection.loc[:, var + '_in_tukeys_fence'] = tukeys_fence(selection[var])\n",
      "/tmp/ipykernel_147866/2904234047.py:5: SettingWithCopyWarning: \n",
      "A value is trying to be set on a copy of a slice from a DataFrame.\n",
      "Try using .loc[row_indexer,col_indexer] = value instead\n",
      "\n",
      "See the caveats in the documentation: https://pandas.pydata.org/pandas-docs/stable/user_guide/indexing.html#returning-a-view-versus-a-copy\n",
      "  selection.loc[:, var + '_in_tukeys_fence'] = tukeys_fence(selection[var])\n",
      "/tmp/ipykernel_147866/2904234047.py:5: SettingWithCopyWarning: \n",
      "A value is trying to be set on a copy of a slice from a DataFrame.\n",
      "Try using .loc[row_indexer,col_indexer] = value instead\n",
      "\n",
      "See the caveats in the documentation: https://pandas.pydata.org/pandas-docs/stable/user_guide/indexing.html#returning-a-view-versus-a-copy\n",
      "  selection.loc[:, var + '_in_tukeys_fence'] = tukeys_fence(selection[var])\n",
      "/tmp/ipykernel_147866/2904234047.py:5: SettingWithCopyWarning: \n",
      "A value is trying to be set on a copy of a slice from a DataFrame.\n",
      "Try using .loc[row_indexer,col_indexer] = value instead\n",
      "\n",
      "See the caveats in the documentation: https://pandas.pydata.org/pandas-docs/stable/user_guide/indexing.html#returning-a-view-versus-a-copy\n",
      "  selection.loc[:, var + '_in_tukeys_fence'] = tukeys_fence(selection[var])\n",
      "/tmp/ipykernel_147866/2904234047.py:5: SettingWithCopyWarning: \n",
      "A value is trying to be set on a copy of a slice from a DataFrame.\n",
      "Try using .loc[row_indexer,col_indexer] = value instead\n",
      "\n",
      "See the caveats in the documentation: https://pandas.pydata.org/pandas-docs/stable/user_guide/indexing.html#returning-a-view-versus-a-copy\n",
      "  selection.loc[:, var + '_in_tukeys_fence'] = tukeys_fence(selection[var])\n",
      "/tmp/ipykernel_147866/2904234047.py:5: SettingWithCopyWarning: \n",
      "A value is trying to be set on a copy of a slice from a DataFrame.\n",
      "Try using .loc[row_indexer,col_indexer] = value instead\n",
      "\n",
      "See the caveats in the documentation: https://pandas.pydata.org/pandas-docs/stable/user_guide/indexing.html#returning-a-view-versus-a-copy\n",
      "  selection.loc[:, var + '_in_tukeys_fence'] = tukeys_fence(selection[var])\n",
      "/tmp/ipykernel_147866/2904234047.py:5: SettingWithCopyWarning: \n",
      "A value is trying to be set on a copy of a slice from a DataFrame.\n",
      "Try using .loc[row_indexer,col_indexer] = value instead\n",
      "\n",
      "See the caveats in the documentation: https://pandas.pydata.org/pandas-docs/stable/user_guide/indexing.html#returning-a-view-versus-a-copy\n",
      "  selection.loc[:, var + '_in_tukeys_fence'] = tukeys_fence(selection[var])\n",
      "/tmp/ipykernel_147866/2904234047.py:5: SettingWithCopyWarning: \n",
      "A value is trying to be set on a copy of a slice from a DataFrame.\n",
      "Try using .loc[row_indexer,col_indexer] = value instead\n",
      "\n",
      "See the caveats in the documentation: https://pandas.pydata.org/pandas-docs/stable/user_guide/indexing.html#returning-a-view-versus-a-copy\n",
      "  selection.loc[:, var + '_in_tukeys_fence'] = tukeys_fence(selection[var])\n",
      "/tmp/ipykernel_147866/2904234047.py:5: SettingWithCopyWarning: \n",
      "A value is trying to be set on a copy of a slice from a DataFrame.\n",
      "Try using .loc[row_indexer,col_indexer] = value instead\n",
      "\n",
      "See the caveats in the documentation: https://pandas.pydata.org/pandas-docs/stable/user_guide/indexing.html#returning-a-view-versus-a-copy\n",
      "  selection.loc[:, var + '_in_tukeys_fence'] = tukeys_fence(selection[var])\n",
      "/tmp/ipykernel_147866/2904234047.py:5: SettingWithCopyWarning: \n",
      "A value is trying to be set on a copy of a slice from a DataFrame.\n",
      "Try using .loc[row_indexer,col_indexer] = value instead\n",
      "\n",
      "See the caveats in the documentation: https://pandas.pydata.org/pandas-docs/stable/user_guide/indexing.html#returning-a-view-versus-a-copy\n",
      "  selection.loc[:, var + '_in_tukeys_fence'] = tukeys_fence(selection[var])\n",
      "/tmp/ipykernel_147866/2904234047.py:5: SettingWithCopyWarning: \n",
      "A value is trying to be set on a copy of a slice from a DataFrame.\n",
      "Try using .loc[row_indexer,col_indexer] = value instead\n",
      "\n",
      "See the caveats in the documentation: https://pandas.pydata.org/pandas-docs/stable/user_guide/indexing.html#returning-a-view-versus-a-copy\n",
      "  selection.loc[:, var + '_in_tukeys_fence'] = tukeys_fence(selection[var])\n",
      "/tmp/ipykernel_147866/2904234047.py:5: SettingWithCopyWarning: \n",
      "A value is trying to be set on a copy of a slice from a DataFrame.\n",
      "Try using .loc[row_indexer,col_indexer] = value instead\n",
      "\n",
      "See the caveats in the documentation: https://pandas.pydata.org/pandas-docs/stable/user_guide/indexing.html#returning-a-view-versus-a-copy\n",
      "  selection.loc[:, var + '_in_tukeys_fence'] = tukeys_fence(selection[var])\n",
      "/tmp/ipykernel_147866/2904234047.py:5: SettingWithCopyWarning: \n",
      "A value is trying to be set on a copy of a slice from a DataFrame.\n",
      "Try using .loc[row_indexer,col_indexer] = value instead\n",
      "\n",
      "See the caveats in the documentation: https://pandas.pydata.org/pandas-docs/stable/user_guide/indexing.html#returning-a-view-versus-a-copy\n",
      "  selection.loc[:, var + '_in_tukeys_fence'] = tukeys_fence(selection[var])\n",
      "/tmp/ipykernel_147866/2904234047.py:5: SettingWithCopyWarning: \n",
      "A value is trying to be set on a copy of a slice from a DataFrame.\n",
      "Try using .loc[row_indexer,col_indexer] = value instead\n",
      "\n",
      "See the caveats in the documentation: https://pandas.pydata.org/pandas-docs/stable/user_guide/indexing.html#returning-a-view-versus-a-copy\n",
      "  selection.loc[:, var + '_in_tukeys_fence'] = tukeys_fence(selection[var])\n",
      "/tmp/ipykernel_147866/2904234047.py:5: SettingWithCopyWarning: \n",
      "A value is trying to be set on a copy of a slice from a DataFrame.\n",
      "Try using .loc[row_indexer,col_indexer] = value instead\n",
      "\n",
      "See the caveats in the documentation: https://pandas.pydata.org/pandas-docs/stable/user_guide/indexing.html#returning-a-view-versus-a-copy\n",
      "  selection.loc[:, var + '_in_tukeys_fence'] = tukeys_fence(selection[var])\n",
      "/tmp/ipykernel_147866/2904234047.py:5: SettingWithCopyWarning: \n",
      "A value is trying to be set on a copy of a slice from a DataFrame.\n",
      "Try using .loc[row_indexer,col_indexer] = value instead\n",
      "\n",
      "See the caveats in the documentation: https://pandas.pydata.org/pandas-docs/stable/user_guide/indexing.html#returning-a-view-versus-a-copy\n",
      "  selection.loc[:, var + '_in_tukeys_fence'] = tukeys_fence(selection[var])\n",
      "/tmp/ipykernel_147866/2904234047.py:5: SettingWithCopyWarning: \n",
      "A value is trying to be set on a copy of a slice from a DataFrame.\n",
      "Try using .loc[row_indexer,col_indexer] = value instead\n",
      "\n",
      "See the caveats in the documentation: https://pandas.pydata.org/pandas-docs/stable/user_guide/indexing.html#returning-a-view-versus-a-copy\n",
      "  selection.loc[:, var + '_in_tukeys_fence'] = tukeys_fence(selection[var])\n"
     ]
    },
    {
     "name": "stderr",
     "output_type": "stream",
     "text": [
      "/tmp/ipykernel_147866/2904234047.py:5: SettingWithCopyWarning: \n",
      "A value is trying to be set on a copy of a slice from a DataFrame.\n",
      "Try using .loc[row_indexer,col_indexer] = value instead\n",
      "\n",
      "See the caveats in the documentation: https://pandas.pydata.org/pandas-docs/stable/user_guide/indexing.html#returning-a-view-versus-a-copy\n",
      "  selection.loc[:, var + '_in_tukeys_fence'] = tukeys_fence(selection[var])\n",
      "/tmp/ipykernel_147866/2904234047.py:5: SettingWithCopyWarning: \n",
      "A value is trying to be set on a copy of a slice from a DataFrame.\n",
      "Try using .loc[row_indexer,col_indexer] = value instead\n",
      "\n",
      "See the caveats in the documentation: https://pandas.pydata.org/pandas-docs/stable/user_guide/indexing.html#returning-a-view-versus-a-copy\n",
      "  selection.loc[:, var + '_in_tukeys_fence'] = tukeys_fence(selection[var])\n",
      "/tmp/ipykernel_147866/2904234047.py:5: SettingWithCopyWarning: \n",
      "A value is trying to be set on a copy of a slice from a DataFrame.\n",
      "Try using .loc[row_indexer,col_indexer] = value instead\n",
      "\n",
      "See the caveats in the documentation: https://pandas.pydata.org/pandas-docs/stable/user_guide/indexing.html#returning-a-view-versus-a-copy\n",
      "  selection.loc[:, var + '_in_tukeys_fence'] = tukeys_fence(selection[var])\n",
      "/tmp/ipykernel_147866/2904234047.py:5: SettingWithCopyWarning: \n",
      "A value is trying to be set on a copy of a slice from a DataFrame.\n",
      "Try using .loc[row_indexer,col_indexer] = value instead\n",
      "\n",
      "See the caveats in the documentation: https://pandas.pydata.org/pandas-docs/stable/user_guide/indexing.html#returning-a-view-versus-a-copy\n",
      "  selection.loc[:, var + '_in_tukeys_fence'] = tukeys_fence(selection[var])\n",
      "/tmp/ipykernel_147866/2904234047.py:5: SettingWithCopyWarning: \n",
      "A value is trying to be set on a copy of a slice from a DataFrame.\n",
      "Try using .loc[row_indexer,col_indexer] = value instead\n",
      "\n",
      "See the caveats in the documentation: https://pandas.pydata.org/pandas-docs/stable/user_guide/indexing.html#returning-a-view-versus-a-copy\n",
      "  selection.loc[:, var + '_in_tukeys_fence'] = tukeys_fence(selection[var])\n",
      "/tmp/ipykernel_147866/2904234047.py:5: SettingWithCopyWarning: \n",
      "A value is trying to be set on a copy of a slice from a DataFrame.\n",
      "Try using .loc[row_indexer,col_indexer] = value instead\n",
      "\n",
      "See the caveats in the documentation: https://pandas.pydata.org/pandas-docs/stable/user_guide/indexing.html#returning-a-view-versus-a-copy\n",
      "  selection.loc[:, var + '_in_tukeys_fence'] = tukeys_fence(selection[var])\n",
      "/tmp/ipykernel_147866/2904234047.py:5: SettingWithCopyWarning: \n",
      "A value is trying to be set on a copy of a slice from a DataFrame.\n",
      "Try using .loc[row_indexer,col_indexer] = value instead\n",
      "\n",
      "See the caveats in the documentation: https://pandas.pydata.org/pandas-docs/stable/user_guide/indexing.html#returning-a-view-versus-a-copy\n",
      "  selection.loc[:, var + '_in_tukeys_fence'] = tukeys_fence(selection[var])\n",
      "/tmp/ipykernel_147866/2904234047.py:5: SettingWithCopyWarning: \n",
      "A value is trying to be set on a copy of a slice from a DataFrame.\n",
      "Try using .loc[row_indexer,col_indexer] = value instead\n",
      "\n",
      "See the caveats in the documentation: https://pandas.pydata.org/pandas-docs/stable/user_guide/indexing.html#returning-a-view-versus-a-copy\n",
      "  selection.loc[:, var + '_in_tukeys_fence'] = tukeys_fence(selection[var])\n",
      "/tmp/ipykernel_147866/2904234047.py:5: SettingWithCopyWarning: \n",
      "A value is trying to be set on a copy of a slice from a DataFrame.\n",
      "Try using .loc[row_indexer,col_indexer] = value instead\n",
      "\n",
      "See the caveats in the documentation: https://pandas.pydata.org/pandas-docs/stable/user_guide/indexing.html#returning-a-view-versus-a-copy\n",
      "  selection.loc[:, var + '_in_tukeys_fence'] = tukeys_fence(selection[var])\n",
      "/tmp/ipykernel_147866/2904234047.py:5: SettingWithCopyWarning: \n",
      "A value is trying to be set on a copy of a slice from a DataFrame.\n",
      "Try using .loc[row_indexer,col_indexer] = value instead\n",
      "\n",
      "See the caveats in the documentation: https://pandas.pydata.org/pandas-docs/stable/user_guide/indexing.html#returning-a-view-versus-a-copy\n",
      "  selection.loc[:, var + '_in_tukeys_fence'] = tukeys_fence(selection[var])\n",
      "/tmp/ipykernel_147866/2904234047.py:5: SettingWithCopyWarning: \n",
      "A value is trying to be set on a copy of a slice from a DataFrame.\n",
      "Try using .loc[row_indexer,col_indexer] = value instead\n",
      "\n",
      "See the caveats in the documentation: https://pandas.pydata.org/pandas-docs/stable/user_guide/indexing.html#returning-a-view-versus-a-copy\n",
      "  selection.loc[:, var + '_in_tukeys_fence'] = tukeys_fence(selection[var])\n"
     ]
    }
   ],
   "source": [
    "boolean_numeric_vars = {'mechvent'}\n",
    "tukeys_fences = []\n",
    "for var in all_vars:\n",
    "    if pd.api.types.is_numeric_dtype(selection[var]) and var not in boolean_numeric_vars:\n",
    "        selection.loc[:, var + '_in_tukeys_fence'] = tukeys_fence(selection[var])\n",
    "        tukeys_fences += [var + '_in_tukeys_fence',]\n",
    "        selection.loc[~selection[var + '_in_tukeys_fence'], var] = np.NaN\n",
    "        selection.loc[~selection[var + '_in_tukeys_fence'], var + '_imp'] = np.NaN"
   ]
  },
  {
   "cell_type": "code",
   "execution_count": 33,
   "metadata": {},
   "outputs": [],
   "source": [
    "# outlier removal for demographic data\n",
    "ranges = {\n",
    "    'weight': (25, 400),\n",
    "    'admission_age': (18, 150),\n",
    "    'adult_ibw': (25, 400),\n",
    "}\n",
    "for var in ranges:\n",
    "    lower, upper = ranges[var]\n",
    "    selection.loc[(selection[var] < lower) | (selection[var] > upper), var] = np.NaN"
   ]
  },
  {
   "cell_type": "markdown",
   "metadata": {},
   "source": [
    "Remove patients with too many missing values"
   ]
  },
  {
   "cell_type": "code",
   "execution_count": 34,
   "metadata": {},
   "outputs": [
    {
     "name": "stdout",
     "output_type": "stream",
     "text": [
      "Removing 20 / 165499 = 0.012084665164139965% patients due to >50% missing values\n",
      "Selection of 165218 timesteps for 10577 patients / mech vent events\n"
     ]
    }
   ],
   "source": [
    "to_remove = ((selection[imputed_vars + demographics].isnull().groupby(df.icustay_id).mean().mean(axis=1)) > .5)\n",
    "print(\"Removing {} / {} = {}% patients due to >50% missing values\".format(to_remove.sum(), selection.shape[0], 100*to_remove.sum()/selection.shape[0]))\n",
    "selection = selection[~selection.icustay_id.isin(to_remove[to_remove].index)]\n",
    "selected_patients = selection.drop_duplicates(subset='icustay_id', keep='first')\n",
    "\n",
    "print(\"Selection of {} timesteps for {} patients / mech vent events\".format(selection.shape[0], selected_patients.shape[0]))"
   ]
  },
  {
   "cell_type": "code",
   "execution_count": 35,
   "metadata": {},
   "outputs": [
    {
     "data": {
      "text/plain": [
       "0.011469694585335739"
      ]
     },
     "execution_count": 35,
     "metadata": {},
     "output_type": "execute_result"
    }
   ],
   "source": [
    "selection.mechvent.isna().sum() / selection.shape[0]"
   ]
  },
  {
   "cell_type": "markdown",
   "metadata": {},
   "source": [
    "# Train-test-validation split"
   ]
  },
  {
   "cell_type": "markdown",
   "metadata": {},
   "source": [
    "Train-test-validation split\n",
    "* Train: 60%\n",
    "* Test: 20%\n",
    "* Validation: 20%"
   ]
  },
  {
   "cell_type": "code",
   "execution_count": 36,
   "metadata": {},
   "outputs": [],
   "source": [
    "train, test, validation = .6, .2, .2\n",
    "assert (train + test + validation) == 1.0\n",
    "\n",
    "train_split = train / (train + test)\n",
    "test_split = test / (train + test)\n",
    "\n",
    "precision = 1e8\n",
    "assert (train_split + test_split) - 1.0 < precision\n",
    "assert (train_split * (train + test)) - train < precision\n",
    "assert (test_split * (train + test)) - test < precision\n",
    "\n",
    "train_and_test_patients, validation_patients = train_test_split(selected_patients, test_size=0.2)\n",
    "train_patients, test_patients = train_test_split(train_and_test_patients, test_size=test_split)\n",
    "\n",
    "precision = 1.5\n",
    "assert abs(train_patients.shape[0] - train * selected_patients.shape[0]) < precision\n",
    "assert abs(validation_patients.shape[0] - validation * selected_patients.shape[0]) < precision\n",
    "assert abs(test_patients.shape[0] - test * selected_patients.shape[0]) < precision\n",
    "\n",
    "train_df = selection[selection.icustay_id.isin(train_patients.icustay_id)].copy()\n",
    "test_df = selection[selection.icustay_id.isin(test_patients.icustay_id)].copy()\n",
    "val_df = selection[selection.icustay_id.isin(validation_patients.icustay_id)].copy()"
   ]
  },
  {
   "cell_type": "markdown",
   "metadata": {},
   "source": [
    "# Scale & center for imputation w/ kNN"
   ]
  },
  {
   "cell_type": "markdown",
   "metadata": {},
   "source": [
    "for k-means, data has to be scaled first.\n",
    "k-Means imputation"
   ]
  },
  {
   "cell_type": "code",
   "execution_count": 37,
   "metadata": {},
   "outputs": [
    {
     "data": {
      "text/plain": [
       "['scalers/train/demographics_std_scaler_12.bin']"
      ]
     },
     "execution_count": 37,
     "metadata": {},
     "output_type": "execute_result"
    }
   ],
   "source": [
    "# NOTE: mirror changes here in the unscaling logic in e.g. the Clustering & Analysis notebook\n",
    "numeric_scaler = StandardScaler\n",
    "\n",
    "df_stays = df.drop_duplicates(subset='icustay_id', keep='first')\n",
    "scalers = {}\n",
    "\n",
    "scaled_vars = []\n",
    "for var in all_vars:\n",
    "    if pd.api.types.is_numeric_dtype(selection[var]):\n",
    "        ffilled_varname = var + '_imp'\n",
    "        scaled_vars.append(ffilled_varname)\n",
    "\n",
    "all_var_scaler = numeric_scaler()\n",
    "scaled = all_var_scaler.fit_transform(train_df[scaled_vars])\n",
    "scaled_test = all_var_scaler.transform(test_df[scaled_vars])\n",
    "scaled_val = all_var_scaler.transform(val_df[scaled_vars])\n",
    "scaled_varnames = [var + '_scaled' for var in all_var_scaler.get_feature_names_out()]\n",
    "train_df[scaled_varnames] = scaled\n",
    "test_df[scaled_varnames] = scaled_test\n",
    "val_df[scaled_varnames] = scaled_val\n",
    "\n",
    "demographics_scaled_vars = []\n",
    "for var in demographics:\n",
    "    if pd.api.types.is_numeric_dtype(train_df[var]):\n",
    "        scaled_vars.append(var)\n",
    "        demographics_scaled_vars.append(var)\n",
    "        \n",
    "demographics_scaler = numeric_scaler()\n",
    "demographics_scaler.fit(df_stays[demographics_scaled_vars])\n",
    "demo_scaled_varnames = [var + '_scaled' for var in demographics_scaler.get_feature_names_out()]\n",
    "scaled = demographics_scaler.transform(train_df[demographics_scaled_vars])\n",
    "scaled_test = demographics_scaler.transform(test_df[demographics_scaled_vars])\n",
    "scaled_val = demographics_scaler.transform(val_df[demographics_scaled_vars])\n",
    "train_df[demo_scaled_varnames] = scaled\n",
    "test_df[demo_scaled_varnames] = scaled_test\n",
    "val_df[demo_scaled_varnames] = scaled_val\n",
    "\n",
    "joblib.dump(scaled_varnames, 'scalers/train/clinical_std_varnames_{}.bin'.format(seed), compress=True)\n",
    "joblib.dump(all_var_scaler, \"scalers/train/clinical_std_scaler_{}.bin\".format(seed), compress=True)\n",
    "joblib.dump(demo_scaled_varnames, 'scalers/train/demographics_std_varnames_{}.bin'.format(seed), compress=True)\n",
    "joblib.dump(demographics_scaler, \"scalers/train/demographics_std_scaler_{}.bin\".format(seed), compress=True)"
   ]
  },
  {
   "cell_type": "code",
   "execution_count": 38,
   "metadata": {},
   "outputs": [],
   "source": [
    "# Test that scaling did not impose any NAs\n",
    "assert train_df['tempc_imp'].isna().sum() == train_df['tempc_imp_scaled'].isna().sum()\n",
    "assert train_df['admission_age'].isna().sum() == train_df['admission_age_scaled'].isna().sum()\n",
    "\n",
    "assert test_df['tempc_imp'].isna().sum() == test_df['tempc_imp_scaled'].isna().sum()\n",
    "assert test_df['admission_age'].isna().sum() == test_df['admission_age_scaled'].isna().sum()"
   ]
  },
  {
   "cell_type": "code",
   "execution_count": 39,
   "metadata": {},
   "outputs": [],
   "source": [
    "vars_to_impute = scaled_varnames + demo_scaled_varnames\n",
    "knn_imputed_vars = list(map(lambda x: x + '_impknn', vars_to_impute))\n",
    "\n",
    "imputer = KNNImputer() # use default of n=5, weights='uniform', metric='nan_euclidean'\n",
    "imputed = imputer.fit_transform(train_df[vars_to_impute].to_numpy())\n",
    "imputed_test = imputer.transform(test_df[vars_to_impute].to_numpy())\n",
    "imputed_val = imputer.transform(val_df[vars_to_impute].to_numpy())"
   ]
  },
  {
   "cell_type": "code",
   "execution_count": 41,
   "metadata": {},
   "outputs": [],
   "source": [
    "train_df.loc[:, knn_imputed_vars] = imputed\n",
    "val_df.loc[:,knn_imputed_vars] = imputed_val\n",
    "test_df.loc[:, knn_imputed_vars] = imputed_test"
   ]
  },
  {
   "cell_type": "code",
   "execution_count": 42,
   "metadata": {},
   "outputs": [
    {
     "data": {
      "text/plain": [
       "['sofa_imp_scaled_impknn',\n",
       " 'sirs_imp_scaled_impknn',\n",
       " 'gcs_imp_scaled_impknn',\n",
       " 'heartrate_imp_scaled_impknn',\n",
       " 'sysbp_imp_scaled_impknn',\n",
       " 'meanbp_imp_scaled_impknn',\n",
       " 'diasbp_imp_scaled_impknn',\n",
       " 'shockindex_imp_scaled_impknn',\n",
       " 'resprate_imp_scaled_impknn',\n",
       " 'spo2_imp_scaled_impknn',\n",
       " 'tempc_imp_scaled_impknn',\n",
       " 'potassium_imp_scaled_impknn',\n",
       " 'sodium_imp_scaled_impknn',\n",
       " 'chloride_imp_scaled_impknn',\n",
       " 'glucose_imp_scaled_impknn',\n",
       " 'bun_imp_scaled_impknn',\n",
       " 'creatinine_imp_scaled_impknn',\n",
       " 'magnesium_imp_scaled_impknn',\n",
       " 'calcium_imp_scaled_impknn',\n",
       " 'ionizedcalcium_imp_scaled_impknn',\n",
       " 'carbondioxide_imp_scaled_impknn',\n",
       " 'bilirubin_imp_scaled_impknn',\n",
       " 'albumin_imp_scaled_impknn',\n",
       " 'hemoglobin_imp_scaled_impknn',\n",
       " 'wbc_imp_scaled_impknn',\n",
       " 'platelet_imp_scaled_impknn',\n",
       " 'ptt_imp_scaled_impknn',\n",
       " 'pt_imp_scaled_impknn',\n",
       " 'inr_imp_scaled_impknn',\n",
       " 'ph_imp_scaled_impknn',\n",
       " 'pao2_imp_scaled_impknn',\n",
       " 'paco2_imp_scaled_impknn',\n",
       " 'base_excess_imp_scaled_impknn',\n",
       " 'bicarbonate_imp_scaled_impknn',\n",
       " 'lactate_imp_scaled_impknn',\n",
       " 'pao2fio2ratio_imp_scaled_impknn',\n",
       " 'iv_total_imp_scaled_impknn',\n",
       " 'vaso_total_imp_scaled_impknn',\n",
       " 'urineoutput_imp_scaled_impknn',\n",
       " 'cum_fluid_balance_imp_scaled_impknn',\n",
       " 'peep_imp_scaled_impknn',\n",
       " 'fio2_imp_scaled_impknn',\n",
       " 'tidal_volume_imp_scaled_impknn',\n",
       " 'plateau_pressure_imp_scaled_impknn',\n",
       " 'admission_age_scaled_impknn',\n",
       " 'adult_ibw_scaled_impknn',\n",
       " 'height_scaled_impknn',\n",
       " 'weight_scaled_impknn',\n",
       " 'elixhauser_vanwalraven_scaled_impknn',\n",
       " 'vent_duration_h_scaled_impknn']"
      ]
     },
     "execution_count": 42,
     "metadata": {},
     "output_type": "execute_result"
    }
   ],
   "source": [
    "knn_imputed_vars"
   ]
  },
  {
   "cell_type": "code",
   "execution_count": 43,
   "metadata": {},
   "outputs": [],
   "source": [
    "# Test that scaling did not impose any NAs\n",
    "assert train_df['tempc_imp'].isna().sum() > train_df['tempc_imp_scaled_impknn'].isna().sum()\n",
    "assert train_df['admission_age'].isna().sum() > train_df['admission_age_scaled_impknn'].isna().sum()\n",
    "\n",
    "assert test_df['tempc_imp'].isna().sum() > test_df['tempc_imp_scaled_impknn'].isna().sum()\n",
    "assert test_df['admission_age'].isna().sum() > test_df['admission_age_scaled_impknn'].isna().sum()\n",
    "\n",
    "assert val_df['tempc_imp'].isna().sum() > val_df['tempc_imp_scaled_impknn'].isna().sum()\n",
    "assert val_df['admission_age'].isna().sum() > val_df['admission_age_scaled_impknn'].isna().sum()\n",
    "\n"
   ]
  },
  {
   "cell_type": "code",
   "execution_count": 44,
   "metadata": {},
   "outputs": [
    {
     "data": {
      "text/plain": [
       "['scalers/train/knn_imputer_12.bin']"
      ]
     },
     "execution_count": 44,
     "metadata": {},
     "output_type": "execute_result"
    }
   ],
   "source": [
    "joblib.dump(imputer, \"scalers/train/knn_imputer_{}.bin\".format(seed), compress=True)"
   ]
  },
  {
   "cell_type": "code",
   "execution_count": 45,
   "metadata": {},
   "outputs": [],
   "source": [
    "def adult_ibw(row):\n",
    "    if row.gender == 'M':\n",
    "        return 50 + 0.91 * (row.height - 152.4)\n",
    "    elif row.gender == 'F':\n",
    "        return 45 + 0.91 * (row.height - 152.4)\n",
    "    else:\n",
    "        return np.NaN\n",
    "\n",
    "\n",
    "for df_name, df in (('train', train_df), ('test', test_df), ('validation', val_df)):\n",
    "    df['adult_ibw_imp_knn'] = df.apply(adult_ibw, axis=1)"
   ]
  },
  {
   "cell_type": "code",
   "execution_count": 46,
   "metadata": {},
   "outputs": [],
   "source": [
    "for df_name, df in (('train', train_df), ('test', test_df), ('validation', val_df)):\n",
    "    df = df[~df['adult_ibw_imp_knn'].isna()]\n",
    "    if df_name == 'train':\n",
    "        df.to_csv('./data/{}_imputed_{}.csv'.format(df_name, seed))\n",
    "    else:\n",
    "        df.to_csv('./data/{}_ffilled_{}.csv'.format(df_name, seed))"
   ]
  },
  {
   "cell_type": "code",
   "execution_count": 47,
   "metadata": {},
   "outputs": [
    {
     "data": {
      "text/plain": [
       "(83406, 27822, 28000)"
      ]
     },
     "execution_count": 47,
     "metadata": {},
     "output_type": "execute_result"
    }
   ],
   "source": [
    "train_df_l = pd.read_csv('./data/train_imputed_{}.csv'.format(seed))\n",
    "test_df_l = pd.read_csv('./data/test_ffilled_{}.csv'.format(seed))\n",
    "val_df_l = pd.read_csv('./data/validation_ffilled_{}.csv'.format(seed))\n",
    "\n",
    "train_df_l.shape[0], test_df_l.shape[0], val_df_l.shape[0]"
   ]
  },
  {
   "cell_type": "code",
   "execution_count": 48,
   "metadata": {},
   "outputs": [],
   "source": [
    "selection = pd.concat([train_df_l, test_df_l, val_df_l])\n",
    "selection['los_icu'] = pd.to_timedelta(selection['los_icu'])\n",
    "selection['hadm_duration'] = pd.to_timedelta(selection['hadm_duration'])\n",
    "selected_patients = selection.drop_duplicates(subset='icustay_id', keep='first')"
   ]
  },
  {
   "cell_type": "markdown",
   "metadata": {},
   "source": [
    "# Population demographics"
   ]
  },
  {
   "cell_type": "code",
   "execution_count": 49,
   "metadata": {},
   "outputs": [
    {
     "name": "stdout",
     "output_type": "stream",
     "text": [
      "Included patients              Unnamed: 0                              139228\n",
      "icustay_id                                8799\n",
      "subject_id                                7659\n",
      "hadm_id                                   8553\n",
      "intime                                    8799\n",
      "                                         ...  \n",
      "height_scaled_impknn                       310\n",
      "weight_scaled_impknn                     21809\n",
      "elixhauser_vanwalraven_scaled_impknn       502\n",
      "vent_duration_h_scaled_impknn             3941\n",
      "adult_ibw_imp_knn                          389\n",
      "Length: 269, dtype: int64\n",
      "Included stays                 8799\n",
      "Age, years median (q1-q3)      65.67 +- (53.19-76.44)\n",
      "Adm. Weight mean ±std          86.24 ±24.89\n",
      "Pred. IBW mean ±std            63.38 ±12.93\n",
      "Female                         3813 (43.33%)\n",
      "Male                           4986 (56.67%)\n",
      "90-day mortality               34.50%\n",
      "hosp mortality                 25.73%\n",
      "LOS ICU median (q1-q3)         7.58 (4.29-13.58)\n",
      "LOS hosp median (q1-q3)        14.62 (8.58-13.58)\n",
      "PEEP cmH2O mean ±std           6.4 ±2.18\n",
      "FiO2, % mean ±std              45.58 ±7.41\n",
      "Vt, mL/kg (PIBW) mean ±std     8.40 ±7.19\n",
      "SOFA points @ adm. mean ±std   4.20 ±3.32\n"
     ]
    }
   ],
   "source": [
    "print(\"{:<30} {}\".format(\"Included patients\", selection.nunique()))\n",
    "print(\"{:<30} {}\".format(\"Included stays\", selection.icustay_id.nunique()))\n",
    "print(\"{:<30} {:.2f} +- ({:.2f}-{:.2f})\".format(\n",
    "    \"Age, years median (q1-q3)\",\n",
    "    selected_patients.admission_age.median(),\n",
    "    selected_patients.admission_age.quantile(.25),\n",
    "    selected_patients.admission_age.quantile(.75)\n",
    "))\n",
    "print(\"{:<30} {:.2f} ±{:.2f}\".format(\n",
    "    \"Adm. Weight mean ±std\",\n",
    "    selected_patients.weight.mean(),\n",
    "    selected_patients.weight.std()\n",
    "))\n",
    "print(\"{:<30} {:.2f} ±{:.2f}\".format(\n",
    "    \"Pred. IBW mean ±std\",\n",
    "    selected_patients.adult_ibw.mean(),\n",
    "    selected_patients.adult_ibw.std()\n",
    "))\n",
    "gender_counts = selected_patients.gender.value_counts\n",
    "print(\"{:<30} {} ({:.2f}%)\".format(\"Female\", (selected_patients.gender == 'F').sum(), 100*(selected_patients.gender == 'F').sum() / selected_patients.shape[0]))\n",
    "print(\"{:<30} {} ({:.2f}%)\".format(\"Male\", (selected_patients.gender == 'M').sum(), 100*(selected_patients.gender == 'M').sum() / selected_patients.shape[0]))\n",
    "print(\"{:<30} {:.2f}%\".format(\"90-day mortality\", (selected_patients.mort90day == 't').sum() / selected_patients.shape[0] / 0.01))\n",
    "print(\"{:<30} {:.2f}%\".format(\"hosp mortality\", (selected_patients.hospmort == 't').sum() / selected_patients.shape[0] / 0.01))\n",
    "los_icu_median_days = selected_patients.los_icu.median().components.days + selected_patients.los_icu.median().components.hours / 24\n",
    "los_icu_q1_days =  selected_patients.los_icu.quantile(.25).components.days + selected_patients.los_icu.quantile(.25).components.hours / 24\n",
    "los_icu_q3_days =  selected_patients.los_icu.quantile(.75).components.days + selected_patients.los_icu.quantile(.75).components.hours / 24\n",
    "print(\"{:<30} {:.2f} ({:.2f}-{:.2f})\".format(\n",
    "    \"LOS ICU median (q1-q3)\",\n",
    "    los_icu_median_days,\n",
    "    los_icu_q1_days,\n",
    "    los_icu_q3_days\n",
    "))\n",
    "los_hosp_median_days = selected_patients.hadm_duration.median().components.days + selected_patients.hadm_duration.median().components.hours / 24\n",
    "los_hosp_q1_days =  selected_patients.hadm_duration.quantile(.25).components.days + selected_patients.hadm_duration.quantile(.25).components.hours / 24\n",
    "los_hosp_q3_days =  selected_patients.hadm_duration.quantile(.75).components.days + selected_patients.hadm_duration.quantile(.75).components.hours / 24\n",
    "print(\"{:<30} {:.2f} ({:.2f}-{:.2f})\".format(\"LOS hosp median (q1-q3)\", los_hosp_median_days, los_hosp_q1_days, los_icu_q3_days))\n",
    "print(\"{:<30} {:.1f} ±{:.2f}\".format(\"PEEP cmH2O mean ±std\", selection.peep.mean(), selection.peep.std()))\n",
    "print(\"{:<30} {:.2f} ±{:.2f}\".format(\"FiO2, % mean ±std\", selection.fio2.mean(), selection.fio2.std()))\n",
    "selection['vt_mlkg'] = selection.tidal_volume / selection.adult_ibw_imp_knn\n",
    "print(\"{:<30} {:.2f} ±{:.2f}\".format(\"Vt, mL/kg (PIBW) mean ±std\", selection['vt_mlkg'].mean(), selection['vt_mlkg'].std()))\n",
    "print(\"{:<30} {:.2f} ±{:.2f}\".format(\n",
    "    \"SOFA points @ adm. mean ±std\",\n",
    "    selected_patients.sofa.mean(),\n",
    "    selected_patients.sofa.std()\n",
    "))"
   ]
  },
  {
   "cell_type": "code",
   "execution_count": 50,
   "metadata": {},
   "outputs": [
    {
     "data": {
      "text/plain": [
       "(139228, 15.823161722923059)"
      ]
     },
     "execution_count": 50,
     "metadata": {},
     "output_type": "execute_result"
    }
   ],
   "source": [
    "# 35,556 decision time instances according to peine et al, Table 2a Supplementary material.\n",
    "selection.shape[0], selection.shape[0] / selected_patients.shape[0]"
   ]
  },
  {
   "cell_type": "code",
   "execution_count": 51,
   "metadata": {},
   "outputs": [
    {
     "data": {
      "text/plain": [
       "3.107227125753736"
      ]
     },
     "execution_count": 51,
     "metadata": {},
     "output_type": "execute_result"
    }
   ],
   "source": [
    "# paper reports inclusion of 35,556 decision time instances for MIMIC-III, this gives an average trajectory length of\n",
    "35556 / 11443"
   ]
  },
  {
   "cell_type": "code",
   "execution_count": 56,
   "metadata": {},
   "outputs": [
    {
     "data": {
      "text/plain": [
       "count    6278.000000\n",
       "mean       27.469698\n",
       "std        16.014026\n",
       "min         2.000000\n",
       "25%        15.000000\n",
       "50%        23.000000\n",
       "75%        36.000000\n",
       "max        74.000000\n",
       "Name: bun, dtype: float64"
      ]
     },
     "execution_count": 56,
     "metadata": {},
     "output_type": "execute_result"
    }
   ],
   "source": [
    "selected_patients."
   ]
  },
  {
   "cell_type": "code",
   "execution_count": 58,
   "metadata": {},
   "outputs": [],
   "source": [
    "import safety"
   ]
  },
  {
   "cell_type": "code",
   "execution_count": 63,
   "metadata": {},
   "outputs": [
    {
     "data": {
      "text/plain": [
       "count    1629.000000\n",
       "mean        0.338545\n",
       "std         0.337591\n",
       "min         0.006000\n",
       "25%         0.100000\n",
       "50%         0.204743\n",
       "75%         0.454545\n",
       "max         1.417657\n",
       "Name: vaso_total, dtype: float64"
      ]
     },
     "execution_count": 63,
     "metadata": {},
     "output_type": "execute_result"
    }
   ],
   "source": [
    "selected_patients.vaso_total.describe()"
   ]
  },
  {
   "cell_type": "code",
   "execution_count": null,
   "metadata": {},
   "outputs": [],
   "source": []
  }
 ],
 "metadata": {
  "kernelspec": {
   "display_name": "Python 3 (ipykernel)",
   "language": "python",
   "name": "python3"
  },
  "language_info": {
   "codemirror_mode": {
    "name": "ipython",
    "version": 3
   },
   "file_extension": ".py",
   "mimetype": "text/x-python",
   "name": "python",
   "nbconvert_exporter": "python",
   "pygments_lexer": "ipython3",
   "version": "3.11.0"
  }
 },
 "nbformat": 4,
 "nbformat_minor": 4
}
